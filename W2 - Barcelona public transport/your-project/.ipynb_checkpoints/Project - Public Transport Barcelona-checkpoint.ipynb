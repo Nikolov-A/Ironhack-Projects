{
 "cells": [
  {
   "cell_type": "code",
   "execution_count": 1,
   "id": "d8f605fe",
   "metadata": {
    "cell_id": "00000-8fe4a327-fc9a-4e67-8616-9ccb83f3e890",
    "deepnote_cell_type": "code",
    "deepnote_to_be_reexecuted": false,
    "execution_millis": 0,
    "execution_start": 1623403009542,
    "source_hash": "f25bd425"
   },
   "outputs": [],
   "source": [
    "import numpy as np\n",
    "import pandas as pd\n"
   ]
  },
  {
   "cell_type": "markdown",
   "id": "c1ba8533",
   "metadata": {
    "cell_id": "00001-9f50f47b-bc1e-427e-8186-e545021cf40a",
    "deepnote_cell_type": "markdown",
    "tags": []
   },
   "source": [
    "## Sights"
   ]
  },
  {
   "cell_type": "code",
   "execution_count": 2,
   "id": "240a9cd6",
   "metadata": {
    "cell_id": "00003-37cdbc42-3273-4299-a369-fcb6f6300ce5",
    "deepnote_cell_type": "code",
    "deepnote_to_be_reexecuted": false,
    "execution_millis": 48,
    "execution_start": 1623403009543,
    "source_hash": "c777da63",
    "tags": []
   },
   "outputs": [
    {
     "data": {
      "application/vnd.deepnote.dataframe.v2+json": {
       "column_count": 2,
       "columns": [
        {
         "dtype": "object",
         "name": "Sightseeings",
         "stats": {
          "categories": [
           {
            "count": 1,
            "name": "Sagrada Família"
           },
           {
            "count": 1,
            "name": "Park Güell"
           },
           {
            "count": 7,
            "name": "7 others"
           }
          ],
          "nan_count": 0,
          "unique_count": 9
         }
        },
        {
         "dtype": "object",
         "name": "District.Name",
         "stats": {
          "categories": [
           {
            "count": 4,
            "name": "Ciutat Vella"
           },
           {
            "count": 3,
            "name": "Eixample"
           },
           {
            "count": 2,
            "name": "2 others"
           }
          ],
          "nan_count": 0,
          "unique_count": 4
         }
        },
        {
         "dtype": "int64",
         "name": "_deepnote_index_column"
        }
       ],
       "row_count": 9,
       "rows_bottom": null,
       "rows_top": [
        {
         "District.Name": "Eixample",
         "Sightseeings": "Sagrada Família",
         "_deepnote_index_column": 0
        },
        {
         "District.Name": "Gràcia",
         "Sightseeings": "Park Güell",
         "_deepnote_index_column": 1
        },
        {
         "District.Name": "Eixample",
         "Sightseeings": "Casa Milà",
         "_deepnote_index_column": 2
        },
        {
         "District.Name": "Eixample",
         "Sightseeings": "Caso Batlló",
         "_deepnote_index_column": 3
        },
        {
         "District.Name": "Ciutat Vella",
         "Sightseeings": "La Rambla",
         "_deepnote_index_column": 4
        },
        {
         "District.Name": "Ciutat Vella",
         "Sightseeings": "Museu Picasso",
         "_deepnote_index_column": 5
        },
        {
         "District.Name": "Ciutat Vella",
         "Sightseeings": "La Catedral",
         "_deepnote_index_column": 6
        },
        {
         "District.Name": "Les Corts",
         "Sightseeings": "Camp Nou",
         "_deepnote_index_column": 7
        },
        {
         "District.Name": "Ciutat Vella",
         "Sightseeings": "Mercat de la Boqueria",
         "_deepnote_index_column": 8
        }
       ]
      },
      "text/html": [
       "<div>\n",
       "<style scoped>\n",
       "    .dataframe tbody tr th:only-of-type {\n",
       "        vertical-align: middle;\n",
       "    }\n",
       "\n",
       "    .dataframe tbody tr th {\n",
       "        vertical-align: top;\n",
       "    }\n",
       "\n",
       "    .dataframe thead th {\n",
       "        text-align: right;\n",
       "    }\n",
       "</style>\n",
       "<table border=\"1\" class=\"dataframe\">\n",
       "  <thead>\n",
       "    <tr style=\"text-align: right;\">\n",
       "      <th></th>\n",
       "      <th>Sightseeings</th>\n",
       "      <th>District.Name</th>\n",
       "    </tr>\n",
       "  </thead>\n",
       "  <tbody>\n",
       "    <tr>\n",
       "      <th>0</th>\n",
       "      <td>Sagrada Família</td>\n",
       "      <td>Eixample</td>\n",
       "    </tr>\n",
       "    <tr>\n",
       "      <th>1</th>\n",
       "      <td>Park Güell</td>\n",
       "      <td>Gràcia</td>\n",
       "    </tr>\n",
       "    <tr>\n",
       "      <th>2</th>\n",
       "      <td>Casa Milà</td>\n",
       "      <td>Eixample</td>\n",
       "    </tr>\n",
       "    <tr>\n",
       "      <th>3</th>\n",
       "      <td>Caso Batlló</td>\n",
       "      <td>Eixample</td>\n",
       "    </tr>\n",
       "    <tr>\n",
       "      <th>4</th>\n",
       "      <td>La Rambla</td>\n",
       "      <td>Ciutat Vella</td>\n",
       "    </tr>\n",
       "    <tr>\n",
       "      <th>5</th>\n",
       "      <td>Museu Picasso</td>\n",
       "      <td>Ciutat Vella</td>\n",
       "    </tr>\n",
       "    <tr>\n",
       "      <th>6</th>\n",
       "      <td>La Catedral</td>\n",
       "      <td>Ciutat Vella</td>\n",
       "    </tr>\n",
       "    <tr>\n",
       "      <th>7</th>\n",
       "      <td>Camp Nou</td>\n",
       "      <td>Les Corts</td>\n",
       "    </tr>\n",
       "    <tr>\n",
       "      <th>8</th>\n",
       "      <td>Mercat de la Boqueria</td>\n",
       "      <td>Ciutat Vella</td>\n",
       "    </tr>\n",
       "  </tbody>\n",
       "</table>\n",
       "</div>"
      ],
      "text/plain": [
       "            Sightseeings District.Name\n",
       "0        Sagrada Família      Eixample\n",
       "1             Park Güell        Gràcia\n",
       "2              Casa Milà      Eixample\n",
       "3            Caso Batlló      Eixample\n",
       "4              La Rambla  Ciutat Vella\n",
       "5          Museu Picasso  Ciutat Vella\n",
       "6            La Catedral  Ciutat Vella\n",
       "7               Camp Nou     Les Corts\n",
       "8  Mercat de la Boqueria  Ciutat Vella"
      ]
     },
     "execution_count": 2,
     "metadata": {},
     "output_type": "execute_result"
    }
   ],
   "source": [
    "sights = pd.read_csv(r\"/work/datasets/Sights.csv\", sep=\";\")\n",
    "sights"
   ]
  },
  {
   "cell_type": "markdown",
   "id": "56655134",
   "metadata": {
    "cell_id": "00001-01b73f65-f1fd-4ae2-a783-7e5156dc8e43",
    "deepnote_cell_type": "markdown",
    "tags": []
   },
   "source": [
    "## Bus stops"
   ]
  },
  {
   "cell_type": "code",
   "execution_count": 3,
   "id": "0a0a7318",
   "metadata": {
    "cell_id": "00001-33ff420a-f9ec-4dff-9333-49f83f79b9d0",
    "deepnote_cell_type": "code",
    "deepnote_to_be_reexecuted": false,
    "execution_millis": 83,
    "execution_start": 1623403009587,
    "source_hash": "6c2bef84",
    "tags": []
   },
   "outputs": [
    {
     "data": {
      "application/vnd.deepnote.dataframe.v2+json": {
       "column_count": 7,
       "columns": [
        {
         "dtype": "object",
         "name": "Code",
         "stats": {
          "categories": [
           {
            "count": 2324,
            "name": "K014"
           },
           {
            "count": 828,
            "name": "K015"
           },
           {
            "count": 10,
            "name": "2 others"
           }
          ],
          "nan_count": 0,
          "unique_count": 4
         }
        },
        {
         "dtype": "object",
         "name": "Transport",
         "stats": {
          "categories": [
           {
            "count": 2324,
            "name": "Day bus stop"
           },
           {
            "count": 828,
            "name": "Night bus stop"
           },
           {
            "count": 10,
            "name": "2 others"
           }
          ],
          "nan_count": 0,
          "unique_count": 4
         }
        },
        {
         "dtype": "float64",
         "name": "Longitude",
         "stats": {
          "histogram": [
           {
            "bin_end": 2.0724268,
            "bin_start": 2.055835,
            "count": 2
           },
           {
            "bin_end": 2.0890186,
            "bin_start": 2.0724268,
            "count": 8
           },
           {
            "bin_end": 2.1056104,
            "bin_start": 2.0890186,
            "count": 102
           },
           {
            "bin_end": 2.1222022000000003,
            "bin_start": 2.1056104,
            "count": 186
           },
           {
            "bin_end": 2.138794,
            "bin_start": 2.1222022000000003,
            "count": 421
           },
           {
            "bin_end": 2.1553858,
            "bin_start": 2.138794,
            "count": 644
           },
           {
            "bin_end": 2.1719776,
            "bin_start": 2.1553858,
            "count": 639
           },
           {
            "bin_end": 2.1885694,
            "bin_start": 2.1719776,
            "count": 655
           },
           {
            "bin_end": 2.2051612,
            "bin_start": 2.1885694,
            "count": 371
           },
           {
            "bin_end": 2.221753,
            "bin_start": 2.2051612,
            "count": 134
           }
          ],
          "max": "2.221753",
          "min": "2.055835",
          "nan_count": 0,
          "unique_count": 2358
         }
        },
        {
         "dtype": "float64",
         "name": "Latitude",
         "stats": {
          "histogram": [
           {
            "bin_end": 41.3362379,
            "bin_start": 41.321643,
            "count": 62
           },
           {
            "bin_end": 41.3508328,
            "bin_start": 41.3362379,
            "count": 33
           },
           {
            "bin_end": 41.365427700000005,
            "bin_start": 41.3508328,
            "count": 103
           },
           {
            "bin_end": 41.380022600000004,
            "bin_start": 41.365427700000005,
            "count": 348
           },
           {
            "bin_end": 41.3946175,
            "bin_start": 41.380022600000004,
            "count": 588
           },
           {
            "bin_end": 41.4092124,
            "bin_start": 41.3946175,
            "count": 566
           },
           {
            "bin_end": 41.4238073,
            "bin_start": 41.4092124,
            "count": 679
           },
           {
            "bin_end": 41.438402200000006,
            "bin_start": 41.4238073,
            "count": 424
           },
           {
            "bin_end": 41.452997100000005,
            "bin_start": 41.438402200000006,
            "count": 244
           },
           {
            "bin_end": 41.467592,
            "bin_start": 41.452997100000005,
            "count": 115
           }
          ],
          "max": "41.467592",
          "min": "41.321643",
          "nan_count": 0,
          "unique_count": 2343
         }
        },
        {
         "dtype": "object",
         "name": "Bus.Stop",
         "stats": {
          "categories": [
           {
            "count": 81,
            "name": "NITBUS -N4--"
           },
           {
            "count": 71,
            "name": "NITBUS -N3--"
           },
           {
            "count": 3010,
            "name": "709 others"
           }
          ],
          "nan_count": 0,
          "unique_count": 711
         }
        },
        {
         "dtype": "object",
         "name": "District.Name",
         "stats": {
          "categories": [
           {
            "count": 439,
            "name": "Sarrià-Sant Gervasi"
           },
           {
            "count": 2707,
            "name": "9 others"
           },
           {
            "count": 16,
            "name": "Missing"
           }
          ],
          "nan_count": 16,
          "unique_count": 10
         }
        },
        {
         "dtype": "object",
         "name": "Neighborhood.Name",
         "stats": {
          "categories": [
           {
            "count": 137,
            "name": "la Dreta de l'Eixample"
           },
           {
            "count": 3009,
            "name": "72 others"
           },
           {
            "count": 16,
            "name": "Missing"
           }
          ],
          "nan_count": 16,
          "unique_count": 73
         }
        },
        {
         "dtype": "int64",
         "name": "_deepnote_index_column"
        }
       ],
       "row_count": 3162,
       "rows_bottom": [
        {
         "Bus.Stop": "BUS -7--",
         "Code": "K014",
         "District.Name": "Sant Martí",
         "Latitude": 41.404202,
         "Longitude": 2.191211,
         "Neighborhood.Name": "el Parc i la Llacuna del Poblenou",
         "Transport": "Day bus stop",
         "_deepnote_index_column": 3091
        },
        {
         "Bus.Stop": "NITBUS -N6-N7--",
         "Code": "K015",
         "District.Name": "Sant Martí",
         "Latitude": 41.409196,
         "Longitude": 2.20957,
         "Neighborhood.Name": "Diagonal Mar i el Front Marítim del Poblenou",
         "Transport": "Night bus stop",
         "_deepnote_index_column": 3092
        },
        {
         "Bus.Stop": "NITBUS -N9--",
         "Code": "K015",
         "District.Name": "Sant Andreu",
         "Latitude": 41.433501,
         "Longitude": 2.192448,
         "Neighborhood.Name": "Sant Andreu",
         "Transport": "Night bus stop",
         "_deepnote_index_column": 3093
        },
        {
         "Bus.Stop": "BUS -55-H16-D50--",
         "Code": "K014",
         "District.Name": "Eixample",
         "Latitude": 41.387789,
         "Longitude": 2.169341,
         "Neighborhood.Name": "la Dreta de l'Eixample",
         "Transport": "Day bus stop",
         "_deepnote_index_column": 3094
        },
        {
         "Bus.Stop": "BUS -24-92--",
         "Code": "K014",
         "District.Name": "Horta-Guinardó",
         "Latitude": 41.416824,
         "Longitude": 2.158825,
         "Neighborhood.Name": "el Carmel",
         "Transport": "Day bus stop",
         "_deepnote_index_column": 3095
        },
        {
         "Bus.Stop": "NITBUS -N2-N3-N9--",
         "Code": "K015",
         "District.Name": "Eixample",
         "Latitude": 41.395082,
         "Longitude": 2.176304,
         "Neighborhood.Name": "el Fort Pienc",
         "Transport": "Night bus stop",
         "_deepnote_index_column": 3096
        },
        {
         "Bus.Stop": "BUS -B25-B20-136--",
         "Code": "K014",
         "District.Name": "Sant Martí",
         "Latitude": 41.400097,
         "Longitude": 2.201045,
         "Neighborhood.Name": "el Poblenou",
         "Transport": "Day bus stop",
         "_deepnote_index_column": 3097
        },
        {
         "Bus.Stop": "BUS -V21-H16-136--",
         "Code": "K014",
         "District.Name": "Sant Martí",
         "Latitude": 41.390944,
         "Longitude": 2.192247,
         "Neighborhood.Name": "la Vila Olímpica del Poblenou",
         "Transport": "Day bus stop",
         "_deepnote_index_column": 3098
        },
        {
         "Bus.Stop": "BUS -111--",
         "Code": "K014",
         "District.Name": "Sarrià-Sant Gervasi",
         "Latitude": 41.418891,
         "Longitude": 2.11673,
         "Neighborhood.Name": "Vallvidrera, el Tibidabo i les Planes",
         "Transport": "Day bus stop",
         "_deepnote_index_column": 3099
        },
        {
         "Bus.Stop": "BUS -59-92-V21-V27-136--",
         "Code": "K014",
         "District.Name": "Sant Martí",
         "Latitude": 41.388478,
         "Longitude": 2.193718,
         "Neighborhood.Name": "la Vila Olímpica del Poblenou",
         "Transport": "Day bus stop",
         "_deepnote_index_column": 3100
        },
        {
         "Bus.Stop": "BUS -39-45-47-H8--",
         "Code": "K014",
         "District.Name": "Eixample",
         "Latitude": 41.399796,
         "Longitude": 2.166016,
         "Neighborhood.Name": "la Dreta de l'Eixample",
         "Transport": "Day bus stop",
         "_deepnote_index_column": 3101
        },
        {
         "Bus.Stop": "BUS -H6--",
         "Code": "K014",
         "District.Name": "Sarrià-Sant Gervasi",
         "Latitude": 41.401119,
         "Longitude": 2.136297,
         "Neighborhood.Name": "Sant Gervasi - Galvany",
         "Transport": "Day bus stop",
         "_deepnote_index_column": 3102
        },
        {
         "Bus.Stop": "NITBUS -N5--",
         "Code": "K015",
         "District.Name": "Gràcia",
         "Latitude": 41.413297,
         "Longitude": 2.144808,
         "Neighborhood.Name": "Vallcarca i els Penitents",
         "Transport": "Night bus stop",
         "_deepnote_index_column": 3103
        },
        {
         "Bus.Stop": "BUS -24-92-116--",
         "Code": "K014",
         "District.Name": "Gràcia",
         "Latitude": 41.413219,
         "Longitude": 2.160785,
         "Neighborhood.Name": "la Salut",
         "Transport": "Day bus stop",
         "_deepnote_index_column": 3104
        },
        {
         "Bus.Stop": "BUS -60-V31--",
         "Code": "K014",
         "District.Name": "Sant Andreu",
         "Latitude": 41.444675,
         "Longitude": 2.189153,
         "Neighborhood.Name": "Sant Andreu",
         "Transport": "Day bus stop",
         "_deepnote_index_column": 3105
        },
        {
         "Bus.Stop": "NITBUS -N6--",
         "Code": "K015",
         "District.Name": "Nou Barris",
         "Latitude": 41.444914,
         "Longitude": 2.174651,
         "Neighborhood.Name": "les Roquetes",
         "Transport": "Night bus stop",
         "_deepnote_index_column": 3106
        },
        {
         "Bus.Stop": "BUS -33-34-62-B24-H10--",
         "Code": "K014",
         "District.Name": "Sant Martí",
         "Latitude": 41.407328,
         "Longitude": 2.184917,
         "Neighborhood.Name": "el Camp de l'Arpa del Clot",
         "Transport": "Day bus stop",
         "_deepnote_index_column": 3107
        },
        {
         "Bus.Stop": "NITBUS -N2--",
         "Code": "K015",
         "District.Name": "Sant Martí",
         "Latitude": 41.409594,
         "Longitude": 2.194861,
         "Neighborhood.Name": "el Clot",
         "Transport": "Night bus stop",
         "_deepnote_index_column": 3108
        },
        {
         "Bus.Stop": "NITBUS -N0-N6--",
         "Code": "K015",
         "District.Name": "Sants-Montjuïc",
         "Latitude": 41.374563,
         "Longitude": 2.174655,
         "Neighborhood.Name": "el Poble-sec",
         "Transport": "Night bus stop",
         "_deepnote_index_column": 3109
        },
        {
         "Bus.Stop": "NITBUS -N6--",
         "Code": "K015",
         "District.Name": "Horta-Guinardó",
         "Latitude": 41.416081,
         "Longitude": 2.169914,
         "Neighborhood.Name": "el Guinardó",
         "Transport": "Night bus stop",
         "_deepnote_index_column": 3110
        },
        {
         "Bus.Stop": "NITBUS -N6--",
         "Code": "K015",
         "District.Name": "Sant Martí",
         "Latitude": 41.405262,
         "Longitude": 2.205261,
         "Neighborhood.Name": "el Poblenou",
         "Transport": "Night bus stop",
         "_deepnote_index_column": 3111
        },
        {
         "Bus.Stop": "NITBUS -N3--",
         "Code": "K015",
         "District.Name": "Nou Barris",
         "Latitude": 41.435659,
         "Longitude": 2.183824,
         "Neighborhood.Name": "Porta",
         "Transport": "Night bus stop",
         "_deepnote_index_column": 3112
        },
        {
         "Bus.Stop": "BUS -22-24-V17--",
         "Code": "K014",
         "District.Name": "Sarrià-Sant Gervasi",
         "Latitude": 41.39644,
         "Longitude": 2.155067,
         "Neighborhood.Name": "Sant Gervasi - Galvany",
         "Transport": "Day bus stop",
         "_deepnote_index_column": 3113
        },
        {
         "Bus.Stop": "BUS -V15--",
         "Code": "K014",
         "District.Name": "Sarrià-Sant Gervasi",
         "Latitude": 41.395806,
         "Longitude": 2.154047,
         "Neighborhood.Name": "Sant Gervasi - Galvany",
         "Transport": "Day bus stop",
         "_deepnote_index_column": 3114
        },
        {
         "Bus.Stop": "BUS -39-117--",
         "Code": "K014",
         "District.Name": "Horta-Guinardó",
         "Latitude": 41.423742,
         "Longitude": 2.16498,
         "Neighborhood.Name": "la Font d'en Fargues",
         "Transport": "Day bus stop",
         "_deepnote_index_column": 3115
        },
        {
         "Bus.Stop": "BUS -109-V3-H16--",
         "Code": "K014",
         "District.Name": "Sants-Montjuïc",
         "Latitude": 41.360007,
         "Longitude": 2.139356,
         "Neighborhood.Name": "la Marina de Port",
         "Transport": "Day bus stop",
         "_deepnote_index_column": 3116
        },
        {
         "Bus.Stop": "BUS -24-H6-D40--",
         "Code": "K014",
         "District.Name": "Gràcia",
         "Latitude": 41.410489,
         "Longitude": 2.156657,
         "Neighborhood.Name": "la Salut",
         "Transport": "Day bus stop",
         "_deepnote_index_column": 3117
        },
        {
         "Bus.Stop": "BUS -V11--",
         "Code": "K014",
         "District.Name": "Eixample",
         "Latitude": 41.382707,
         "Longitude": 2.157991,
         "Neighborhood.Name": "l'Antiga Esquerra de l'Eixample",
         "Transport": "Day bus stop",
         "_deepnote_index_column": 3118
        },
        {
         "Bus.Stop": "NITBUS -N1-N4--",
         "Code": "K015",
         "District.Name": "Eixample",
         "Latitude": 41.395499,
         "Longitude": 2.175296,
         "Neighborhood.Name": "la Dreta de l'Eixample",
         "Transport": "Night bus stop",
         "_deepnote_index_column": 3119
        },
        {
         "Bus.Stop": "BUS -V21--",
         "Code": "K014",
         "District.Name": "Sant Martí",
         "Latitude": 41.394185,
         "Longitude": 2.187573,
         "Neighborhood.Name": "el Parc i la Llacuna del Poblenou",
         "Transport": "Day bus stop",
         "_deepnote_index_column": 3120
        },
        {
         "Bus.Stop": "NITBUS -N1--",
         "Code": "K015",
         "District.Name": "Sants-Montjuïc",
         "Latitude": 41.358041,
         "Longitude": 2.140775,
         "Neighborhood.Name": "la Marina de Port",
         "Transport": "Night bus stop",
         "_deepnote_index_column": 3121
        },
        {
         "Bus.Stop": "BUS -60-130--",
         "Code": "K014",
         "District.Name": "Sarrià-Sant Gervasi",
         "Latitude": 41.401867,
         "Longitude": 2.114389,
         "Neighborhood.Name": "Sarrià",
         "Transport": "Day bus stop",
         "_deepnote_index_column": 3122
        },
        {
         "Bus.Stop": "BUS -76--",
         "Code": "K014",
         "District.Name": "Horta-Guinardó",
         "Latitude": 41.429186,
         "Longitude": 2.138042,
         "Neighborhood.Name": "Sant Genís dels Agudells",
         "Transport": "Day bus stop",
         "_deepnote_index_column": 3123
        },
        {
         "Bus.Stop": "BUS -122--",
         "Code": "K014",
         "District.Name": "Nou Barris",
         "Latitude": 41.42867,
         "Longitude": 2.16852,
         "Neighborhood.Name": "Vilapicina i la Torre Llobeta",
         "Transport": "Day bus stop",
         "_deepnote_index_column": 3124
        },
        {
         "Bus.Stop": "BUS -123--",
         "Code": "K014",
         "District.Name": "Sarrià-Sant Gervasi",
         "Latitude": 41.403985,
         "Longitude": 2.126437,
         "Neighborhood.Name": "Sant Gervasi - la Bonanova",
         "Transport": "Day bus stop",
         "_deepnote_index_column": 3125
        },
        {
         "Bus.Stop": "BUS -67-L97-L79-E43--",
         "Code": "K014",
         "District.Name": "Les Corts",
         "Latitude": 41.384771,
         "Longitude": 2.112922,
         "Neighborhood.Name": "Pedralbes",
         "Transport": "Day bus stop",
         "_deepnote_index_column": 3126
        },
        {
         "Bus.Stop": "BUS -7-33-67-75-L14--",
         "Code": "K014",
         "District.Name": "Les Corts",
         "Latitude": 41.385858,
         "Longitude": 2.118883,
         "Neighborhood.Name": "la Maternitat i Sant Ramon",
         "Transport": "Day bus stop",
         "_deepnote_index_column": 3127
        },
        {
         "Bus.Stop": "BUS -54--",
         "Code": "K014",
         "District.Name": "Les Corts",
         "Latitude": 41.378951,
         "Longitude": 2.118078,
         "Neighborhood.Name": "la Maternitat i Sant Ramon",
         "Transport": "Day bus stop",
         "_deepnote_index_column": 3128
        },
        {
         "Bus.Stop": "BUS -13--",
         "Code": "K014",
         "District.Name": "Sants-Montjuïc",
         "Latitude": 41.362776,
         "Longitude": 2.156727,
         "Neighborhood.Name": "el Poble-sec",
         "Transport": "Day bus stop",
         "_deepnote_index_column": 3129
        },
        {
         "Bus.Stop": "BUS -60--",
         "Code": "K014",
         "District.Name": "Sant Andreu",
         "Latitude": 41.43521,
         "Longitude": 2.200961,
         "Neighborhood.Name": "el Bon Pastor",
         "Transport": "Day bus stop",
         "_deepnote_index_column": 3130
        },
        {
         "Bus.Stop": "BUS -11-H4-M28--",
         "Code": "K014",
         "District.Name": "Sant Andreu",
         "Latitude": 41.436906,
         "Longitude": 2.196185,
         "Neighborhood.Name": "el Bon Pastor",
         "Transport": "Day bus stop",
         "_deepnote_index_column": 3131
        },
        {
         "Bus.Stop": "BUS -118--",
         "Code": "K014",
         "District.Name": "Sarrià-Sant Gervasi",
         "Latitude": 41.423978,
         "Longitude": 2.090677,
         "Neighborhood.Name": "Vallvidrera, el Tibidabo i les Planes",
         "Transport": "Day bus stop",
         "_deepnote_index_column": 3132
        },
        {
         "Bus.Stop": "BUS -39--",
         "Code": "K014",
         "District.Name": "Horta-Guinardó",
         "Latitude": 41.42902,
         "Longitude": 2.157268,
         "Neighborhood.Name": "el Carmel",
         "Transport": "Day bus stop",
         "_deepnote_index_column": 3133
        },
        {
         "Bus.Stop": "BUS -39--",
         "Code": "K014",
         "District.Name": "Horta-Guinardó",
         "Latitude": 41.423131,
         "Longitude": 2.158672,
         "Neighborhood.Name": "la Font d'en Fargues",
         "Transport": "Day bus stop",
         "_deepnote_index_column": 3134
        },
        {
         "Bus.Stop": "BUS -7--",
         "Code": "K014",
         "District.Name": "Sant Martí",
         "Latitude": 41.40527,
         "Longitude": 2.195481,
         "Neighborhood.Name": "el Poblenou",
         "Transport": "Day bus stop",
         "_deepnote_index_column": 3135
        },
        {
         "Bus.Stop": "BUS -H16--",
         "Code": "K014",
         "District.Name": "Sant Martí",
         "Latitude": 41.407061,
         "Longitude": 2.215347,
         "Neighborhood.Name": "Diagonal Mar i el Front Marítim del Poblenou",
         "Transport": "Day bus stop",
         "_deepnote_index_column": 3136
        },
        {
         "Bus.Stop": "NITBUS -N6--",
         "Code": "K015",
         "District.Name": "Sant Martí",
         "Latitude": 41.409137,
         "Longitude": 2.213026,
         "Neighborhood.Name": "Diagonal Mar i el Front Marítim del Poblenou",
         "Transport": "Night bus stop",
         "_deepnote_index_column": 3137
        },
        {
         "Bus.Stop": "BUS -27-47-60-122-127-V27--",
         "Code": "K014",
         "District.Name": "Nou Barris",
         "Latitude": 41.443004,
         "Longitude": 2.169648,
         "Neighborhood.Name": "Canyelles",
         "Transport": "Day bus stop",
         "_deepnote_index_column": 3138
        },
        {
         "Bus.Stop": "BUS -150--",
         "Code": "K014",
         "District.Name": "Sants-Montjuïc",
         "Latitude": 41.367957,
         "Longitude": 2.168902,
         "Neighborhood.Name": "el Poble-sec",
         "Transport": "Day bus stop",
         "_deepnote_index_column": 3139
        },
        {
         "Bus.Stop": "BUS -62-76-D50--",
         "Code": "K014",
         "District.Name": "Nou Barris",
         "Latitude": 41.461274,
         "Longitude": 2.180409,
         "Neighborhood.Name": "Ciutat Meridiana",
         "Transport": "Day bus stop",
         "_deepnote_index_column": 3140
        },
        {
         "Bus.Stop": "BUS -62-76-104-83-D50--",
         "Code": "K014",
         "District.Name": "Nou Barris",
         "Latitude": 41.461602,
         "Longitude": 2.178518,
         "Neighborhood.Name": "Ciutat Meridiana",
         "Transport": "Day bus stop",
         "_deepnote_index_column": 3141
        },
        {
         "Bus.Stop": "BUS -19--",
         "Code": "K014",
         "District.Name": "Horta-Guinardó",
         "Latitude": 41.425559,
         "Longitude": 2.153646,
         "Neighborhood.Name": "el Carmel",
         "Transport": "Day bus stop",
         "_deepnote_index_column": 3142
        },
        {
         "Bus.Stop": "BUS -114--",
         "Code": "K014",
         "District.Name": "Horta-Guinardó",
         "Latitude": 41.415711,
         "Longitude": 2.167085,
         "Neighborhood.Name": "Can Baró",
         "Transport": "Day bus stop",
         "_deepnote_index_column": 3143
        },
        {
         "Bus.Stop": "BUS -114--",
         "Code": "K014",
         "District.Name": "Horta-Guinardó",
         "Latitude": 41.416488,
         "Longitude": 2.16618,
         "Neighborhood.Name": "Can Baró",
         "Transport": "Day bus stop",
         "_deepnote_index_column": 3144
        },
        {
         "Bus.Stop": "BUS -132--",
         "Code": "K014",
         "District.Name": "Nou Barris",
         "Latitude": 41.435067,
         "Longitude": 2.175908,
         "Neighborhood.Name": "Porta",
         "Transport": "Day bus stop",
         "_deepnote_index_column": 3145
        },
        {
         "Bus.Stop": "NITBUS -N11-N8--",
         "Code": "K015",
         "District.Name": "Sant Martí",
         "Latitude": 41.40013,
         "Longitude": 2.191098,
         "Neighborhood.Name": "el Parc i la Llacuna del Poblenou",
         "Transport": "Night bus stop",
         "_deepnote_index_column": 3146
        },
        {
         "Bus.Stop": "BUS -112--",
         "Code": "K014",
         "District.Name": "Horta-Guinardó",
         "Latitude": 41.426764,
         "Longitude": 2.134963,
         "Neighborhood.Name": "Sant Genís dels Agudells",
         "Transport": "Day bus stop",
         "_deepnote_index_column": 3147
        },
        {
         "Bus.Stop": "BUS -114--",
         "Code": "K014",
         "District.Name": "Gràcia",
         "Latitude": 41.400682,
         "Longitude": 2.156861,
         "Neighborhood.Name": "la Vila de Gràcia",
         "Transport": "Day bus stop",
         "_deepnote_index_column": 3148
        },
        {
         "Bus.Stop": "BUS -126--",
         "Code": "K014",
         "District.Name": "Sant Andreu",
         "Latitude": 41.422917,
         "Longitude": 2.186186,
         "Neighborhood.Name": "la Sagrera",
         "Transport": "Day bus stop",
         "_deepnote_index_column": 3149
        },
        {
         "Bus.Stop": "BUS -125-V5--",
         "Code": "K014",
         "District.Name": "Sants-Montjuïc",
         "Latitude": 41.363957,
         "Longitude": 2.139204,
         "Neighborhood.Name": "la Marina de Port",
         "Transport": "Day bus stop",
         "_deepnote_index_column": 3150
        },
        {
         "Bus.Stop": "BUS -125--",
         "Code": "K014",
         "District.Name": "Sants-Montjuïc",
         "Latitude": 41.359529,
         "Longitude": 2.136309,
         "Neighborhood.Name": "la Marina de Port",
         "Transport": "Day bus stop",
         "_deepnote_index_column": 3151
        },
        {
         "Bus.Stop": "NITBUS -N6--",
         "Code": "K015",
         "District.Name": "Sant Martí",
         "Latitude": 41.408138,
         "Longitude": 2.209107,
         "Neighborhood.Name": "Diagonal Mar i el Front Marítim del Poblenou",
         "Transport": "Night bus stop",
         "_deepnote_index_column": 3152
        },
        {
         "Bus.Stop": "BUS -128--",
         "Code": "K014",
         "District.Name": "Sarrià-Sant Gervasi",
         "Latitude": 41.428841,
         "Longitude": 2.098853,
         "Neighborhood.Name": "Vallvidrera, el Tibidabo i les Planes",
         "Transport": "Day bus stop",
         "_deepnote_index_column": 3153
        },
        {
         "Bus.Stop": "BUS -128--",
         "Code": "K014",
         "District.Name": "Sarrià-Sant Gervasi",
         "Latitude": 41.429401,
         "Longitude": 2.096273,
         "Neighborhood.Name": "Vallvidrera, el Tibidabo i les Planes",
         "Transport": "Day bus stop",
         "_deepnote_index_column": 3154
        },
        {
         "Bus.Stop": "BUS -125--",
         "Code": "K014",
         "District.Name": "Sants-Montjuïc",
         "Latitude": 41.363219,
         "Longitude": 2.145507,
         "Neighborhood.Name": "la Marina de Port",
         "Transport": "Day bus stop",
         "_deepnote_index_column": 3155
        },
        {
         "Bus.Stop": "BUS -68-75-H4--",
         "Code": "K014",
         "District.Name": "Sarrià-Sant Gervasi",
         "Latitude": 41.398514,
         "Longitude": 2.118484,
         "Neighborhood.Name": "Sarrià",
         "Transport": "Day bus stop",
         "_deepnote_index_column": 3156
        },
        {
         "Bus.Stop": "BUS -191--",
         "Code": "K014",
         "District.Name": "Sant Andreu",
         "Latitude": 41.422024,
         "Longitude": 2.183887,
         "Neighborhood.Name": "el Congrés i els Indians",
         "Transport": "Day bus stop",
         "_deepnote_index_column": 3157
        },
        {
         "Bus.Stop": "BUS -127-81--",
         "Code": "K014",
         "District.Name": "Nou Barris",
         "Latitude": 41.446419,
         "Longitude": 2.17671,
         "Neighborhood.Name": "les Roquetes",
         "Transport": "Day bus stop",
         "_deepnote_index_column": 3158
        },
        {
         "Bus.Stop": "NITBUS -N4--",
         "Code": "K015",
         "District.Name": "Gràcia",
         "Latitude": 41.411446,
         "Longitude": 2.144596,
         "Neighborhood.Name": "Vallcarca i els Penitents",
         "Transport": "Night bus stop",
         "_deepnote_index_column": 3159
        },
        {
         "Bus.Stop": "BUS -91-115-V5--",
         "Code": "K014",
         "District.Name": "Sants-Montjuïc",
         "Latitude": 41.371176,
         "Longitude": 2.142256,
         "Neighborhood.Name": "la Bordeta",
         "Transport": "Day bus stop",
         "_deepnote_index_column": 3160
        },
        {
         "Bus.Stop": "NITBUS -N7--",
         "Code": "K015",
         "District.Name": "Sarrià-Sant Gervasi",
         "Latitude": 41.398495,
         "Longitude": 2.134932,
         "Neighborhood.Name": "Sant Gervasi - Galvany",
         "Transport": "Night bus stop",
         "_deepnote_index_column": 3161
        }
       ],
       "rows_top": [
        {
         "Bus.Stop": "BUS -192--",
         "Code": "K014",
         "District.Name": "Horta-Guinardó",
         "Latitude": 41.413744,
         "Longitude": 2.171619,
         "Neighborhood.Name": "el Guinardó",
         "Transport": "Day bus stop",
         "_deepnote_index_column": 0
        },
        {
         "Bus.Stop": "BUS -124--",
         "Code": "K014",
         "District.Name": "Gràcia",
         "Latitude": 41.420222,
         "Longitude": 2.134902,
         "Neighborhood.Name": "Vallcarca i els Penitents",
         "Transport": "Day bus stop",
         "_deepnote_index_column": 1
        },
        {
         "Bus.Stop": "BUS -117--",
         "Code": "K014",
         "District.Name": "Horta-Guinardó",
         "Latitude": 41.423187,
         "Longitude": 2.162913,
         "Neighborhood.Name": "la Font d'en Fargues",
         "Transport": "Day bus stop",
         "_deepnote_index_column": 2
        },
        {
         "Bus.Stop": "BUS -117--",
         "Code": "K014",
         "District.Name": "Horta-Guinardó",
         "Latitude": 41.422899,
         "Longitude": 2.163667,
         "Neighborhood.Name": "la Font d'en Fargues",
         "Transport": "Day bus stop",
         "_deepnote_index_column": 3
        },
        {
         "Bus.Stop": "BUS -130--",
         "Code": "K014",
         "District.Name": "Sarrià-Sant Gervasi",
         "Latitude": 41.397209,
         "Longitude": 2.120212,
         "Neighborhood.Name": "Sarrià",
         "Transport": "Day bus stop",
         "_deepnote_index_column": 4
        },
        {
         "Bus.Stop": "BUS -131--",
         "Code": "K014",
         "District.Name": "Sarrià-Sant Gervasi",
         "Latitude": 41.411079,
         "Longitude": 2.138941,
         "Neighborhood.Name": "el Putxet i el Farró",
         "Transport": "Day bus stop",
         "_deepnote_index_column": 5
        },
        {
         "Bus.Stop": "BUS -131--",
         "Code": "K014",
         "District.Name": "Sarrià-Sant Gervasi",
         "Latitude": 41.411505,
         "Longitude": 2.140984,
         "Neighborhood.Name": "el Putxet i el Farró",
         "Transport": "Day bus stop",
         "_deepnote_index_column": 6
        },
        {
         "Bus.Stop": "BUS -196--",
         "Code": "K014",
         "District.Name": "Sarrià-Sant Gervasi",
         "Latitude": 41.411343,
         "Longitude": 2.136365,
         "Neighborhood.Name": "Sant Gervasi - la Bonanova",
         "Transport": "Day bus stop",
         "_deepnote_index_column": 7
        },
        {
         "Bus.Stop": "BUS -V29--",
         "Code": "K014",
         "District.Name": "Sant Martí",
         "Latitude": 41.408116,
         "Longitude": 2.209794,
         "Neighborhood.Name": "Diagonal Mar i el Front Marítim del Poblenou",
         "Transport": "Day bus stop",
         "_deepnote_index_column": 8
        },
        {
         "Bus.Stop": "BUS -115--",
         "Code": "K014",
         "District.Name": "Sants-Montjuïc",
         "Latitude": 41.368237,
         "Longitude": 2.13297,
         "Neighborhood.Name": "la Bordeta",
         "Transport": "Day bus stop",
         "_deepnote_index_column": 9
        },
        {
         "Bus.Stop": "BUS -120--",
         "Code": "K014",
         "District.Name": "Ciutat Vella",
         "Latitude": 41.385247,
         "Longitude": 2.180286,
         "Neighborhood.Name": "Sant Pere, Santa Caterina i la Ribera",
         "Transport": "Day bus stop",
         "_deepnote_index_column": 10
        },
        {
         "Bus.Stop": "BUS -192--",
         "Code": "K014",
         "District.Name": "Sant Martí",
         "Latitude": 41.411736,
         "Longitude": 2.18556,
         "Neighborhood.Name": "el Camp de l'Arpa del Clot",
         "Transport": "Day bus stop",
         "_deepnote_index_column": 11
        },
        {
         "Bus.Stop": "BUS -119--",
         "Code": "K014",
         "District.Name": "Horta-Guinardó",
         "Latitude": 41.421356,
         "Longitude": 2.144268,
         "Neighborhood.Name": "la Teixonera",
         "Transport": "Day bus stop",
         "_deepnote_index_column": 12
        },
        {
         "Bus.Stop": "BUS -83--",
         "Code": "K014",
         "District.Name": "Nou Barris",
         "Latitude": 41.457757,
         "Longitude": 2.177296,
         "Neighborhood.Name": "Torre Baró",
         "Transport": "Day bus stop",
         "_deepnote_index_column": 13
        },
        {
         "Bus.Stop": "BUS -83--",
         "Code": "K014",
         "District.Name": "Nou Barris",
         "Latitude": 41.466136,
         "Longitude": 2.185879,
         "Neighborhood.Name": "Vallbona",
         "Transport": "Day bus stop",
         "_deepnote_index_column": 14
        },
        {
         "Bus.Stop": "BUS -83--",
         "Code": "K014",
         "District.Name": "Nou Barris",
         "Latitude": 41.465945,
         "Longitude": 2.180538,
         "Neighborhood.Name": "Vallbona",
         "Transport": "Day bus stop",
         "_deepnote_index_column": 15
        },
        {
         "Bus.Stop": "BUS -130-V3--",
         "Code": "K014",
         "District.Name": "Sarrià-Sant Gervasi",
         "Latitude": 41.400887,
         "Longitude": 2.112207,
         "Neighborhood.Name": "Sarrià",
         "Transport": "Day bus stop",
         "_deepnote_index_column": 16
        },
        {
         "Bus.Stop": "BUS -130--",
         "Code": "K014",
         "District.Name": "Sarrià-Sant Gervasi",
         "Latitude": 41.402203,
         "Longitude": 2.110323,
         "Neighborhood.Name": "Sarrià",
         "Transport": "Day bus stop",
         "_deepnote_index_column": 17
        },
        {
         "Bus.Stop": "BUS -117--",
         "Code": "K014",
         "District.Name": "Horta-Guinardó",
         "Latitude": 41.416974,
         "Longitude": 2.178023,
         "Neighborhood.Name": "el Guinardó",
         "Transport": "Day bus stop",
         "_deepnote_index_column": 18
        },
        {
         "Bus.Stop": "BUS -D20--",
         "Code": "K014",
         "District.Name": "Les Corts",
         "Latitude": 41.376834,
         "Longitude": 2.11423,
         "Neighborhood.Name": "la Maternitat i Sant Ramon",
         "Transport": "Day bus stop",
         "_deepnote_index_column": 19
        },
        {
         "Bus.Stop": "BUS -83--",
         "Code": "K014",
         "District.Name": "Nou Barris",
         "Latitude": 41.467054,
         "Longitude": 2.180181,
         "Neighborhood.Name": "Vallbona",
         "Transport": "Day bus stop",
         "_deepnote_index_column": 20
        },
        {
         "Bus.Stop": "BUS -80-81--",
         "Code": "K014",
         "District.Name": "Nou Barris",
         "Latitude": 41.453635,
         "Longitude": 2.186639,
         "Neighborhood.Name": "la Trinitat Nova",
         "Transport": "Day bus stop",
         "_deepnote_index_column": 21
        },
        {
         "Bus.Stop": "BUS -80-81--",
         "Code": "K014",
         "District.Name": "Nou Barris",
         "Latitude": 41.456531,
         "Longitude": 2.181365,
         "Neighborhood.Name": "Torre Baró",
         "Transport": "Day bus stop",
         "_deepnote_index_column": 22
        },
        {
         "Bus.Stop": "BUS -80-81--",
         "Code": "K014",
         "District.Name": "Nou Barris",
         "Latitude": 41.456345,
         "Longitude": 2.182146,
         "Neighborhood.Name": "Torre Baró",
         "Transport": "Day bus stop",
         "_deepnote_index_column": 23
        },
        {
         "Bus.Stop": "BUS -H6--",
         "Code": "K014",
         "District.Name": "Horta-Guinardó",
         "Latitude": 41.413549,
         "Longitude": 2.170389,
         "Neighborhood.Name": "el Baix Guinardó",
         "Transport": "Day bus stop",
         "_deepnote_index_column": 24
        },
        {
         "Bus.Stop": "NITBUS -N1-N13-N14-N15-N16-N17-N2-N18-N28--",
         "Code": "K015",
         "District.Name": "Eixample",
         "Latitude": 41.375534,
         "Longitude": 2.150152,
         "Neighborhood.Name": "Sant Antoni",
         "Transport": "Night bus stop",
         "_deepnote_index_column": 25
        },
        {
         "Bus.Stop": "BUS -11-126-127-V31--",
         "Code": "K014",
         "District.Name": "Sant Andreu",
         "Latitude": 41.451946,
         "Longitude": 2.189252,
         "Neighborhood.Name": "la Trinitat Vella",
         "Transport": "Day bus stop",
         "_deepnote_index_column": 26
        },
        {
         "Bus.Stop": "BUS -11-132--",
         "Code": "K014",
         "District.Name": "Nou Barris",
         "Latitude": 41.436852,
         "Longitude": 2.180542,
         "Neighborhood.Name": "Porta",
         "Transport": "Day bus stop",
         "_deepnote_index_column": 27
        },
        {
         "Bus.Stop": "NITBUS -N8--",
         "Code": "K015",
         "District.Name": "Sarrià-Sant Gervasi",
         "Latitude": 41.401809,
         "Longitude": 2.135582,
         "Neighborhood.Name": "Sant Gervasi - la Bonanova",
         "Transport": "Night bus stop",
         "_deepnote_index_column": 28
        },
        {
         "Bus.Stop": "NITBUS -N11-N8--",
         "Code": "K015",
         "District.Name": "Sant Martí",
         "Latitude": 41.406964,
         "Longitude": 2.198624,
         "Neighborhood.Name": "Provençals del Poblenou",
         "Transport": "Night bus stop",
         "_deepnote_index_column": 29
        },
        {
         "Bus.Stop": "NITBUS -N4--",
         "Code": "K015",
         "District.Name": "Horta-Guinardó",
         "Latitude": 41.432095,
         "Longitude": 2.145426,
         "Neighborhood.Name": "Montbau",
         "Transport": "Night bus stop",
         "_deepnote_index_column": 30
        },
        {
         "Bus.Stop": "BUS -H16--",
         "Code": "K014",
         "District.Name": "Sant Martí",
         "Latitude": 41.409689,
         "Longitude": 2.218048,
         "Neighborhood.Name": "Diagonal Mar i el Front Marítim del Poblenou",
         "Transport": "Day bus stop",
         "_deepnote_index_column": 31
        },
        {
         "Bus.Stop": "BUS -80-83-81--",
         "Code": "K014",
         "District.Name": "Nou Barris",
         "Latitude": 41.459707,
         "Longitude": 2.181799,
         "Neighborhood.Name": "Torre Baró",
         "Transport": "Day bus stop",
         "_deepnote_index_column": 32
        },
        {
         "Bus.Stop": "BUS -113--",
         "Code": "K014",
         "District.Name": "Les Corts",
         "Latitude": 41.388524,
         "Longitude": 2.105861,
         "Neighborhood.Name": "Pedralbes",
         "Transport": "Day bus stop",
         "_deepnote_index_column": 33
        },
        {
         "Bus.Stop": "BUS -B25-H14--",
         "Code": "K014",
         "District.Name": "Sant Martí",
         "Latitude": 41.411202,
         "Longitude": 2.204064,
         "Neighborhood.Name": "Provençals del Poblenou",
         "Transport": "Day bus stop",
         "_deepnote_index_column": 34
        },
        {
         "Bus.Stop": "BUS -B25-B20-136--",
         "Code": "K014",
         "District.Name": "Sant Martí",
         "Latitude": 41.393709,
         "Longitude": 2.189864,
         "Neighborhood.Name": "el Parc i la Llacuna del Poblenou",
         "Transport": "Day bus stop",
         "_deepnote_index_column": 35
        },
        {
         "Bus.Stop": "BUS -V9--",
         "Code": "K014",
         "District.Name": "Les Corts",
         "Latitude": 41.386193,
         "Longitude": 2.142116,
         "Neighborhood.Name": "les Corts",
         "Transport": "Day bus stop",
         "_deepnote_index_column": 36
        },
        {
         "Bus.Stop": "BUS -V9--",
         "Code": "K014",
         "District.Name": "Les Corts",
         "Latitude": 41.390315,
         "Longitude": 2.13775,
         "Neighborhood.Name": "les Corts",
         "Transport": "Day bus stop",
         "_deepnote_index_column": 37
        },
        {
         "Bus.Stop": "BUS -59--",
         "Code": "K014",
         "District.Name": "Sant Martí",
         "Latitude": 41.394125,
         "Longitude": 2.201949,
         "Neighborhood.Name": "el Poblenou",
         "Transport": "Day bus stop",
         "_deepnote_index_column": 38
        },
        {
         "Bus.Stop": "BUS -V11--",
         "Code": "K014",
         "District.Name": "Eixample",
         "Latitude": 41.386259,
         "Longitude": 2.15331,
         "Neighborhood.Name": "l'Antiga Esquerra de l'Eixample",
         "Transport": "Day bus stop",
         "_deepnote_index_column": 39
        },
        {
         "Bus.Stop": "BUS -92-D50--",
         "Code": "K014",
         "District.Name": "Eixample",
         "Latitude": 41.407359,
         "Longitude": 2.179513,
         "Neighborhood.Name": "la Sagrada Família",
         "Transport": "Day bus stop",
         "_deepnote_index_column": 40
        },
        {
         "Bus.Stop": "BUS -87--",
         "Code": "K014",
         "District.Name": "Horta-Guinardó",
         "Latitude": 41.429537,
         "Longitude": 2.159207,
         "Neighborhood.Name": "Horta",
         "Transport": "Day bus stop",
         "_deepnote_index_column": 41
        },
        {
         "Bus.Stop": "BUS -87--",
         "Code": "K014",
         "District.Name": "Horta-Guinardó",
         "Latitude": 41.422432,
         "Longitude": 2.15262,
         "Neighborhood.Name": "el Carmel",
         "Transport": "Day bus stop",
         "_deepnote_index_column": 42
        },
        {
         "Bus.Stop": "BUS -86-87--",
         "Code": "K014",
         "District.Name": "Horta-Guinardó",
         "Latitude": 41.423954,
         "Longitude": 2.155351,
         "Neighborhood.Name": "el Carmel",
         "Transport": "Day bus stop",
         "_deepnote_index_column": 43
        },
        {
         "Bus.Stop": "BUS -H6--",
         "Code": "K014",
         "District.Name": "Horta-Guinardó",
         "Latitude": 41.418407,
         "Longitude": 2.1761,
         "Neighborhood.Name": "el Guinardó",
         "Transport": "Day bus stop",
         "_deepnote_index_column": 44
        },
        {
         "Bus.Stop": "BUS -H6--",
         "Code": "K014",
         "District.Name": "Horta-Guinardó",
         "Latitude": 41.414273,
         "Longitude": 2.171062,
         "Neighborhood.Name": "el Guinardó",
         "Transport": "Day bus stop",
         "_deepnote_index_column": 45
        },
        {
         "Bus.Stop": "BUS -V5--",
         "Code": "K014",
         "District.Name": "Les Corts",
         "Latitude": 41.394049,
         "Longitude": 2.111963,
         "Neighborhood.Name": "Pedralbes",
         "Transport": "Day bus stop",
         "_deepnote_index_column": 46
        },
        {
         "Bus.Stop": "BUS -V5--",
         "Code": "K014",
         "District.Name": "Sants-Montjuïc",
         "Latitude": 41.355291,
         "Longitude": 2.142764,
         "Neighborhood.Name": "la Marina de Port",
         "Transport": "Day bus stop",
         "_deepnote_index_column": 47
        },
        {
         "Bus.Stop": "BUS -B25-H14--",
         "Code": "K014",
         "District.Name": "Sant Martí",
         "Latitude": 41.413834,
         "Longitude": 2.209979,
         "Neighborhood.Name": "el Besòs i el Maresme",
         "Transport": "Day bus stop",
         "_deepnote_index_column": 48
        },
        {
         "Bus.Stop": "BUS -H14--",
         "Code": "K014",
         "District.Name": "Sant Martí",
         "Latitude": 41.408024,
         "Longitude": 2.202464,
         "Neighborhood.Name": "Provençals del Poblenou",
         "Transport": "Day bus stop",
         "_deepnote_index_column": 49
        },
        {
         "Bus.Stop": "BUS -H14-V33--",
         "Code": "K014",
         "District.Name": "Sant Martí",
         "Latitude": 41.4179,
         "Longitude": 2.215793,
         "Neighborhood.Name": "el Besòs i el Maresme",
         "Transport": "Day bus stop",
         "_deepnote_index_column": 50
        },
        {
         "Bus.Stop": "NITBUS -N6--",
         "Code": "K015",
         "District.Name": "Sant Martí",
         "Latitude": 41.4179,
         "Longitude": 2.215793,
         "Neighborhood.Name": "el Besòs i el Maresme",
         "Transport": "Night bus stop",
         "_deepnote_index_column": 51
        },
        {
         "Bus.Stop": "BUS -PR4-88--",
         "Code": "K014",
         "District.Name": "Sants-Montjuïc",
         "Latitude": 41.321964,
         "Longitude": 2.140697,
         "Neighborhood.Name": "la Marina del Prat Vermell",
         "Transport": "Day bus stop",
         "_deepnote_index_column": 52
        },
        {
         "Bus.Stop": "BUS -B24--",
         "Code": "K014",
         "District.Name": "Eixample",
         "Latitude": 41.389866,
         "Longitude": 2.171723,
         "Neighborhood.Name": "la Dreta de l'Eixample",
         "Transport": "Day bus stop",
         "_deepnote_index_column": 53
        },
        {
         "Bus.Stop": "BUS -60--",
         "Code": "K014",
         "District.Name": "Sant Martí",
         "Latitude": 41.422479,
         "Longitude": 2.209706,
         "Neighborhood.Name": "la Verneda i la Pau",
         "Transport": "Day bus stop",
         "_deepnote_index_column": 54
        },
        {
         "Bus.Stop": "BUS -H14--",
         "Code": "K014",
         "District.Name": "Ciutat Vella",
         "Latitude": 41.383499,
         "Longitude": 2.183843,
         "Neighborhood.Name": "Sant Pere, Santa Caterina i la Ribera",
         "Transport": "Day bus stop",
         "_deepnote_index_column": 55
        },
        {
         "Bus.Stop": "BUS -11--",
         "Code": "K014",
         "District.Name": "Sant Andreu",
         "Latitude": 41.442433,
         "Longitude": 2.193352,
         "Neighborhood.Name": "Sant Andreu",
         "Transport": "Day bus stop",
         "_deepnote_index_column": 56
        },
        {
         "Bus.Stop": "NITBUS -N4--",
         "Code": "K015",
         "District.Name": "Horta-Guinardó",
         "Latitude": 41.435109,
         "Longitude": 2.153529,
         "Neighborhood.Name": "Horta",
         "Transport": "Night bus stop",
         "_deepnote_index_column": 57
        },
        {
         "Bus.Stop": "BUS -125--",
         "Code": "K014",
         "District.Name": "Sants-Montjuïc",
         "Latitude": 41.353451,
         "Longitude": 2.141578,
         "Neighborhood.Name": "la Marina del Prat Vermell",
         "Transport": "Day bus stop",
         "_deepnote_index_column": 58
        },
        {
         "Bus.Stop": "BUS -92--",
         "Code": "K014",
         "District.Name": "Horta-Guinardó",
         "Latitude": 41.410972,
         "Longitude": 2.166014,
         "Neighborhood.Name": "el Baix Guinardó",
         "Transport": "Day bus stop",
         "_deepnote_index_column": 59
        },
        {
         "Bus.Stop": "BUS -113--",
         "Code": "K014",
         "District.Name": "Les Corts",
         "Latitude": 41.39321,
         "Longitude": 2.108961,
         "Neighborhood.Name": "Pedralbes",
         "Transport": "Day bus stop",
         "_deepnote_index_column": 60
        },
        {
         "Bus.Stop": "AEROBUS -A2--",
         "Code": "K016",
         "District.Name": "Eixample",
         "Latitude": 41.387362,
         "Longitude": 2.170821,
         "Neighborhood.Name": "la Dreta de l'Eixample",
         "Transport": "Airport bus stop",
         "_deepnote_index_column": 61
        },
        {
         "Bus.Stop": "BUS -L97--",
         "Code": "K014",
         "District.Name": "Les Corts",
         "Latitude": 41.386012,
         "Longitude": 2.117741,
         "Neighborhood.Name": "Pedralbes",
         "Transport": "Day bus stop",
         "_deepnote_index_column": 62
        },
        {
         "Bus.Stop": "BUS -L70--",
         "Code": "K014",
         "District.Name": "Sants-Montjuïc",
         "Latitude": 41.374869,
         "Longitude": 2.151898,
         "Neighborhood.Name": "el Poble-sec",
         "Transport": "Day bus stop",
         "_deepnote_index_column": 63
        },
        {
         "Bus.Stop": "NITBUS -N0--",
         "Code": "K015",
         "District.Name": "Ciutat Vella",
         "Latitude": 41.375823,
         "Longitude": 2.178263,
         "Neighborhood.Name": "el Barri Gòtic",
         "Transport": "Night bus stop",
         "_deepnote_index_column": 64
        },
        {
         "Bus.Stop": "BUS -86--",
         "Code": "K014",
         "District.Name": "Horta-Guinardó",
         "Latitude": 41.421604,
         "Longitude": 2.155499,
         "Neighborhood.Name": "el Carmel",
         "Transport": "Day bus stop",
         "_deepnote_index_column": 65
        },
        {
         "Bus.Stop": "BUS -L14--",
         "Code": "K014",
         "District.Name": "Les Corts",
         "Latitude": 41.39033,
         "Longitude": 2.130148,
         "Neighborhood.Name": "les Corts",
         "Transport": "Day bus stop",
         "_deepnote_index_column": 66
        },
        {
         "Bus.Stop": "BUS -88--",
         "Code": "K014",
         "District.Name": "Sants-Montjuïc",
         "Latitude": 41.362381,
         "Longitude": 2.171317,
         "Neighborhood.Name": "la Marina del Prat Vermell",
         "Transport": "Day bus stop",
         "_deepnote_index_column": 67
        },
        {
         "Bus.Stop": "BUS -88--",
         "Code": "K014",
         "District.Name": "Sants-Montjuïc",
         "Latitude": 41.33326,
         "Longitude": 2.140981,
         "Neighborhood.Name": "la Marina del Prat Vermell",
         "Transport": "Day bus stop",
         "_deepnote_index_column": 68
        },
        {
         "Bus.Stop": "BUS -88--",
         "Code": "K014",
         "District.Name": "Sants-Montjuïc",
         "Latitude": 41.345573,
         "Longitude": 2.148483,
         "Neighborhood.Name": "la Marina del Prat Vermell",
         "Transport": "Day bus stop",
         "_deepnote_index_column": 69
        },
        {
         "Bus.Stop": "NITBUS -N11--",
         "Code": "K015",
         "District.Name": "Sant Martí",
         "Latitude": 41.411347,
         "Longitude": 2.203954,
         "Neighborhood.Name": "Provençals del Poblenou",
         "Transport": "Night bus stop",
         "_deepnote_index_column": 70
        }
       ]
      },
      "text/html": [
       "<div>\n",
       "<style scoped>\n",
       "    .dataframe tbody tr th:only-of-type {\n",
       "        vertical-align: middle;\n",
       "    }\n",
       "\n",
       "    .dataframe tbody tr th {\n",
       "        vertical-align: top;\n",
       "    }\n",
       "\n",
       "    .dataframe thead th {\n",
       "        text-align: right;\n",
       "    }\n",
       "</style>\n",
       "<table border=\"1\" class=\"dataframe\">\n",
       "  <thead>\n",
       "    <tr style=\"text-align: right;\">\n",
       "      <th></th>\n",
       "      <th>Code</th>\n",
       "      <th>Transport</th>\n",
       "      <th>Longitude</th>\n",
       "      <th>Latitude</th>\n",
       "      <th>Bus.Stop</th>\n",
       "      <th>District.Name</th>\n",
       "      <th>Neighborhood.Name</th>\n",
       "    </tr>\n",
       "  </thead>\n",
       "  <tbody>\n",
       "    <tr>\n",
       "      <th>0</th>\n",
       "      <td>K014</td>\n",
       "      <td>Day bus stop</td>\n",
       "      <td>2.171619</td>\n",
       "      <td>41.413744</td>\n",
       "      <td>BUS -192--</td>\n",
       "      <td>Horta-Guinardó</td>\n",
       "      <td>el Guinardó</td>\n",
       "    </tr>\n",
       "    <tr>\n",
       "      <th>1</th>\n",
       "      <td>K014</td>\n",
       "      <td>Day bus stop</td>\n",
       "      <td>2.134902</td>\n",
       "      <td>41.420222</td>\n",
       "      <td>BUS -124--</td>\n",
       "      <td>Gràcia</td>\n",
       "      <td>Vallcarca i els Penitents</td>\n",
       "    </tr>\n",
       "    <tr>\n",
       "      <th>2</th>\n",
       "      <td>K014</td>\n",
       "      <td>Day bus stop</td>\n",
       "      <td>2.162913</td>\n",
       "      <td>41.423187</td>\n",
       "      <td>BUS -117--</td>\n",
       "      <td>Horta-Guinardó</td>\n",
       "      <td>la Font d'en Fargues</td>\n",
       "    </tr>\n",
       "    <tr>\n",
       "      <th>3</th>\n",
       "      <td>K014</td>\n",
       "      <td>Day bus stop</td>\n",
       "      <td>2.163667</td>\n",
       "      <td>41.422899</td>\n",
       "      <td>BUS -117--</td>\n",
       "      <td>Horta-Guinardó</td>\n",
       "      <td>la Font d'en Fargues</td>\n",
       "    </tr>\n",
       "    <tr>\n",
       "      <th>4</th>\n",
       "      <td>K014</td>\n",
       "      <td>Day bus stop</td>\n",
       "      <td>2.120212</td>\n",
       "      <td>41.397209</td>\n",
       "      <td>BUS -130--</td>\n",
       "      <td>Sarrià-Sant Gervasi</td>\n",
       "      <td>Sarrià</td>\n",
       "    </tr>\n",
       "    <tr>\n",
       "      <th>...</th>\n",
       "      <td>...</td>\n",
       "      <td>...</td>\n",
       "      <td>...</td>\n",
       "      <td>...</td>\n",
       "      <td>...</td>\n",
       "      <td>...</td>\n",
       "      <td>...</td>\n",
       "    </tr>\n",
       "    <tr>\n",
       "      <th>3157</th>\n",
       "      <td>K014</td>\n",
       "      <td>Day bus stop</td>\n",
       "      <td>2.183887</td>\n",
       "      <td>41.422024</td>\n",
       "      <td>BUS -191--</td>\n",
       "      <td>Sant Andreu</td>\n",
       "      <td>el Congrés i els Indians</td>\n",
       "    </tr>\n",
       "    <tr>\n",
       "      <th>3158</th>\n",
       "      <td>K014</td>\n",
       "      <td>Day bus stop</td>\n",
       "      <td>2.176710</td>\n",
       "      <td>41.446419</td>\n",
       "      <td>BUS -127-81--</td>\n",
       "      <td>Nou Barris</td>\n",
       "      <td>les Roquetes</td>\n",
       "    </tr>\n",
       "    <tr>\n",
       "      <th>3159</th>\n",
       "      <td>K015</td>\n",
       "      <td>Night bus stop</td>\n",
       "      <td>2.144596</td>\n",
       "      <td>41.411446</td>\n",
       "      <td>NITBUS -N4--</td>\n",
       "      <td>Gràcia</td>\n",
       "      <td>Vallcarca i els Penitents</td>\n",
       "    </tr>\n",
       "    <tr>\n",
       "      <th>3160</th>\n",
       "      <td>K014</td>\n",
       "      <td>Day bus stop</td>\n",
       "      <td>2.142256</td>\n",
       "      <td>41.371176</td>\n",
       "      <td>BUS -91-115-V5--</td>\n",
       "      <td>Sants-Montjuïc</td>\n",
       "      <td>la Bordeta</td>\n",
       "    </tr>\n",
       "    <tr>\n",
       "      <th>3161</th>\n",
       "      <td>K015</td>\n",
       "      <td>Night bus stop</td>\n",
       "      <td>2.134932</td>\n",
       "      <td>41.398495</td>\n",
       "      <td>NITBUS -N7--</td>\n",
       "      <td>Sarrià-Sant Gervasi</td>\n",
       "      <td>Sant Gervasi - Galvany</td>\n",
       "    </tr>\n",
       "  </tbody>\n",
       "</table>\n",
       "<p>3162 rows × 7 columns</p>\n",
       "</div>"
      ],
      "text/plain": [
       "      Code       Transport  Longitude   Latitude          Bus.Stop  \\\n",
       "0     K014    Day bus stop   2.171619  41.413744        BUS -192--   \n",
       "1     K014    Day bus stop   2.134902  41.420222        BUS -124--   \n",
       "2     K014    Day bus stop   2.162913  41.423187        BUS -117--   \n",
       "3     K014    Day bus stop   2.163667  41.422899        BUS -117--   \n",
       "4     K014    Day bus stop   2.120212  41.397209        BUS -130--   \n",
       "...    ...             ...        ...        ...               ...   \n",
       "3157  K014    Day bus stop   2.183887  41.422024        BUS -191--   \n",
       "3158  K014    Day bus stop   2.176710  41.446419     BUS -127-81--   \n",
       "3159  K015  Night bus stop   2.144596  41.411446      NITBUS -N4--   \n",
       "3160  K014    Day bus stop   2.142256  41.371176  BUS -91-115-V5--   \n",
       "3161  K015  Night bus stop   2.134932  41.398495      NITBUS -N7--   \n",
       "\n",
       "            District.Name          Neighborhood.Name  \n",
       "0          Horta-Guinardó                el Guinardó  \n",
       "1                  Gràcia  Vallcarca i els Penitents  \n",
       "2          Horta-Guinardó       la Font d'en Fargues  \n",
       "3          Horta-Guinardó       la Font d'en Fargues  \n",
       "4     Sarrià-Sant Gervasi                     Sarrià  \n",
       "...                   ...                        ...  \n",
       "3157          Sant Andreu   el Congrés i els Indians  \n",
       "3158           Nou Barris               les Roquetes  \n",
       "3159               Gràcia  Vallcarca i els Penitents  \n",
       "3160       Sants-Montjuïc                 la Bordeta  \n",
       "3161  Sarrià-Sant Gervasi     Sant Gervasi - Galvany  \n",
       "\n",
       "[3162 rows x 7 columns]"
      ]
     },
     "execution_count": 3,
     "metadata": {},
     "output_type": "execute_result"
    }
   ],
   "source": [
    "bus_stops = pd.read_csv(r\"/work/datasets/1.-Transportation/bus-stops.csv\")\n",
    "bus_stops"
   ]
  },
  {
   "cell_type": "code",
   "execution_count": 4,
   "id": "170e7f9a",
   "metadata": {
    "cell_id": "00005-3ba8d055-b4cb-4f53-8192-5a0e93997a81",
    "deepnote_cell_type": "code",
    "deepnote_to_be_reexecuted": false,
    "execution_millis": 9,
    "execution_start": 1623403009667,
    "source_hash": "ecce50ca",
    "tags": []
   },
   "outputs": [
    {
     "name": "stdout",
     "output_type": "stream",
     "text": [
      "<class 'pandas.core.frame.DataFrame'>\n",
      "RangeIndex: 3162 entries, 0 to 3161\n",
      "Data columns (total 7 columns):\n",
      " #   Column             Non-Null Count  Dtype  \n",
      "---  ------             --------------  -----  \n",
      " 0   Code               3162 non-null   object \n",
      " 1   Transport          3162 non-null   object \n",
      " 2   Longitude          3162 non-null   float64\n",
      " 3   Latitude           3162 non-null   float64\n",
      " 4   Bus.Stop           3162 non-null   object \n",
      " 5   District.Name      3146 non-null   object \n",
      " 6   Neighborhood.Name  3146 non-null   object \n",
      "dtypes: float64(2), object(5)\n",
      "memory usage: 173.0+ KB\n"
     ]
    }
   ],
   "source": [
    "bus_stops.info()"
   ]
  },
  {
   "cell_type": "code",
   "execution_count": 5,
   "id": "7b346caa",
   "metadata": {
    "cell_id": "00006-fb560285-488f-4467-9fa2-c6223fc3f266",
    "deepnote_cell_type": "code",
    "deepnote_to_be_reexecuted": false,
    "execution_millis": 50,
    "execution_start": 1623403009679,
    "source_hash": "3d0f66b4",
    "tags": []
   },
   "outputs": [
    {
     "data": {
      "application/vnd.deepnote.dataframe.v2+json": {
       "column_count": 2,
       "columns": [
        {
         "dtype": "float64",
         "name": "Longitude",
         "stats": {
          "histogram": [
           {
            "bin_end": 316.2251084444017,
            "bin_start": 0.02789827155749879,
            "count": 7
           },
           {
            "bin_end": 632.422318617246,
            "bin_start": 316.2251084444017,
            "count": 0
           },
           {
            "bin_end": 948.6195287900902,
            "bin_start": 632.422318617246,
            "count": 0
           },
           {
            "bin_end": 1264.8167389629343,
            "bin_start": 948.6195287900902,
            "count": 0
           },
           {
            "bin_end": 1581.0139491357786,
            "bin_start": 1264.8167389629343,
            "count": 0
           },
           {
            "bin_end": 1897.2111593086227,
            "bin_start": 1581.0139491357786,
            "count": 0
           },
           {
            "bin_end": 2213.408369481467,
            "bin_start": 1897.2111593086227,
            "count": 0
           },
           {
            "bin_end": 2529.6055796543114,
            "bin_start": 2213.408369481467,
            "count": 0
           },
           {
            "bin_end": 2845.8027898271557,
            "bin_start": 2529.6055796543114,
            "count": 0
           },
           {
            "bin_end": 3162,
            "bin_start": 2845.8027898271557,
            "count": 1
           }
          ],
          "max": "3162.0",
          "min": "0.02789827155749879",
          "nan_count": 0,
          "unique_count": 8
         }
        },
        {
         "dtype": "float64",
         "name": "Latitude",
         "stats": {
          "histogram": [
           {
            "bin_end": 316.2244350580714,
            "bin_start": 0.027150064523682356,
            "count": 7
           },
           {
            "bin_end": 632.421720051619,
            "bin_start": 316.2244350580714,
            "count": 0
           },
           {
            "bin_end": 948.6190050451667,
            "bin_start": 632.421720051619,
            "count": 0
           },
           {
            "bin_end": 1264.8162900387144,
            "bin_start": 948.6190050451667,
            "count": 0
           },
           {
            "bin_end": 1581.0135750322622,
            "bin_start": 1264.8162900387144,
            "count": 0
           },
           {
            "bin_end": 1897.2108600258098,
            "bin_start": 1581.0135750322622,
            "count": 0
           },
           {
            "bin_end": 2213.408145019357,
            "bin_start": 1897.2108600258098,
            "count": 0
           },
           {
            "bin_end": 2529.605430012905,
            "bin_start": 2213.408145019357,
            "count": 0
           },
           {
            "bin_end": 2845.8027150064527,
            "bin_start": 2529.605430012905,
            "count": 0
           },
           {
            "bin_end": 3162,
            "bin_start": 2845.8027150064527,
            "count": 1
           }
          ],
          "max": "3162.0",
          "min": "0.027150064523682356",
          "nan_count": 0,
          "unique_count": 8
         }
        },
        {
         "dtype": "object",
         "name": "_deepnote_index_column"
        }
       ],
       "row_count": 8,
       "rows_bottom": null,
       "rows_top": [
        {
         "Latitude": 3162,
         "Longitude": 3162,
         "_deepnote_index_column": "count"
        },
        {
         "Latitude": 41.40500162333966,
         "Longitude": 2.1598239696394685,
         "_deepnote_index_column": "mean"
        },
        {
         "Latitude": 0.027150064523682356,
         "Longitude": 0.02789827155749879,
         "_deepnote_index_column": "std"
        },
        {
         "Latitude": 41.321643,
         "Longitude": 2.055835,
         "_deepnote_index_column": "min"
        },
        {
         "Latitude": 41.386903,
         "Longitude": 2.1406265,
         "_deepnote_index_column": "25%"
        },
        {
         "Latitude": 41.405734,
         "Longitude": 2.1611029999999998,
         "_deepnote_index_column": "50%"
        },
        {
         "Latitude": 41.423526499999994,
         "Longitude": 2.180406,
         "_deepnote_index_column": "75%"
        },
        {
         "Latitude": 41.467592,
         "Longitude": 2.221753,
         "_deepnote_index_column": "max"
        }
       ]
      },
      "text/html": [
       "<div>\n",
       "<style scoped>\n",
       "    .dataframe tbody tr th:only-of-type {\n",
       "        vertical-align: middle;\n",
       "    }\n",
       "\n",
       "    .dataframe tbody tr th {\n",
       "        vertical-align: top;\n",
       "    }\n",
       "\n",
       "    .dataframe thead th {\n",
       "        text-align: right;\n",
       "    }\n",
       "</style>\n",
       "<table border=\"1\" class=\"dataframe\">\n",
       "  <thead>\n",
       "    <tr style=\"text-align: right;\">\n",
       "      <th></th>\n",
       "      <th>Longitude</th>\n",
       "      <th>Latitude</th>\n",
       "    </tr>\n",
       "  </thead>\n",
       "  <tbody>\n",
       "    <tr>\n",
       "      <th>count</th>\n",
       "      <td>3162.000000</td>\n",
       "      <td>3162.000000</td>\n",
       "    </tr>\n",
       "    <tr>\n",
       "      <th>mean</th>\n",
       "      <td>2.159824</td>\n",
       "      <td>41.405002</td>\n",
       "    </tr>\n",
       "    <tr>\n",
       "      <th>std</th>\n",
       "      <td>0.027898</td>\n",
       "      <td>0.027150</td>\n",
       "    </tr>\n",
       "    <tr>\n",
       "      <th>min</th>\n",
       "      <td>2.055835</td>\n",
       "      <td>41.321643</td>\n",
       "    </tr>\n",
       "    <tr>\n",
       "      <th>25%</th>\n",
       "      <td>2.140627</td>\n",
       "      <td>41.386903</td>\n",
       "    </tr>\n",
       "    <tr>\n",
       "      <th>50%</th>\n",
       "      <td>2.161103</td>\n",
       "      <td>41.405734</td>\n",
       "    </tr>\n",
       "    <tr>\n",
       "      <th>75%</th>\n",
       "      <td>2.180406</td>\n",
       "      <td>41.423526</td>\n",
       "    </tr>\n",
       "    <tr>\n",
       "      <th>max</th>\n",
       "      <td>2.221753</td>\n",
       "      <td>41.467592</td>\n",
       "    </tr>\n",
       "  </tbody>\n",
       "</table>\n",
       "</div>"
      ],
      "text/plain": [
       "         Longitude     Latitude\n",
       "count  3162.000000  3162.000000\n",
       "mean      2.159824    41.405002\n",
       "std       0.027898     0.027150\n",
       "min       2.055835    41.321643\n",
       "25%       2.140627    41.386903\n",
       "50%       2.161103    41.405734\n",
       "75%       2.180406    41.423526\n",
       "max       2.221753    41.467592"
      ]
     },
     "execution_count": 5,
     "metadata": {},
     "output_type": "execute_result"
    }
   ],
   "source": [
    "bus_stops.describe()"
   ]
  },
  {
   "cell_type": "code",
   "execution_count": 6,
   "id": "69837cb1",
   "metadata": {
    "cell_id": "00006-0a51955c-69a1-4ab4-9ad8-4e7c25479a0f",
    "deepnote_cell_type": "code",
    "deepnote_to_be_reexecuted": false,
    "execution_millis": 2006604,
    "execution_start": 1623403009726,
    "source_hash": "771b59f5",
    "tags": []
   },
   "outputs": [
    {
     "data": {
      "text/plain": [
       "Sarrià-Sant Gervasi    439\n",
       "Sants-Montjuïc         415\n",
       "Eixample               405\n",
       "Horta-Guinardó         389\n",
       "Sant Martí             356\n",
       "Nou Barris             330\n",
       "Sant Andreu            228\n",
       "Gràcia                 210\n",
       "Les Corts              207\n",
       "Ciutat Vella           167\n",
       "NaN                     16\n",
       "Name: District.Name, dtype: int64"
      ]
     },
     "execution_count": 6,
     "metadata": {},
     "output_type": "execute_result"
    }
   ],
   "source": [
    "# Number of bus stops in each district\n",
    "bus_stops['District.Name'].value_counts(dropna=False)"
   ]
  },
  {
   "cell_type": "code",
   "execution_count": 7,
   "id": "2dd78610",
   "metadata": {
    "cell_id": "00009-a9a9fdaf-caf4-4cd6-abfb-3e44d099e66e",
    "deepnote_cell_type": "code",
    "deepnote_to_be_reexecuted": false,
    "execution_millis": 6,
    "execution_start": 1623403009767,
    "source_hash": "b9022dc9",
    "tags": []
   },
   "outputs": [
    {
     "data": {
      "application/vnd.deepnote.dataframe.v2+json": {
       "column_count": 7,
       "columns": [
        {
         "dtype": "int64",
         "name": "Code",
         "stats": {
          "histogram": [
           {
            "bin_end": -0.4,
            "bin_start": -0.5,
            "count": 0
           },
           {
            "bin_end": -0.3,
            "bin_start": -0.4,
            "count": 0
           },
           {
            "bin_end": -0.19999999999999996,
            "bin_start": -0.3,
            "count": 0
           },
           {
            "bin_end": -0.09999999999999998,
            "bin_start": -0.19999999999999996,
            "count": 0
           },
           {
            "bin_end": 0,
            "bin_start": -0.09999999999999998,
            "count": 0
           },
           {
            "bin_end": 0.10000000000000009,
            "bin_start": 0,
            "count": 1
           },
           {
            "bin_end": 0.20000000000000007,
            "bin_start": 0.10000000000000009,
            "count": 0
           },
           {
            "bin_end": 0.30000000000000004,
            "bin_start": 0.20000000000000007,
            "count": 0
           },
           {
            "bin_end": 0.4,
            "bin_start": 0.30000000000000004,
            "count": 0
           },
           {
            "bin_end": 0.5,
            "bin_start": 0.4,
            "count": 0
           }
          ],
          "max": "0",
          "min": "0",
          "nan_count": 0,
          "unique_count": 1
         }
        },
        {
         "dtype": "int64",
         "name": "Transport",
         "stats": {
          "histogram": [
           {
            "bin_end": -0.4,
            "bin_start": -0.5,
            "count": 0
           },
           {
            "bin_end": -0.3,
            "bin_start": -0.4,
            "count": 0
           },
           {
            "bin_end": -0.19999999999999996,
            "bin_start": -0.3,
            "count": 0
           },
           {
            "bin_end": -0.09999999999999998,
            "bin_start": -0.19999999999999996,
            "count": 0
           },
           {
            "bin_end": 0,
            "bin_start": -0.09999999999999998,
            "count": 0
           },
           {
            "bin_end": 0.10000000000000009,
            "bin_start": 0,
            "count": 1
           },
           {
            "bin_end": 0.20000000000000007,
            "bin_start": 0.10000000000000009,
            "count": 0
           },
           {
            "bin_end": 0.30000000000000004,
            "bin_start": 0.20000000000000007,
            "count": 0
           },
           {
            "bin_end": 0.4,
            "bin_start": 0.30000000000000004,
            "count": 0
           },
           {
            "bin_end": 0.5,
            "bin_start": 0.4,
            "count": 0
           }
          ],
          "max": "0",
          "min": "0",
          "nan_count": 0,
          "unique_count": 1
         }
        },
        {
         "dtype": "int64",
         "name": "Longitude",
         "stats": {
          "histogram": [
           {
            "bin_end": -0.4,
            "bin_start": -0.5,
            "count": 0
           },
           {
            "bin_end": -0.3,
            "bin_start": -0.4,
            "count": 0
           },
           {
            "bin_end": -0.19999999999999996,
            "bin_start": -0.3,
            "count": 0
           },
           {
            "bin_end": -0.09999999999999998,
            "bin_start": -0.19999999999999996,
            "count": 0
           },
           {
            "bin_end": 0,
            "bin_start": -0.09999999999999998,
            "count": 0
           },
           {
            "bin_end": 0.10000000000000009,
            "bin_start": 0,
            "count": 1
           },
           {
            "bin_end": 0.20000000000000007,
            "bin_start": 0.10000000000000009,
            "count": 0
           },
           {
            "bin_end": 0.30000000000000004,
            "bin_start": 0.20000000000000007,
            "count": 0
           },
           {
            "bin_end": 0.4,
            "bin_start": 0.30000000000000004,
            "count": 0
           },
           {
            "bin_end": 0.5,
            "bin_start": 0.4,
            "count": 0
           }
          ],
          "max": "0",
          "min": "0",
          "nan_count": 0,
          "unique_count": 1
         }
        },
        {
         "dtype": "int64",
         "name": "Latitude",
         "stats": {
          "histogram": [
           {
            "bin_end": -0.4,
            "bin_start": -0.5,
            "count": 0
           },
           {
            "bin_end": -0.3,
            "bin_start": -0.4,
            "count": 0
           },
           {
            "bin_end": -0.19999999999999996,
            "bin_start": -0.3,
            "count": 0
           },
           {
            "bin_end": -0.09999999999999998,
            "bin_start": -0.19999999999999996,
            "count": 0
           },
           {
            "bin_end": 0,
            "bin_start": -0.09999999999999998,
            "count": 0
           },
           {
            "bin_end": 0.10000000000000009,
            "bin_start": 0,
            "count": 1
           },
           {
            "bin_end": 0.20000000000000007,
            "bin_start": 0.10000000000000009,
            "count": 0
           },
           {
            "bin_end": 0.30000000000000004,
            "bin_start": 0.20000000000000007,
            "count": 0
           },
           {
            "bin_end": 0.4,
            "bin_start": 0.30000000000000004,
            "count": 0
           },
           {
            "bin_end": 0.5,
            "bin_start": 0.4,
            "count": 0
           }
          ],
          "max": "0",
          "min": "0",
          "nan_count": 0,
          "unique_count": 1
         }
        },
        {
         "dtype": "int64",
         "name": "Bus.Stop",
         "stats": {
          "histogram": [
           {
            "bin_end": -0.4,
            "bin_start": -0.5,
            "count": 0
           },
           {
            "bin_end": -0.3,
            "bin_start": -0.4,
            "count": 0
           },
           {
            "bin_end": -0.19999999999999996,
            "bin_start": -0.3,
            "count": 0
           },
           {
            "bin_end": -0.09999999999999998,
            "bin_start": -0.19999999999999996,
            "count": 0
           },
           {
            "bin_end": 0,
            "bin_start": -0.09999999999999998,
            "count": 0
           },
           {
            "bin_end": 0.10000000000000009,
            "bin_start": 0,
            "count": 1
           },
           {
            "bin_end": 0.20000000000000007,
            "bin_start": 0.10000000000000009,
            "count": 0
           },
           {
            "bin_end": 0.30000000000000004,
            "bin_start": 0.20000000000000007,
            "count": 0
           },
           {
            "bin_end": 0.4,
            "bin_start": 0.30000000000000004,
            "count": 0
           },
           {
            "bin_end": 0.5,
            "bin_start": 0.4,
            "count": 0
           }
          ],
          "max": "0",
          "min": "0",
          "nan_count": 0,
          "unique_count": 1
         }
        },
        {
         "dtype": "int64",
         "name": "District.Name",
         "stats": {
          "histogram": [
           {
            "bin_end": 15.6,
            "bin_start": 15.5,
            "count": 0
           },
           {
            "bin_end": 15.7,
            "bin_start": 15.6,
            "count": 0
           },
           {
            "bin_end": 15.8,
            "bin_start": 15.7,
            "count": 0
           },
           {
            "bin_end": 15.9,
            "bin_start": 15.8,
            "count": 0
           },
           {
            "bin_end": 16,
            "bin_start": 15.9,
            "count": 0
           },
           {
            "bin_end": 16.1,
            "bin_start": 16,
            "count": 1
           },
           {
            "bin_end": 16.2,
            "bin_start": 16.1,
            "count": 0
           },
           {
            "bin_end": 16.3,
            "bin_start": 16.2,
            "count": 0
           },
           {
            "bin_end": 16.4,
            "bin_start": 16.3,
            "count": 0
           },
           {
            "bin_end": 16.5,
            "bin_start": 16.4,
            "count": 0
           }
          ],
          "max": "16",
          "min": "16",
          "nan_count": 0,
          "unique_count": 1
         }
        },
        {
         "dtype": "int64",
         "name": "Neighborhood.Name",
         "stats": {
          "histogram": [
           {
            "bin_end": 15.6,
            "bin_start": 15.5,
            "count": 0
           },
           {
            "bin_end": 15.7,
            "bin_start": 15.6,
            "count": 0
           },
           {
            "bin_end": 15.8,
            "bin_start": 15.7,
            "count": 0
           },
           {
            "bin_end": 15.9,
            "bin_start": 15.8,
            "count": 0
           },
           {
            "bin_end": 16,
            "bin_start": 15.9,
            "count": 0
           },
           {
            "bin_end": 16.1,
            "bin_start": 16,
            "count": 1
           },
           {
            "bin_end": 16.2,
            "bin_start": 16.1,
            "count": 0
           },
           {
            "bin_end": 16.3,
            "bin_start": 16.2,
            "count": 0
           },
           {
            "bin_end": 16.4,
            "bin_start": 16.3,
            "count": 0
           },
           {
            "bin_end": 16.5,
            "bin_start": 16.4,
            "count": 0
           }
          ],
          "max": "16",
          "min": "16",
          "nan_count": 0,
          "unique_count": 1
         }
        },
        {
         "dtype": "int64",
         "name": "_deepnote_index_column"
        }
       ],
       "row_count": 1,
       "rows_bottom": null,
       "rows_top": [
        {
         "Bus.Stop": 0,
         "Code": 0,
         "District.Name": 16,
         "Latitude": 0,
         "Longitude": 0,
         "Neighborhood.Name": 16,
         "Transport": 0,
         "_deepnote_index_column": 0
        }
       ]
      },
      "text/html": [
       "<div>\n",
       "<style scoped>\n",
       "    .dataframe tbody tr th:only-of-type {\n",
       "        vertical-align: middle;\n",
       "    }\n",
       "\n",
       "    .dataframe tbody tr th {\n",
       "        vertical-align: top;\n",
       "    }\n",
       "\n",
       "    .dataframe thead th {\n",
       "        text-align: right;\n",
       "    }\n",
       "</style>\n",
       "<table border=\"1\" class=\"dataframe\">\n",
       "  <thead>\n",
       "    <tr style=\"text-align: right;\">\n",
       "      <th></th>\n",
       "      <th>Code</th>\n",
       "      <th>Transport</th>\n",
       "      <th>Longitude</th>\n",
       "      <th>Latitude</th>\n",
       "      <th>Bus.Stop</th>\n",
       "      <th>District.Name</th>\n",
       "      <th>Neighborhood.Name</th>\n",
       "    </tr>\n",
       "  </thead>\n",
       "  <tbody>\n",
       "    <tr>\n",
       "      <th>0</th>\n",
       "      <td>0</td>\n",
       "      <td>0</td>\n",
       "      <td>0</td>\n",
       "      <td>0</td>\n",
       "      <td>0</td>\n",
       "      <td>16</td>\n",
       "      <td>16</td>\n",
       "    </tr>\n",
       "  </tbody>\n",
       "</table>\n",
       "</div>"
      ],
      "text/plain": [
       "   Code  Transport  Longitude  Latitude  Bus.Stop  District.Name  \\\n",
       "0     0          0          0         0         0             16   \n",
       "\n",
       "   Neighborhood.Name  \n",
       "0                 16  "
      ]
     },
     "execution_count": 7,
     "metadata": {},
     "output_type": "execute_result"
    }
   ],
   "source": [
    "# Number of missing values in each collum\n",
    "all_nulls_bus_stops = bus_stops.isnull().sum()\n",
    "pd.DataFrame(all_nulls_bus_stops).transpose()"
   ]
  },
  {
   "cell_type": "code",
   "execution_count": 8,
   "id": "e5647484",
   "metadata": {
    "cell_id": "00008-347118d9-fa59-40fc-8226-8a3cbe1f9bd6",
    "deepnote_cell_type": "code",
    "deepnote_to_be_reexecuted": false,
    "execution_millis": 14,
    "execution_start": 1623403009770,
    "source_hash": "32a8f5e8",
    "tags": []
   },
   "outputs": [
    {
     "data": {
      "text/plain": [
       "Day bus stop        2324\n",
       "Night bus stop       828\n",
       "Airport bus stop       7\n",
       "Bus station            3\n",
       "Name: Transport, dtype: int64"
      ]
     },
     "execution_count": 8,
     "metadata": {},
     "output_type": "execute_result"
    }
   ],
   "source": [
    "# Type of bus stops - Frequency table\n",
    "\n",
    "bus_stops['Transport'].value_counts()"
   ]
  },
  {
   "cell_type": "code",
   "execution_count": 26,
   "id": "e4f7f6a7",
   "metadata": {
    "cell_id": "00011-52769688-99cf-4e01-b1dc-5ebee6fe1b3c",
    "deepnote_cell_type": "code",
    "deepnote_to_be_reexecuted": false,
    "execution_millis": 5,
    "execution_start": 1623403682426,
    "source_hash": "5b47701a",
    "tags": []
   },
   "outputs": [
    {
     "name": "stdout",
     "output_type": "stream",
     "text": [
      "Total of all bus stops: 3162\n"
     ]
    }
   ],
   "source": [
    "# Total bus stops\n",
    "\n",
    "total_of_bus_stops = sum(bus_stops['Transport'].value_counts(dropna=True))\n",
    "\n",
    "print(f'Total of all bus stops: {total_of_bus_stops}')\n",
    "\n",
    "\n"
   ]
  },
  {
   "cell_type": "code",
   "execution_count": 28,
   "id": "5246d09d",
   "metadata": {
    "cell_id": "00010-1d77ca1d-99b7-446b-8035-2845e9432ca4",
    "deepnote_cell_type": "code",
    "deepnote_to_be_reexecuted": false,
    "execution_millis": 5,
    "execution_start": 1623403748002,
    "source_hash": "33bb27a6",
    "tags": []
   },
   "outputs": [
    {
     "data": {
      "application/vnd.deepnote.dataframe.v2+json": {
       "column_count": 1,
       "columns": [
        {
         "dtype": "float64",
         "name": "Transport",
         "stats": {
          "histogram": [
           {
            "bin_end": 7.430999999999999,
            "bin_start": 0.09,
            "count": 2
           },
           {
            "bin_end": 14.771999999999998,
            "bin_start": 7.430999999999999,
            "count": 0
           },
           {
            "bin_end": 22.112999999999996,
            "bin_start": 14.771999999999998,
            "count": 0
           },
           {
            "bin_end": 29.453999999999997,
            "bin_start": 22.112999999999996,
            "count": 1
           },
           {
            "bin_end": 36.795,
            "bin_start": 29.453999999999997,
            "count": 0
           },
           {
            "bin_end": 44.135999999999996,
            "bin_start": 36.795,
            "count": 0
           },
           {
            "bin_end": 51.477,
            "bin_start": 44.135999999999996,
            "count": 0
           },
           {
            "bin_end": 58.818,
            "bin_start": 51.477,
            "count": 0
           },
           {
            "bin_end": 66.15899999999999,
            "bin_start": 58.818,
            "count": 0
           },
           {
            "bin_end": 73.5,
            "bin_start": 66.15899999999999,
            "count": 1
           }
          ],
          "max": "73.5",
          "min": "0.09",
          "nan_count": 0,
          "unique_count": 4
         }
        },
        {
         "dtype": "object",
         "name": "_deepnote_index_column"
        }
       ],
       "row_count": 4,
       "rows_bottom": null,
       "rows_top": [
        {
         "Transport": 73.5,
         "_deepnote_index_column": "Day bus stop"
        },
        {
         "Transport": 26.19,
         "_deepnote_index_column": "Night bus stop"
        },
        {
         "Transport": 0.22,
         "_deepnote_index_column": "Airport bus stop"
        },
        {
         "Transport": 0.09,
         "_deepnote_index_column": "Bus station"
        }
       ]
      },
      "text/html": [
       "<div>\n",
       "<style scoped>\n",
       "    .dataframe tbody tr th:only-of-type {\n",
       "        vertical-align: middle;\n",
       "    }\n",
       "\n",
       "    .dataframe tbody tr th {\n",
       "        vertical-align: top;\n",
       "    }\n",
       "\n",
       "    .dataframe thead th {\n",
       "        text-align: right;\n",
       "    }\n",
       "</style>\n",
       "<table border=\"1\" class=\"dataframe\">\n",
       "  <thead>\n",
       "    <tr style=\"text-align: right;\">\n",
       "      <th></th>\n",
       "      <th>Transport</th>\n",
       "    </tr>\n",
       "  </thead>\n",
       "  <tbody>\n",
       "    <tr>\n",
       "      <th>Day bus stop</th>\n",
       "      <td>73.50</td>\n",
       "    </tr>\n",
       "    <tr>\n",
       "      <th>Night bus stop</th>\n",
       "      <td>26.19</td>\n",
       "    </tr>\n",
       "    <tr>\n",
       "      <th>Airport bus stop</th>\n",
       "      <td>0.22</td>\n",
       "    </tr>\n",
       "    <tr>\n",
       "      <th>Bus station</th>\n",
       "      <td>0.09</td>\n",
       "    </tr>\n",
       "  </tbody>\n",
       "</table>\n",
       "</div>"
      ],
      "text/plain": [
       "                  Transport\n",
       "Day bus stop          73.50\n",
       "Night bus stop        26.19\n",
       "Airport bus stop       0.22\n",
       "Bus station            0.09"
      ]
     },
     "execution_count": 28,
     "metadata": {},
     "output_type": "execute_result"
    }
   ],
   "source": [
    "# Type of bus stops - Frequency table by percentages\n",
    "\n",
    "percentage_bus_stops = (bus_stops['Transport'].value_counts()/total_of_bus_stops)*100\n",
    "percentage_bus_stops\n",
    "\n",
    "\n",
    "pd.DataFrame(round(percentage_bus_stops.iloc[:], 2))"
   ]
  },
  {
   "cell_type": "code",
   "execution_count": 11,
   "id": "81908076",
   "metadata": {
    "cell_id": "00007-a9e259a7-2b16-4988-9908-c568a9065e39",
    "deepnote_cell_type": "code",
    "deepnote_to_be_reexecuted": false,
    "execution_millis": 11,
    "execution_start": 1623403009832,
    "source_hash": "38984705",
    "tags": []
   },
   "outputs": [
    {
     "name": "stdout",
     "output_type": "stream",
     "text": [
      "The neighborhood with the highest percentage of bus stops is:  la Dreta de l'Eixample\n"
     ]
    }
   ],
   "source": [
    "#Number of bus stops in each neighborhood\n",
    "neigh_bus_stops = bus_stops['Neighborhood.Name'].value_counts()\n",
    "#neigh_bus_stops\n",
    "\n",
    "#Percentage of bus stops in each in neighborhood\n",
    "percentage_neigh_bus_stops = neigh_bus_stops/len(bus_stops['Neighborhood.Name'])\n",
    "\n",
    "df_percentage_neigh_bus_stops = pd.DataFrame(round(percentage_neigh_bus_stops*100, 2))\n",
    "df_percentage_neigh_bus_stops = df_percentage_neigh_bus_stops.reset_index()\n",
    "df_percentage_neigh_bus_stops.columns  = ['Neighbourhood','Percentage']\n",
    "\n",
    "#Name of the neighborhood with the highest percentage\n",
    "our_index = df_percentage_neigh_bus_stops[ df_percentage_neigh_bus_stops['Percentage'] == \n",
    "df_percentage_neigh_bus_stops['Percentage'].max() ].index\n",
    "\n",
    "max_stops_neigh = df_percentage_neigh_bus_stops.iloc[our_index,0]\n",
    "#type(max_stops_neigh)\n",
    "print('The neighborhood with the highest percentage of bus stops is: ',max_stops_neigh[0])\n"
   ]
  },
  {
   "cell_type": "code",
   "execution_count": 12,
   "id": "2c96664e",
   "metadata": {
    "cell_id": "00008-96af0351-a242-4603-8caf-161ad99ae498",
    "deepnote_cell_type": "code",
    "deepnote_to_be_reexecuted": false,
    "execution_millis": 12,
    "execution_start": 1623403009903,
    "source_hash": "d59023f9",
    "tags": []
   },
   "outputs": [
    {
     "data": {
      "application/vnd.deepnote.dataframe.v2+json": {
       "column_count": 1,
       "columns": [
        {
         "dtype": "float64",
         "name": "District.Name",
         "stats": {
          "histogram": [
           {
            "bin_end": 6.140000000000001,
            "bin_start": 5.28,
            "count": 1
           },
           {
            "bin_end": 7,
            "bin_start": 6.140000000000001,
            "count": 2
           },
           {
            "bin_end": 7.86,
            "bin_start": 7,
            "count": 1
           },
           {
            "bin_end": 8.72,
            "bin_start": 7.86,
            "count": 0
           },
           {
            "bin_end": 9.580000000000002,
            "bin_start": 8.72,
            "count": 0
           },
           {
            "bin_end": 10.440000000000001,
            "bin_start": 9.580000000000002,
            "count": 1
           },
           {
            "bin_end": 11.3,
            "bin_start": 10.440000000000001,
            "count": 1
           },
           {
            "bin_end": 12.16,
            "bin_start": 11.3,
            "count": 0
           },
           {
            "bin_end": 13.020000000000001,
            "bin_start": 12.16,
            "count": 2
           },
           {
            "bin_end": 13.88,
            "bin_start": 13.020000000000001,
            "count": 2
           }
          ],
          "max": "13.88",
          "min": "5.28",
          "nan_count": 0,
          "unique_count": 10
         }
        },
        {
         "dtype": "object",
         "name": "_deepnote_index_column"
        }
       ],
       "row_count": 10,
       "rows_bottom": null,
       "rows_top": [
        {
         "District.Name": 13.88,
         "_deepnote_index_column": "Sarrià-Sant Gervasi"
        },
        {
         "District.Name": 13.12,
         "_deepnote_index_column": "Sants-Montjuïc"
        },
        {
         "District.Name": 12.81,
         "_deepnote_index_column": "Eixample"
        },
        {
         "District.Name": 12.3,
         "_deepnote_index_column": "Horta-Guinardó"
        },
        {
         "District.Name": 11.26,
         "_deepnote_index_column": "Sant Martí"
        },
        {
         "District.Name": 10.44,
         "_deepnote_index_column": "Nou Barris"
        },
        {
         "District.Name": 7.21,
         "_deepnote_index_column": "Sant Andreu"
        },
        {
         "District.Name": 6.64,
         "_deepnote_index_column": "Gràcia"
        },
        {
         "District.Name": 6.55,
         "_deepnote_index_column": "Les Corts"
        },
        {
         "District.Name": 5.28,
         "_deepnote_index_column": "Ciutat Vella"
        }
       ]
      },
      "text/html": [
       "<div>\n",
       "<style scoped>\n",
       "    .dataframe tbody tr th:only-of-type {\n",
       "        vertical-align: middle;\n",
       "    }\n",
       "\n",
       "    .dataframe tbody tr th {\n",
       "        vertical-align: top;\n",
       "    }\n",
       "\n",
       "    .dataframe thead th {\n",
       "        text-align: right;\n",
       "    }\n",
       "</style>\n",
       "<table border=\"1\" class=\"dataframe\">\n",
       "  <thead>\n",
       "    <tr style=\"text-align: right;\">\n",
       "      <th></th>\n",
       "      <th>District.Name</th>\n",
       "    </tr>\n",
       "  </thead>\n",
       "  <tbody>\n",
       "    <tr>\n",
       "      <th>Sarrià-Sant Gervasi</th>\n",
       "      <td>13.88</td>\n",
       "    </tr>\n",
       "    <tr>\n",
       "      <th>Sants-Montjuïc</th>\n",
       "      <td>13.12</td>\n",
       "    </tr>\n",
       "    <tr>\n",
       "      <th>Eixample</th>\n",
       "      <td>12.81</td>\n",
       "    </tr>\n",
       "    <tr>\n",
       "      <th>Horta-Guinardó</th>\n",
       "      <td>12.30</td>\n",
       "    </tr>\n",
       "    <tr>\n",
       "      <th>Sant Martí</th>\n",
       "      <td>11.26</td>\n",
       "    </tr>\n",
       "    <tr>\n",
       "      <th>Nou Barris</th>\n",
       "      <td>10.44</td>\n",
       "    </tr>\n",
       "    <tr>\n",
       "      <th>Sant Andreu</th>\n",
       "      <td>7.21</td>\n",
       "    </tr>\n",
       "    <tr>\n",
       "      <th>Gràcia</th>\n",
       "      <td>6.64</td>\n",
       "    </tr>\n",
       "    <tr>\n",
       "      <th>Les Corts</th>\n",
       "      <td>6.55</td>\n",
       "    </tr>\n",
       "    <tr>\n",
       "      <th>Ciutat Vella</th>\n",
       "      <td>5.28</td>\n",
       "    </tr>\n",
       "  </tbody>\n",
       "</table>\n",
       "</div>"
      ],
      "text/plain": [
       "                     District.Name\n",
       "Sarrià-Sant Gervasi          13.88\n",
       "Sants-Montjuïc               13.12\n",
       "Eixample                     12.81\n",
       "Horta-Guinardó               12.30\n",
       "Sant Martí                   11.26\n",
       "Nou Barris                   10.44\n",
       "Sant Andreu                   7.21\n",
       "Gràcia                        6.64\n",
       "Les Corts                     6.55\n",
       "Ciutat Vella                  5.28"
      ]
     },
     "execution_count": 12,
     "metadata": {},
     "output_type": "execute_result"
    }
   ],
   "source": [
    "#Percentage of bus stops in a given district (compared to the total total bus stops) DENSITY\n",
    " \n",
    "#Get the outliers of the number of bus stops per district (min and max)\n",
    "#Calculate the mean _with_ the outliers _then_ show how it changes _without_ the outliers (?)\n",
    "\n",
    "bus_stops_perDistrict = bus_stops['District.Name'].value_counts()/len(bus_stops['District.Name'])\n",
    "\n",
    "\n",
    "pd.DataFrame(round(bus_stops_perDistrict.iloc[:]*100, 2))\n"
   ]
  },
  {
   "cell_type": "markdown",
   "id": "0d89aa09",
   "metadata": {
    "cell_id": "00010-2aec3788-63be-4039-a470-143e71dae85f",
    "deepnote_cell_type": "markdown",
    "tags": []
   },
   "source": [
    "------------------------------------"
   ]
  },
  {
   "cell_type": "markdown",
   "id": "67bbf6f5",
   "metadata": {
    "cell_id": "00011-bddc218e-d60b-43d4-88b0-2e5d4a8975ee",
    "deepnote_cell_type": "markdown",
    "tags": []
   },
   "source": [
    "## Public Transport"
   ]
  },
  {
   "cell_type": "code",
   "execution_count": 13,
   "id": "3b1f5bb0",
   "metadata": {
    "cell_id": "00002-8077ddf2-d00b-4bd8-bd0a-2367d38b600b",
    "deepnote_cell_type": "code",
    "deepnote_to_be_reexecuted": false,
    "execution_millis": 37,
    "execution_start": 1623403009904,
    "source_hash": "b7bd1001",
    "tags": []
   },
   "outputs": [
    {
     "data": {
      "application/vnd.deepnote.dataframe.v2+json": {
       "column_count": 7,
       "columns": [
        {
         "dtype": "object",
         "name": "Code",
         "stats": {
          "categories": [
           {
            "count": 463,
            "name": "K001"
           },
           {
            "count": 65,
            "name": "K011"
           },
           {
            "count": 123,
            "name": "6 others"
           }
          ],
          "nan_count": 0,
          "unique_count": 8
         }
        },
        {
         "dtype": "object",
         "name": "Transport",
         "stats": {
          "categories": [
           {
            "count": 463,
            "name": "Underground"
           },
           {
            "count": 65,
            "name": "Tram"
           },
           {
            "count": 123,
            "name": "6 others"
           }
          ],
          "nan_count": 0,
          "unique_count": 8
         }
        },
        {
         "dtype": "float64",
         "name": "Longitude",
         "stats": {
          "histogram": [
           {
            "bin_end": 2.0296613,
            "bin_start": 2.00528,
            "count": 4
           },
           {
            "bin_end": 2.0540426,
            "bin_start": 2.0296613,
            "count": 7
           },
           {
            "bin_end": 2.0784238999999998,
            "bin_start": 2.0540426,
            "count": 22
           },
           {
            "bin_end": 2.1028051999999997,
            "bin_start": 2.0784238999999998,
            "count": 28
           },
           {
            "bin_end": 2.1271864999999996,
            "bin_start": 2.1028051999999997,
            "count": 69
           },
           {
            "bin_end": 2.1515678,
            "bin_start": 2.1271864999999996,
            "count": 135
           },
           {
            "bin_end": 2.1759491,
            "bin_start": 2.1515678,
            "count": 170
           },
           {
            "bin_end": 2.2003304,
            "bin_start": 2.1759491,
            "count": 147
           },
           {
            "bin_end": 2.2247117,
            "bin_start": 2.2003304,
            "count": 50
           },
           {
            "bin_end": 2.249093,
            "bin_start": 2.2247117,
            "count": 19
           }
          ],
          "max": "2.249093",
          "min": "2.00528",
          "nan_count": 0,
          "unique_count": 599
         }
        },
        {
         "dtype": "float64",
         "name": "Latitude",
         "stats": {
          "histogram": [
           {
            "bin_end": 41.3236092,
            "bin_start": 41.304419,
            "count": 2
           },
           {
            "bin_end": 41.342799400000004,
            "bin_start": 41.3236092,
            "count": 2
           },
           {
            "bin_end": 41.3619896,
            "bin_start": 41.342799400000004,
            "count": 48
           },
           {
            "bin_end": 41.381179800000005,
            "bin_start": 41.3619896,
            "count": 139
           },
           {
            "bin_end": 41.40037,
            "bin_start": 41.381179800000005,
            "count": 182
           },
           {
            "bin_end": 41.4195602,
            "bin_start": 41.40037,
            "count": 119
           },
           {
            "bin_end": 41.4387504,
            "bin_start": 41.4195602,
            "count": 92
           },
           {
            "bin_end": 41.4579406,
            "bin_start": 41.4387504,
            "count": 52
           },
           {
            "bin_end": 41.477130800000005,
            "bin_start": 41.4579406,
            "count": 10
           },
           {
            "bin_end": 41.496321,
            "bin_start": 41.477130800000005,
            "count": 5
           }
          ],
          "max": "41.496321",
          "min": "41.304419",
          "nan_count": 0,
          "unique_count": 595
         }
        },
        {
         "dtype": "object",
         "name": "Station",
         "stats": {
          "categories": [
           {
            "count": 5,
            "name": "METRO (L1) - BELLVITGE-"
           },
           {
            "count": 4,
            "name": "METRO (L1) - RAMBLA JUST OLIVERAS-"
           },
           {
            "count": 642,
            "name": "538 others"
           }
          ],
          "nan_count": 0,
          "unique_count": 540
         }
        },
        {
         "dtype": "object",
         "name": "District.Name",
         "stats": {
          "categories": [
           {
            "count": 120,
            "name": "Eixample"
           },
           {
            "count": 367,
            "name": "9 others"
           },
           {
            "count": 164,
            "name": "Missing"
           }
          ],
          "nan_count": 164,
          "unique_count": 10
         }
        },
        {
         "dtype": "object",
         "name": "Neighborhood.Name",
         "stats": {
          "categories": [
           {
            "count": 61,
            "name": "la Dreta de l'Eixample"
           },
           {
            "count": 426,
            "name": "62 others"
           },
           {
            "count": 164,
            "name": "Missing"
           }
          ],
          "nan_count": 164,
          "unique_count": 63
         }
        },
        {
         "dtype": "int64",
         "name": "_deepnote_index_column"
        }
       ],
       "row_count": 651,
       "rows_bottom": [
        {
         "Code": "K001",
         "District.Name": "Ciutat Vella",
         "Latitude": 41.376817,
         "Longitude": 2.176285,
         "Neighborhood.Name": "el Raval",
         "Station": "METRO (L3) - DRASSANES-",
         "Transport": "Underground",
         "_deepnote_index_column": 580
        },
        {
         "Code": "K001",
         "District.Name": "Eixample",
         "Latitude": 41.403847,
         "Longitude": 2.175562,
         "Neighborhood.Name": "la Sagrada Família",
         "Station": "METRO (L2) - SAGRADA FAMÍLIA (Pl. de Gaudí)-",
         "Transport": "Underground",
         "_deepnote_index_column": 581
        },
        {
         "Code": "K001",
         "District.Name": "Sants-Montjuïc",
         "Latitude": 41.375468,
         "Longitude": 2.138845,
         "Neighborhood.Name": "Sants",
         "Station": "METRO (L1) - PLAÇA DE SANTS (C. de Sants)-",
         "Transport": "Underground",
         "_deepnote_index_column": 582
        },
        {
         "Code": "K001",
         "District.Name": "nan",
         "Latitude": 41.364232,
         "Longitude": 2.100304,
         "Neighborhood.Name": "nan",
         "Station": "METRO (L1) - RAMBLA JUST OLIVERAS-",
         "Transport": "Underground",
         "_deepnote_index_column": 583
        },
        {
         "Code": "K001",
         "District.Name": "Sants-Montjuïc",
         "Latitude": 41.375429,
         "Longitude": 2.135849,
         "Neighborhood.Name": "Sants",
         "Station": "METRO (L5) - PLAÇA DE SANTS (C. de Sants)-",
         "Transport": "Underground",
         "_deepnote_index_column": 584
        },
        {
         "Code": "K001",
         "District.Name": "Nou Barris",
         "Latitude": 41.429214,
         "Longitude": 2.175568,
         "Neighborhood.Name": "Vilapicina i la Torre Llobeta",
         "Station": "METRO (L5) - VIRREI AMAT (C. de Felip II)-",
         "Transport": "Underground",
         "_deepnote_index_column": 585
        },
        {
         "Code": "K001",
         "District.Name": "Eixample",
         "Latitude": 41.394887,
         "Longitude": 2.15916,
         "Neighborhood.Name": "la Dreta de l'Eixample",
         "Station": "METRO (L5) - DIAGONAL-",
         "Transport": "Underground",
         "_deepnote_index_column": 586
        },
        {
         "Code": "K001",
         "District.Name": "Sarrià-Sant Gervasi",
         "Latitude": 41.401372,
         "Longitude": 2.147016,
         "Neighborhood.Name": "Sant Gervasi - Galvany",
         "Station": "FGC (L6) - SANT GERVASI-",
         "Transport": "Underground",
         "_deepnote_index_column": 587
        },
        {
         "Code": "K001",
         "District.Name": "Sarrià-Sant Gervasi",
         "Latitude": 41.39896,
         "Longitude": 2.125112,
         "Neighborhood.Name": "les Tres Torres",
         "Station": "FGC (L6) - SARRIÀ-",
         "Transport": "Underground",
         "_deepnote_index_column": 588
        },
        {
         "Code": "K001",
         "District.Name": "nan",
         "Latitude": 41.457253,
         "Longitude": 2.19855,
         "Neighborhood.Name": "nan",
         "Station": "METRO (L9) - CAN ZAM-",
         "Transport": "Underground",
         "_deepnote_index_column": 589
        },
        {
         "Code": "K001",
         "District.Name": "Eixample",
         "Latitude": 41.388111,
         "Longitude": 2.169597,
         "Neighborhood.Name": "la Dreta de l'Eixample",
         "Station": "METRO (L1) - CATALUNYA (Pg. de Gràcia)-",
         "Transport": "Underground",
         "_deepnote_index_column": 590
        },
        {
         "Code": "K011",
         "District.Name": "Les Corts",
         "Latitude": 41.384459,
         "Longitude": 2.114498,
         "Neighborhood.Name": "la Maternitat i Sant Ramon",
         "Station": "TRAMVIA (T1,T2,T3) - ZONA UNIVERSITÀRIA-",
         "Transport": "Tram",
         "_deepnote_index_column": 591
        },
        {
         "Code": "K011",
         "District.Name": "nan",
         "Latitude": 41.379733,
         "Longitude": 2.067057,
         "Neighborhood.Name": "nan",
         "Station": "TRAMVIA (T3) - WALDEN-",
         "Transport": "Tram",
         "_deepnote_index_column": 592
        },
        {
         "Code": "K011",
         "District.Name": "nan",
         "Latitude": 41.415244,
         "Longitude": 2.222906,
         "Neighborhood.Name": "nan",
         "Station": "TRAMVIA (T4) - CAN LLIMA-",
         "Transport": "Tram",
         "_deepnote_index_column": 593
        },
        {
         "Code": "K011",
         "District.Name": "Sant Martí",
         "Latitude": 41.40443,
         "Longitude": 2.19139,
         "Neighborhood.Name": "el Parc i la Llacuna del Poblenou",
         "Station": "TRAMVIA (T4) - CA L'ARANYÓ-",
         "Transport": "Tram",
         "_deepnote_index_column": 594
        },
        {
         "Code": "K009",
         "District.Name": "Sants-Montjuïc",
         "Latitude": 41.374747,
         "Longitude": 2.168493,
         "Neighborhood.Name": "el Poble-sec",
         "Station": "Funicular MONTJUÏC - inferior-",
         "Transport": "Funicular",
         "_deepnote_index_column": 595
        },
        {
         "Code": "K001",
         "District.Name": "Nou Barris",
         "Latitude": 41.447394,
         "Longitude": 2.176252,
         "Neighborhood.Name": "les Roquetes",
         "Station": "METRO (L3) - ROQUETES-",
         "Transport": "Underground",
         "_deepnote_index_column": 596
        },
        {
         "Code": "K001",
         "District.Name": "Nou Barris",
         "Latitude": 41.446933,
         "Longitude": 2.17602,
         "Neighborhood.Name": "les Roquetes",
         "Station": "METRO (L3) - ROQUETES (Pla de Fornells)-",
         "Transport": "Underground",
         "_deepnote_index_column": 597
        },
        {
         "Code": "K001",
         "District.Name": "Ciutat Vella",
         "Latitude": 41.380666,
         "Longitude": 2.17353,
         "Neighborhood.Name": "el Raval",
         "Station": "METRO (L3) - LICEU-",
         "Transport": "Underground",
         "_deepnote_index_column": 598
        },
        {
         "Code": "K001",
         "District.Name": "Nou Barris",
         "Latitude": 41.4493,
         "Longitude": 2.18472,
         "Neighborhood.Name": "la Trinitat Nova",
         "Station": "METRO (L3) - TRINITAT NOVA (Parc)-",
         "Transport": "Underground",
         "_deepnote_index_column": 599
        },
        {
         "Code": "K001",
         "District.Name": "Sant Martí",
         "Latitude": 41.399257,
         "Longitude": 2.197247,
         "Neighborhood.Name": "el Poblenou",
         "Station": "METRO (L4) - LLACUNA-",
         "Transport": "Underground",
         "_deepnote_index_column": 600
        },
        {
         "Code": "K001",
         "District.Name": "Nou Barris",
         "Latitude": 41.443382,
         "Longitude": 2.178458,
         "Neighborhood.Name": "la Prosperitat",
         "Station": "METRO (L4) - VIA JÚLIA (Via Júlia - Batllori)-",
         "Transport": "Underground",
         "_deepnote_index_column": 601
        },
        {
         "Code": "K001",
         "District.Name": "Nou Barris",
         "Latitude": 41.443928,
         "Longitude": 2.178906,
         "Neighborhood.Name": "la Prosperitat",
         "Station": "METRO (L4) - VIA JÚLIA-",
         "Transport": "Underground",
         "_deepnote_index_column": 602
        },
        {
         "Code": "K001",
         "District.Name": "Horta-Guinardó",
         "Latitude": 41.411775,
         "Longitude": 2.166162,
         "Neighborhood.Name": "el Baix Guinardó",
         "Station": "METRO (L4) - ALFONS X-",
         "Transport": "Underground",
         "_deepnote_index_column": 603
        },
        {
         "Code": "K001",
         "District.Name": "Sants-Montjuïc",
         "Latitude": 41.375637,
         "Longitude": 2.128135,
         "Neighborhood.Name": "Sants - Badal",
         "Station": "METRO (L5) - BADAL (C. de Sants)-",
         "Transport": "Underground",
         "_deepnote_index_column": 604
        },
        {
         "Code": "K001",
         "District.Name": "Horta-Guinardó",
         "Latitude": 41.435432,
         "Longitude": 2.147015,
         "Neighborhood.Name": "Montbau",
         "Station": "METRO (L3) - MUNDET (Llars Mundet - Velòdrom)-",
         "Transport": "Underground",
         "_deepnote_index_column": 605
        },
        {
         "Code": "K001",
         "District.Name": "nan",
         "Latitude": 41.375948,
         "Longitude": 2.120678,
         "Neighborhood.Name": "nan",
         "Station": "METRO (L5) - COLLBLANC-",
         "Transport": "Underground",
         "_deepnote_index_column": 606
        },
        {
         "Code": "K003",
         "District.Name": "nan",
         "Latitude": 41.357914,
         "Longitude": 2.06998,
         "Neighborhood.Name": "nan",
         "Station": "RENFE - CORNELLÀ-",
         "Transport": "RENFE",
         "_deepnote_index_column": 607
        },
        {
         "Code": "K003",
         "District.Name": "nan",
         "Latitude": 41.424408,
         "Longitude": 2.230523,
         "Neighborhood.Name": "nan",
         "Station": "RENFE - SANT ADRIÀ DEL BESÒS-",
         "Transport": "RENFE",
         "_deepnote_index_column": 608
        },
        {
         "Code": "K003",
         "District.Name": "nan",
         "Latitude": 41.354367,
         "Longitude": 2.115466,
         "Neighborhood.Name": "nan",
         "Station": "RENFE - BELLVITGE-",
         "Transport": "RENFE",
         "_deepnote_index_column": 609
        },
        {
         "Code": "K011",
         "District.Name": "nan",
         "Latitude": 41.376929,
         "Longitude": 2.09287,
         "Neighborhood.Name": "nan",
         "Station": "TRAMVIA (T1,T2,T3) - CAN CLOTA-",
         "Transport": "Tram",
         "_deepnote_index_column": 610
        },
        {
         "Code": "K011",
         "District.Name": "nan",
         "Latitude": 41.369445,
         "Longitude": 2.080799,
         "Neighborhood.Name": "nan",
         "Station": "TRAMVIA (T1,T2,T3) - MONTESA-",
         "Transport": "Tram",
         "_deepnote_index_column": 611
        },
        {
         "Code": "K011",
         "District.Name": "Les Corts",
         "Latitude": 41.392183,
         "Longitude": 2.142997,
         "Neighborhood.Name": "les Corts",
         "Station": "TRAMVIA (T1,T2,T3) - FRANCESC MACIÀ-",
         "Transport": "Tram",
         "_deepnote_index_column": 612
        },
        {
         "Code": "K011",
         "District.Name": "Les Corts",
         "Latitude": 41.388002,
         "Longitude": 2.126641,
         "Neighborhood.Name": "la Maternitat i Sant Ramon",
         "Station": "TRAMVIA (T1,T2,T3) - Mª CRISTINA-",
         "Transport": "Tram",
         "_deepnote_index_column": 613
        },
        {
         "Code": "K001",
         "District.Name": "Ciutat Vella",
         "Latitude": 41.384137,
         "Longitude": 2.178343,
         "Neighborhood.Name": "el Barri Gòtic",
         "Station": "METRO (L4) - JAUME I (Pl. l'Àngel)-",
         "Transport": "Underground",
         "_deepnote_index_column": 614
        },
        {
         "Code": "K001",
         "District.Name": "Ciutat Vella",
         "Latitude": 41.383774,
         "Longitude": 2.179204,
         "Neighborhood.Name": "Sant Pere, Santa Caterina i la Ribera",
         "Station": "METRO (L4) - JAUME I (Via Laietana)-",
         "Transport": "Underground",
         "_deepnote_index_column": 615
        },
        {
         "Code": "K001",
         "District.Name": "Ciutat Vella",
         "Latitude": 41.383984,
         "Longitude": 2.179125,
         "Neighborhood.Name": "Sant Pere, Santa Caterina i la Ribera",
         "Station": "METRO (L4) - JAUME I-",
         "Transport": "Underground",
         "_deepnote_index_column": 616
        },
        {
         "Code": "K001",
         "District.Name": "Eixample",
         "Latitude": 41.391905,
         "Longitude": 2.164802,
         "Neighborhood.Name": "la Dreta de l'Eixample",
         "Station": "METRO (L3) - PASSEIG DE GRÀCIA (C. d'Aragó)-",
         "Transport": "Underground",
         "_deepnote_index_column": 617
        },
        {
         "Code": "K001",
         "District.Name": "Eixample",
         "Latitude": 41.403512,
         "Longitude": 2.173357,
         "Neighborhood.Name": "la Sagrada Família",
         "Station": "METRO (L5) - SAGRADA FAMÍLIA (C. de Provença)-",
         "Transport": "Underground",
         "_deepnote_index_column": 618
        },
        {
         "Code": "K001",
         "District.Name": "Eixample",
         "Latitude": 41.394451,
         "Longitude": 2.158487,
         "Neighborhood.Name": "la Dreta de l'Eixample",
         "Station": "METRO (L5) - DIAGONAL (Rambla de Catalunya)-",
         "Transport": "Underground",
         "_deepnote_index_column": 619
        },
        {
         "Code": "K001",
         "District.Name": "Eixample",
         "Latitude": 41.410166,
         "Longitude": 2.175393,
         "Neighborhood.Name": "la Sagrada Família",
         "Station": "METRO (L5) - SANT PAU-DOS DE MAIG (C. de Cartagena)-",
         "Transport": "Underground",
         "_deepnote_index_column": 620
        },
        {
         "Code": "K001",
         "District.Name": "Eixample",
         "Latitude": 41.395422,
         "Longitude": 2.160499,
         "Neighborhood.Name": "la Dreta de l'Eixample",
         "Station": "METRO (L3) - DIAGONAL (Pg. de Gràcia)-",
         "Transport": "Underground",
         "_deepnote_index_column": 621
        },
        {
         "Code": "K001",
         "District.Name": "Sant Andreu",
         "Latitude": 41.42096,
         "Longitude": 2.186242,
         "Neighborhood.Name": "la Sagrera",
         "Station": "METRO (L9, L10) - LA SAGRERA-",
         "Transport": "Underground",
         "_deepnote_index_column": 622
        },
        {
         "Code": "K001",
         "District.Name": "Horta-Guinardó",
         "Latitude": 41.424597,
         "Longitude": 2.155126,
         "Neighborhood.Name": "el Carmel",
         "Station": "METRO (L5) - EL CARMEL-",
         "Transport": "Underground",
         "_deepnote_index_column": 623
        },
        {
         "Code": "K001",
         "District.Name": "Sant Martí",
         "Latitude": 41.407338,
         "Longitude": 2.182557,
         "Neighborhood.Name": "el Camp de l'Arpa del Clot",
         "Station": "METRO (L2) - ENCANTS-",
         "Transport": "Underground",
         "_deepnote_index_column": 624
        },
        {
         "Code": "K001",
         "District.Name": "nan",
         "Latitude": 41.368594,
         "Longitude": 2.117108,
         "Neighborhood.Name": "nan",
         "Station": "METRO (L1) - TORRASSA-",
         "Transport": "Underground",
         "_deepnote_index_column": 625
        },
        {
         "Code": "K001",
         "District.Name": "Eixample",
         "Latitude": 41.390021,
         "Longitude": 2.175019,
         "Neighborhood.Name": "la Dreta de l'Eixample",
         "Station": "METRO (L1) - URQUINAONA (C. Bruc)-",
         "Transport": "Underground",
         "_deepnote_index_column": 626
        },
        {
         "Code": "K001",
         "District.Name": "nan",
         "Latitude": 41.368184,
         "Longitude": 2.103931,
         "Neighborhood.Name": "nan",
         "Station": "METRO (L1) - CAN SERRA-",
         "Transport": "Underground",
         "_deepnote_index_column": 627
        },
        {
         "Code": "K001",
         "District.Name": "Sant Andreu",
         "Latitude": 41.449896,
         "Longitude": 2.199663,
         "Neighborhood.Name": "la Trinitat Vella",
         "Station": "METRO (L1) - BARÓ DE VIVER-",
         "Transport": "Underground",
         "_deepnote_index_column": 628
        },
        {
         "Code": "K001",
         "District.Name": "Sants-Montjuïc",
         "Latitude": 41.37487,
         "Longitude": 2.158936,
         "Neighborhood.Name": "el Poble-sec",
         "Station": "METRO (L3) - POBLE SEC (Av. del Paral.lel)-",
         "Transport": "Underground",
         "_deepnote_index_column": 629
        },
        {
         "Code": "K001",
         "District.Name": "Les Corts",
         "Latitude": 41.382673,
         "Longitude": 2.136549,
         "Neighborhood.Name": "les Corts",
         "Station": "METRO (L3) - PLAÇA DEL CENTRE-",
         "Transport": "Underground",
         "_deepnote_index_column": 630
        },
        {
         "Code": "K001",
         "District.Name": "Gràcia",
         "Latitude": 41.417205,
         "Longitude": 2.140979,
         "Neighborhood.Name": "Vallcarca i els Penitents",
         "Station": "METRO (L3) - PENITENTS (C. d'Anna Piferrer)-",
         "Transport": "Underground",
         "_deepnote_index_column": 631
        },
        {
         "Code": "K002",
         "District.Name": "nan",
         "Latitude": 41.357711,
         "Longitude": 2.034689,
         "Neighborhood.Name": "nan",
         "Station": "FGC - MOLÍ NOU-CIUTAT COOPERATIVA-",
         "Transport": "Railway (FGC)",
         "_deepnote_index_column": 632
        },
        {
         "Code": "K002",
         "District.Name": "nan",
         "Latitude": 41.351845,
         "Longitude": 2.068427,
         "Neighborhood.Name": "nan",
         "Station": "FGC - CORNELLÀ-RIERA-",
         "Transport": "Railway (FGC)",
         "_deepnote_index_column": 633
        },
        {
         "Code": "K002",
         "District.Name": "nan",
         "Latitude": 41.388104,
         "Longitude": 2.012394,
         "Neighborhood.Name": "nan",
         "Station": "FGC - SANT VICENÇ DELS HORTS-",
         "Transport": "Railway (FGC)",
         "_deepnote_index_column": 634
        },
        {
         "Code": "K011",
         "District.Name": "nan",
         "Latitude": 41.36843,
         "Longitude": 2.069961,
         "Neighborhood.Name": "nan",
         "Station": "TRAMVIA (T2) - CENTRE MIQUEL MARTÍ I POL-",
         "Transport": "Tram",
         "_deepnote_index_column": 635
        },
        {
         "Code": "K001",
         "District.Name": "Eixample",
         "Latitude": 41.382457,
         "Longitude": 2.158998,
         "Neighborhood.Name": "Sant Antoni",
         "Station": "METRO (L1) - URGELL-",
         "Transport": "Underground",
         "_deepnote_index_column": 636
        },
        {
         "Code": "K001",
         "District.Name": "Sant Andreu",
         "Latitude": 41.421981,
         "Longitude": 2.187227,
         "Neighborhood.Name": "la Sagrera",
         "Station": "METRO (L1) - LA SAGRERA (Av. Meridiana)-",
         "Transport": "Underground",
         "_deepnote_index_column": 637
        },
        {
         "Code": "K001",
         "District.Name": "nan",
         "Latitude": 41.34472,
         "Longitude": 2.106409,
         "Neighborhood.Name": "nan",
         "Station": "METRO (L1) - HOSPITAL DE BELLVITGE-",
         "Transport": "Underground",
         "_deepnote_index_column": 638
        },
        {
         "Code": "K001",
         "District.Name": "nan",
         "Latitude": 41.368443,
         "Longitude": 2.128698,
         "Neighborhood.Name": "nan",
         "Station": "METRO (L1) - SANTA EULÀLIA-",
         "Transport": "Underground",
         "_deepnote_index_column": 639
        },
        {
         "Code": "K001",
         "District.Name": "Sants-Montjuïc",
         "Latitude": 41.373543,
         "Longitude": 2.134031,
         "Neighborhood.Name": "Sants",
         "Station": "METRO (L1) - MERCAT NOU-",
         "Transport": "Underground",
         "_deepnote_index_column": 640
        },
        {
         "Code": "K004",
         "District.Name": "Sant Andreu",
         "Latitude": 41.435959,
         "Longitude": 2.193312,
         "Neighborhood.Name": "Sant Andreu",
         "Station": "Tren AEROPORT - SANT ANDREU COMTAL-",
         "Transport": "Airport train",
         "_deepnote_index_column": 641
        },
        {
         "Code": "K001",
         "District.Name": "Eixample",
         "Latitude": 41.392909,
         "Longitude": 2.157956,
         "Neighborhood.Name": "l'Antiga Esquerra de l'Eixample",
         "Station": "FGC (L6,L7) - PROVENÇA-",
         "Transport": "Underground",
         "_deepnote_index_column": 642
        },
        {
         "Code": "K001",
         "District.Name": "Sant Martí",
         "Latitude": 41.409242,
         "Longitude": 2.187148,
         "Neighborhood.Name": "el Clot",
         "Station": "METRO (L1) - CLOT (C. Aragó)-",
         "Transport": "Underground",
         "_deepnote_index_column": 643
        },
        {
         "Code": "K001",
         "District.Name": "Sants-Montjuïc",
         "Latitude": 41.372953,
         "Longitude": 2.133647,
         "Neighborhood.Name": "Sants",
         "Station": "METRO (L1) - MERCAT NOU (C. de la Riera de Tena)-",
         "Transport": "Underground",
         "_deepnote_index_column": 644
        },
        {
         "Code": "K001",
         "District.Name": "Eixample",
         "Latitude": 41.379656,
         "Longitude": 2.154913,
         "Neighborhood.Name": "la Nova Esquerra de l'Eixample",
         "Station": "METRO (L1) - ROCAFORT (Gv. Corts Catalanes)-",
         "Transport": "Underground",
         "_deepnote_index_column": 645
        },
        {
         "Code": "K002",
         "District.Name": "Sarrià-Sant Gervasi",
         "Latitude": 41.398967,
         "Longitude": 2.118998,
         "Neighborhood.Name": "Sarrià",
         "Station": "FGC - REINA ELISENDA-",
         "Transport": "Railway (FGC)",
         "_deepnote_index_column": 646
        },
        {
         "Code": "K008",
         "District.Name": "Sants-Montjuïc",
         "Latitude": 41.352808,
         "Longitude": 2.175248,
         "Neighborhood.Name": "la Marina del Prat Vermell",
         "Station": "Terminal Marítima E *Creuers",
         "Transport": "Maritime station",
         "_deepnote_index_column": 647
        },
        {
         "Code": "K008",
         "District.Name": "Sants-Montjuïc",
         "Latitude": 41.350955,
         "Longitude": 2.174767,
         "Neighborhood.Name": "la Marina del Prat Vermell",
         "Station": "Terminal Marítima D *Creuers",
         "Transport": "Maritime station",
         "_deepnote_index_column": 648
        },
        {
         "Code": "K002",
         "District.Name": "Sarrià-Sant Gervasi",
         "Latitude": 41.397617,
         "Longitude": 2.131188,
         "Neighborhood.Name": "les Tres Torres",
         "Station": "FGC - LES TRES TORRES<center>-",
         "Transport": "Railway (FGC)",
         "_deepnote_index_column": 649
        },
        {
         "Code": "K001",
         "District.Name": "Eixample",
         "Latitude": 41.37522,
         "Longitude": 2.158822,
         "Neighborhood.Name": "Sant Antoni",
         "Station": "METRO (L3) - POBLE SEC (C. de Manso)-",
         "Transport": "Underground",
         "_deepnote_index_column": 650
        }
       ],
       "rows_top": [
        {
         "Code": "K001",
         "District.Name": "Sarrià-Sant Gervasi",
         "Latitude": 41.399203,
         "Longitude": 2.11937,
         "Neighborhood.Name": "Sarrià",
         "Station": "FGC (L6) - REINA ELISENDA (Sortida Duquesa d'Orleans)-",
         "Transport": "Underground",
         "_deepnote_index_column": 0
        },
        {
         "Code": "K001",
         "District.Name": "Sarrià-Sant Gervasi",
         "Latitude": 41.397791,
         "Longitude": 2.135427,
         "Neighborhood.Name": "Sant Gervasi - Galvany",
         "Station": "FGC (L6) - LA BONANOVA-",
         "Transport": "Underground",
         "_deepnote_index_column": 1
        },
        {
         "Code": "K001",
         "District.Name": "Nou Barris",
         "Latitude": 41.451492,
         "Longitude": 2.185391,
         "Neighborhood.Name": "la Trinitat Nova",
         "Station": "METRO (L11) - CASA DE L'AIGUA (C. Vila-Real)-",
         "Transport": "Underground",
         "_deepnote_index_column": 2
        },
        {
         "Code": "K001",
         "District.Name": "Nou Barris",
         "Latitude": 41.460889,
         "Longitude": 2.174473,
         "Neighborhood.Name": "Ciutat Meridiana",
         "Station": "METRO (L11) - CIUTAT MERIDIANA (C. Pedraforca)-",
         "Transport": "Underground",
         "_deepnote_index_column": 3
        },
        {
         "Code": "K001",
         "District.Name": "Eixample",
         "Latitude": 41.3872,
         "Longitude": 2.168588,
         "Neighborhood.Name": "la Dreta de l'Eixample",
         "Station": "METRO (L1) - CATALUNYA (Rda. Universitat)-",
         "Transport": "Underground",
         "_deepnote_index_column": 4
        },
        {
         "Code": "K001",
         "District.Name": "Eixample",
         "Latitude": 41.387706,
         "Longitude": 2.168507,
         "Neighborhood.Name": "la Dreta de l'Eixample",
         "Station": "METRO (L1) - CATALUNYA (Rambla de Catalunya)-",
         "Transport": "Underground",
         "_deepnote_index_column": 5
        },
        {
         "Code": "K001",
         "District.Name": "Sarrià-Sant Gervasi",
         "Latitude": 41.398967,
         "Longitude": 2.118998,
         "Neighborhood.Name": "Sarrià",
         "Station": "FGC (L6) - REINA ELISENDA-",
         "Transport": "Underground",
         "_deepnote_index_column": 6
        },
        {
         "Code": "K001",
         "District.Name": "nan",
         "Latitude": 41.362753,
         "Longitude": 2.083994,
         "Neighborhood.Name": "nan",
         "Station": "METRO (L5) - SANT ILDEFONS-",
         "Transport": "Underground",
         "_deepnote_index_column": 7
        },
        {
         "Code": "K001",
         "District.Name": "Horta-Guinardó",
         "Latitude": 41.424923,
         "Longitude": 2.142987,
         "Neighborhood.Name": "la Vall d'Hebron",
         "Station": "METRO (L3, L5) - VALL D'HEBRON (C. de les Basses d'Horta)-",
         "Transport": "Underground",
         "_deepnote_index_column": 8
        },
        {
         "Code": "K002",
         "District.Name": "Eixample",
         "Latitude": 41.392331,
         "Longitude": 2.158326,
         "Neighborhood.Name": "l'Antiga Esquerra de l'Eixample",
         "Station": "FGC - PROVENÇA (C. de Provença)-",
         "Transport": "Railway (FGC)",
         "_deepnote_index_column": 9
        },
        {
         "Code": "K001",
         "District.Name": "nan",
         "Latitude": 41.362977,
         "Longitude": 2.100302,
         "Neighborhood.Name": "nan",
         "Station": "METRO (L1) - RAMBLA JUST OLIVERAS-",
         "Transport": "Underground",
         "_deepnote_index_column": 10
        },
        {
         "Code": "K001",
         "District.Name": "Eixample",
         "Latitude": 41.40018,
         "Longitude": 2.179581,
         "Neighborhood.Name": "el Fort Pienc",
         "Station": "METRO (L2) - MONUMENTAL (C. de la Marina)-",
         "Transport": "Underground",
         "_deepnote_index_column": 11
        },
        {
         "Code": "K001",
         "District.Name": "Eixample",
         "Latitude": 41.37907,
         "Longitude": 2.153966,
         "Neighborhood.Name": "la Nova Esquerra de l'Eixample",
         "Station": "METRO (L1) - ROCAFORT (C. de Rocafort)-",
         "Transport": "Underground",
         "_deepnote_index_column": 12
        },
        {
         "Code": "K001",
         "District.Name": "Eixample",
         "Latitude": 41.389295,
         "Longitude": 2.168735,
         "Neighborhood.Name": "la Dreta de l'Eixample",
         "Station": "METRO (L2) - PASSEIG DE GRÀCIA (Pg. de Gràcia)-",
         "Transport": "Underground",
         "_deepnote_index_column": 13
        },
        {
         "Code": "K001",
         "District.Name": "Horta-Guinardó",
         "Latitude": 41.430042,
         "Longitude": 2.161228,
         "Neighborhood.Name": "Horta",
         "Station": "METRO (L5) - HORTA (Pl. d'Eivissa)-",
         "Transport": "Underground",
         "_deepnote_index_column": 14
        },
        {
         "Code": "K011",
         "District.Name": "nan",
         "Latitude": 41.376486,
         "Longitude": 2.098896,
         "Neighborhood.Name": "nan",
         "Station": "TRAMVIA (T1,T2,T3) - CA N'OLIVERES-",
         "Transport": "Tram",
         "_deepnote_index_column": 15
        },
        {
         "Code": "K001",
         "District.Name": "Sants-Montjuïc",
         "Latitude": 41.373293,
         "Longitude": 2.13319,
         "Neighborhood.Name": "Sants",
         "Station": "METRO (L1) - MERCAT NOU (C. d'Antoni de Capmany)-",
         "Transport": "Underground",
         "_deepnote_index_column": 16
        },
        {
         "Code": "K001",
         "District.Name": "Eixample",
         "Latitude": 41.378565,
         "Longitude": 2.145478,
         "Neighborhood.Name": "la Nova Esquerra de l'Eixample",
         "Station": "METRO (L3) - TARRAGONA-",
         "Transport": "Underground",
         "_deepnote_index_column": 17
        },
        {
         "Code": "K001",
         "District.Name": "Horta-Guinardó",
         "Latitude": 41.434855,
         "Longitude": 2.147798,
         "Neighborhood.Name": "la Vall d'Hebron",
         "Station": "METRO (L3) - MUNDET (Can Marcet)-",
         "Transport": "Underground",
         "_deepnote_index_column": 18
        },
        {
         "Code": "K001",
         "District.Name": "Horta-Guinardó",
         "Latitude": 41.435325,
         "Longitude": 2.148557,
         "Neighborhood.Name": "la Vall d'Hebron",
         "Station": "METRO (L3) - MUNDET (Can Marcet)-",
         "Transport": "Underground",
         "_deepnote_index_column": 19
        },
        {
         "Code": "K001",
         "District.Name": "Sant Martí",
         "Latitude": 41.41174,
         "Longitude": 2.215909,
         "Neighborhood.Name": "el Besòs i el Maresme",
         "Station": "METRO (L4) - EL MARESME-FÒRUM (C. del Maresme)-",
         "Transport": "Underground",
         "_deepnote_index_column": 20
        },
        {
         "Code": "K001",
         "District.Name": "Eixample",
         "Latitude": 41.385015,
         "Longitude": 2.163252,
         "Neighborhood.Name": "Sant Antoni",
         "Station": "METRO (L2) - UNIVERSITAT-",
         "Transport": "Underground",
         "_deepnote_index_column": 21
        },
        {
         "Code": "K011",
         "District.Name": "Sant Martí",
         "Latitude": 41.411242,
         "Longitude": 2.197653,
         "Neighborhood.Name": "Provençals del Poblenou",
         "Station": "TRAMVIA (T5, T6) - ESPRONCEDA-",
         "Transport": "Tram",
         "_deepnote_index_column": 22
        },
        {
         "Code": "K011",
         "District.Name": "Les Corts",
         "Latitude": 41.38048,
         "Longitude": 2.115012,
         "Neighborhood.Name": "la Maternitat i Sant Ramon",
         "Station": "TRAMVIA (T1,T2,T3) - AVINGUDA DE XILE-",
         "Transport": "Tram",
         "_deepnote_index_column": 23
        },
        {
         "Code": "K011",
         "District.Name": "nan",
         "Latitude": 41.376071,
         "Longitude": 2.106023,
         "Neighborhood.Name": "nan",
         "Station": "TRAMVIA (T1,T2,T3) - CAN RIGAL-",
         "Transport": "Tram",
         "_deepnote_index_column": 24
        },
        {
         "Code": "K011",
         "District.Name": "nan",
         "Latitude": 41.430456,
         "Longitude": 2.222916,
         "Neighborhood.Name": "nan",
         "Station": "TRAMVIA (T5) - ENCANTS DE SANT ADRIÀ-",
         "Transport": "Tram",
         "_deepnote_index_column": 25
        },
        {
         "Code": "K011",
         "District.Name": "Sant Martí",
         "Latitude": 41.411777,
         "Longitude": 2.219829,
         "Neighborhood.Name": "el Besòs i el Maresme",
         "Station": "TRAMVIA (T4) - FÒRUM-",
         "Transport": "Tram",
         "_deepnote_index_column": 26
        },
        {
         "Code": "K011",
         "District.Name": "nan",
         "Latitude": 41.423854,
         "Longitude": 2.230412,
         "Neighborhood.Name": "nan",
         "Station": "TRAMVIA (T4, T6) - ESTACIÓ DE SANT ADRIÀ-",
         "Transport": "Tram",
         "_deepnote_index_column": 27
        },
        {
         "Code": "K011",
         "District.Name": "nan",
         "Latitude": 41.360383,
         "Longitude": 2.062227,
         "Neighborhood.Name": "nan",
         "Station": "TRAMVIA (T1,T2) - FONTSANTA-FATJÓ-",
         "Transport": "Tram",
         "_deepnote_index_column": 28
        },
        {
         "Code": "K008",
         "District.Name": "nan",
         "Latitude": 41.370929,
         "Longitude": 2.182868,
         "Neighborhood.Name": "nan",
         "Station": "Estació Marítima INTERNACIONAL-",
         "Transport": "Maritime station",
         "_deepnote_index_column": 29
        },
        {
         "Code": "K001",
         "District.Name": "nan",
         "Latitude": 41.357005,
         "Longitude": 2.125369,
         "Neighborhood.Name": "nan",
         "Station": "FGC (L8) - EUROPA / FIRA-",
         "Transport": "Underground",
         "_deepnote_index_column": 30
        },
        {
         "Code": "K001",
         "District.Name": "Nou Barris",
         "Latitude": 41.444145,
         "Longitude": 2.178826,
         "Neighborhood.Name": "la Prosperitat",
         "Station": "METRO (L4) - VIA JÚLIA (Via Júlia - Joaquim Valls)-",
         "Transport": "Underground",
         "_deepnote_index_column": 31
        },
        {
         "Code": "K001",
         "District.Name": "Sants-Montjuïc",
         "Latitude": 41.380858,
         "Longitude": 2.141603,
         "Neighborhood.Name": "Sants",
         "Station": "METRO (L3) - SANTS ESTACIÓ (C. de Numància)-",
         "Transport": "Underground",
         "_deepnote_index_column": 32
        },
        {
         "Code": "K001",
         "District.Name": "Eixample",
         "Latitude": 41.394796,
         "Longitude": 2.171334,
         "Neighborhood.Name": "la Dreta de l'Eixample",
         "Station": "METRO (L4) - GIRONA (C. de Girona)-",
         "Transport": "Underground",
         "_deepnote_index_column": 33
        },
        {
         "Code": "K001",
         "District.Name": "Nou Barris",
         "Latitude": 41.436715,
         "Longitude": 2.172883,
         "Neighborhood.Name": "la Guineueta",
         "Station": "METRO (L4) - LLUCMAJOR (Pg. del Verdum)-",
         "Transport": "Underground",
         "_deepnote_index_column": 34
        },
        {
         "Code": "K001",
         "District.Name": "Sants-Montjuïc",
         "Latitude": 41.375605,
         "Longitude": 2.127313,
         "Neighborhood.Name": "Sants - Badal",
         "Station": "METRO (L5) - BADAL-",
         "Transport": "Underground",
         "_deepnote_index_column": 35
        },
        {
         "Code": "K001",
         "District.Name": "Sant Martí",
         "Latitude": 41.403481,
         "Longitude": 2.202855,
         "Neighborhood.Name": "el Poblenou",
         "Station": "METRO (L4) - POBLENOU (C. de Pujades)-",
         "Transport": "Underground",
         "_deepnote_index_column": 36
        },
        {
         "Code": "K001",
         "District.Name": "Sant Andreu",
         "Latitude": 41.423505,
         "Longitude": 2.180781,
         "Neighborhood.Name": "el Congrés i els Indians",
         "Station": "METRO (L5) - CONGRÉS (C. de Garcilaso)-",
         "Transport": "Underground",
         "_deepnote_index_column": 37
        },
        {
         "Code": "K001",
         "District.Name": "Sants-Montjuïc",
         "Latitude": 41.374291,
         "Longitude": 2.14909,
         "Neighborhood.Name": "el Poble-sec",
         "Station": "METRO (L3) - ESPANYA (Pl. d'Espanya)-",
         "Transport": "Underground",
         "_deepnote_index_column": 38
        },
        {
         "Code": "K003",
         "District.Name": "nan",
         "Latitude": 41.496321,
         "Longitude": 2.181768,
         "Neighborhood.Name": "nan",
         "Station": "RENFE - MONTCADA-RIPOLLET-",
         "Transport": "RENFE",
         "_deepnote_index_column": 39
        },
        {
         "Code": "K003",
         "District.Name": "Eixample",
         "Latitude": 41.388108,
         "Longitude": 2.170436,
         "Neighborhood.Name": "la Dreta de l'Eixample",
         "Station": "RENFE - CATALUNYA-",
         "Transport": "RENFE",
         "_deepnote_index_column": 40
        },
        {
         "Code": "K003",
         "District.Name": "nan",
         "Latitude": 41.331201,
         "Longitude": 2.09108,
         "Neighborhood.Name": "nan",
         "Station": "RENFE - EL PRAT DE LLOBREGAT-",
         "Transport": "RENFE",
         "_deepnote_index_column": 41
        },
        {
         "Code": "K011",
         "District.Name": "nan",
         "Latitude": 41.365513,
         "Longitude": 2.076889,
         "Neighborhood.Name": "nan",
         "Station": "TRAMVIA (T1,T2) - EL PEDRÒ-",
         "Transport": "Tram",
         "_deepnote_index_column": 42
        },
        {
         "Code": "K001",
         "District.Name": "Les Corts",
         "Latitude": 41.388357,
         "Longitude": 2.127857,
         "Neighborhood.Name": "les Corts",
         "Station": "METRO (L3) - MARIA CRISTINA (Pl. de la Reina Maria Cristina)-",
         "Transport": "Underground",
         "_deepnote_index_column": 43
        },
        {
         "Code": "K001",
         "District.Name": "Eixample",
         "Latitude": 41.384514,
         "Longitude": 2.163681,
         "Neighborhood.Name": "Sant Antoni",
         "Station": "METRO (L2) - UNIVERSITAT (Rda. de Sant Antoni)-",
         "Transport": "Underground",
         "_deepnote_index_column": 44
        },
        {
         "Code": "K001",
         "District.Name": "nan",
         "Latitude": 41.373558,
         "Longitude": 2.106775,
         "Neighborhood.Name": "nan",
         "Station": "METRO (L5) - PUBILLA CASES-",
         "Transport": "Underground",
         "_deepnote_index_column": 45
        },
        {
         "Code": "K001",
         "District.Name": "Horta-Guinardó",
         "Latitude": 41.423558,
         "Longitude": 2.155013,
         "Neighborhood.Name": "el Carmel",
         "Station": "METRO (L5) - EL CARMEL (C. de Llobregós - Mercat)-",
         "Transport": "Underground",
         "_deepnote_index_column": 46
        },
        {
         "Code": "K001",
         "District.Name": "nan",
         "Latitude": 41.363278,
         "Longitude": 2.084164,
         "Neighborhood.Name": "nan",
         "Station": "METRO (L5) - SANT ILDEFONS-",
         "Transport": "Underground",
         "_deepnote_index_column": 47
        },
        {
         "Code": "K001",
         "District.Name": "nan",
         "Latitude": 41.356107,
         "Longitude": 2.072672,
         "Neighborhood.Name": "nan",
         "Station": "METRO (L5) - CORNELLÀ CENTRE-",
         "Transport": "Underground",
         "_deepnote_index_column": 48
        },
        {
         "Code": "K001",
         "District.Name": "nan",
         "Latitude": 41.356151,
         "Longitude": 2.072404,
         "Neighborhood.Name": "nan",
         "Station": "METRO (L5) - CORNELLÀ CENTRE-",
         "Transport": "Underground",
         "_deepnote_index_column": 49
        },
        {
         "Code": "K001",
         "District.Name": "Gràcia",
         "Latitude": 41.419877,
         "Longitude": 2.149504,
         "Neighborhood.Name": "el Coll",
         "Station": "METRO (L5) - EL COLL / LA TEIXONERA (C. del Beat Almató)-",
         "Transport": "Underground",
         "_deepnote_index_column": 50
        },
        {
         "Code": "K001",
         "District.Name": "Eixample",
         "Latitude": 41.404257,
         "Longitude": 2.176315,
         "Neighborhood.Name": "la Sagrada Família",
         "Station": "METRO (L2) - SAGRADA FAMÍLIA-",
         "Transport": "Underground",
         "_deepnote_index_column": 51
        },
        {
         "Code": "K001",
         "District.Name": "Horta-Guinardó",
         "Latitude": 41.412431,
         "Longitude": 2.16623,
         "Neighborhood.Name": "el Baix Guinardó",
         "Station": "METRO (L4) - ALFONS X (Parc de les Aigües)-",
         "Transport": "Underground",
         "_deepnote_index_column": 52
        },
        {
         "Code": "K001",
         "District.Name": "Horta-Guinardó",
         "Latitude": 41.412123,
         "Longitude": 2.165088,
         "Neighborhood.Name": "el Baix Guinardó",
         "Station": "METRO (L4) - ALFONS X (Pl. d'Alfons el Savi)-",
         "Transport": "Underground",
         "_deepnote_index_column": 53
        },
        {
         "Code": "K001",
         "District.Name": "nan",
         "Latitude": 41.442346,
         "Longitude": 2.224024,
         "Neighborhood.Name": "nan",
         "Station": "METRO (L10) - LA SALUT-",
         "Transport": "Underground",
         "_deepnote_index_column": 54
        },
        {
         "Code": "K001",
         "District.Name": "Eixample",
         "Latitude": 41.400331,
         "Longitude": 2.180022,
         "Neighborhood.Name": "el Fort Pienc",
         "Station": "METRO (L2) - MONUMENTAL (C. de la Diputació)-",
         "Transport": "Underground",
         "_deepnote_index_column": 55
        },
        {
         "Code": "K001",
         "District.Name": "Ciutat Vella",
         "Latitude": 41.375177,
         "Longitude": 2.170433,
         "Neighborhood.Name": "el Raval",
         "Station": "METRO (L3) - PARAL·LEL (C. Nou de la Rambla)-",
         "Transport": "Underground",
         "_deepnote_index_column": 56
        },
        {
         "Code": "K002",
         "District.Name": "Sarrià-Sant Gervasi",
         "Latitude": 41.397791,
         "Longitude": 2.135427,
         "Neighborhood.Name": "Sant Gervasi - Galvany",
         "Station": "FGC - BONANOVA-",
         "Transport": "Railway (FGC)",
         "_deepnote_index_column": 57
        },
        {
         "Code": "K002",
         "District.Name": "Sarrià-Sant Gervasi",
         "Latitude": 41.405731,
         "Longitude": 2.139248,
         "Neighborhood.Name": "el Putxet i el Farró",
         "Station": "FGC - EL PUTXET-",
         "Transport": "Railway (FGC)",
         "_deepnote_index_column": 58
        },
        {
         "Code": "K011",
         "District.Name": "nan",
         "Latitude": 41.372339,
         "Longitude": 2.075814,
         "Neighborhood.Name": "nan",
         "Station": "TRAMVIA (T3) - SANT MARTÍ DE L'ERM-",
         "Transport": "Tram",
         "_deepnote_index_column": 59
        },
        {
         "Code": "K002",
         "District.Name": "Sarrià-Sant Gervasi",
         "Latitude": 41.39896,
         "Longitude": 2.125112,
         "Neighborhood.Name": "les Tres Torres",
         "Station": "FGC - SARRIÀ-",
         "Transport": "Railway (FGC)",
         "_deepnote_index_column": 60
        },
        {
         "Code": "K001",
         "District.Name": "nan",
         "Latitude": 41.451908,
         "Longitude": 2.207988,
         "Neighborhood.Name": "nan",
         "Station": "METRO (L1) - SANTA COLOMA-",
         "Transport": "Underground",
         "_deepnote_index_column": 61
        },
        {
         "Code": "K001",
         "District.Name": "nan",
         "Latitude": 41.451604,
         "Longitude": 2.20835,
         "Neighborhood.Name": "nan",
         "Station": "METRO (L1) - SANTA COLOMA-",
         "Transport": "Underground",
         "_deepnote_index_column": 62
        },
        {
         "Code": "K001",
         "District.Name": "Eixample",
         "Latitude": 41.39558,
         "Longitude": 2.186428,
         "Neighborhood.Name": "el Fort Pienc",
         "Station": "METRO (L1) - MARINA (Av. Meridiana)-",
         "Transport": "Underground",
         "_deepnote_index_column": 63
        },
        {
         "Code": "K004",
         "District.Name": "Sant Martí",
         "Latitude": 41.410259,
         "Longitude": 2.189397,
         "Neighborhood.Name": "el Clot",
         "Station": "Tren AEROPORT - CLOT-",
         "Transport": "Airport train",
         "_deepnote_index_column": 64
        },
        {
         "Code": "K001",
         "District.Name": "nan",
         "Latitude": 41.451728,
         "Longitude": 2.217787,
         "Neighborhood.Name": "nan",
         "Station": "METRO (L1) - FONDO-",
         "Transport": "Underground",
         "_deepnote_index_column": 65
        },
        {
         "Code": "K001",
         "District.Name": "nan",
         "Latitude": 41.351236,
         "Longitude": 2.110686,
         "Neighborhood.Name": "nan",
         "Station": "METRO (L1) - BELLVITGE-",
         "Transport": "Underground",
         "_deepnote_index_column": 66
        },
        {
         "Code": "K002",
         "District.Name": "nan",
         "Latitude": 41.444795,
         "Longitude": 2.073187,
         "Neighborhood.Name": "nan",
         "Station": "FGC - LA FLORESTA-",
         "Transport": "Railway (FGC)",
         "_deepnote_index_column": 67
        },
        {
         "Code": "K011",
         "District.Name": "Sarrià-Sant Gervasi",
         "Latitude": 41.412807,
         "Longitude": 2.134953,
         "Neighborhood.Name": "Sant Gervasi - la Bonanova",
         "Station": "TRAMVIA BLAU - AV. TIBIDABO (Bosch i Alsina-Josep Mª Florensa)-",
         "Transport": "Tram",
         "_deepnote_index_column": 68
        },
        {
         "Code": "K011",
         "District.Name": "nan",
         "Latitude": 41.378842,
         "Longitude": 2.075217,
         "Neighborhood.Name": "nan",
         "Station": "TRAMVIA (T3) - RAMBLA DE SANT JUST-",
         "Transport": "Tram",
         "_deepnote_index_column": 69
        },
        {
         "Code": "K011",
         "District.Name": "nan",
         "Latitude": 41.418903,
         "Longitude": 2.22618,
         "Neighborhood.Name": "nan",
         "Station": "TRAMVIA (T4, T6) - PORT FÒRUM-",
         "Transport": "Tram",
         "_deepnote_index_column": 70
        }
       ]
      },
      "text/html": [
       "<div>\n",
       "<style scoped>\n",
       "    .dataframe tbody tr th:only-of-type {\n",
       "        vertical-align: middle;\n",
       "    }\n",
       "\n",
       "    .dataframe tbody tr th {\n",
       "        vertical-align: top;\n",
       "    }\n",
       "\n",
       "    .dataframe thead th {\n",
       "        text-align: right;\n",
       "    }\n",
       "</style>\n",
       "<table border=\"1\" class=\"dataframe\">\n",
       "  <thead>\n",
       "    <tr style=\"text-align: right;\">\n",
       "      <th></th>\n",
       "      <th>Code</th>\n",
       "      <th>Transport</th>\n",
       "      <th>Longitude</th>\n",
       "      <th>Latitude</th>\n",
       "      <th>Station</th>\n",
       "      <th>District.Name</th>\n",
       "      <th>Neighborhood.Name</th>\n",
       "    </tr>\n",
       "  </thead>\n",
       "  <tbody>\n",
       "    <tr>\n",
       "      <th>0</th>\n",
       "      <td>K001</td>\n",
       "      <td>Underground</td>\n",
       "      <td>2.119370</td>\n",
       "      <td>41.399203</td>\n",
       "      <td>FGC (L6) - REINA ELISENDA (Sortida Duquesa d'O...</td>\n",
       "      <td>Sarrià-Sant Gervasi</td>\n",
       "      <td>Sarrià</td>\n",
       "    </tr>\n",
       "    <tr>\n",
       "      <th>1</th>\n",
       "      <td>K001</td>\n",
       "      <td>Underground</td>\n",
       "      <td>2.135427</td>\n",
       "      <td>41.397791</td>\n",
       "      <td>FGC (L6) - LA BONANOVA-</td>\n",
       "      <td>Sarrià-Sant Gervasi</td>\n",
       "      <td>Sant Gervasi - Galvany</td>\n",
       "    </tr>\n",
       "    <tr>\n",
       "      <th>2</th>\n",
       "      <td>K001</td>\n",
       "      <td>Underground</td>\n",
       "      <td>2.185391</td>\n",
       "      <td>41.451492</td>\n",
       "      <td>METRO (L11) - CASA DE L'AIGUA (C. Vila-Real)-</td>\n",
       "      <td>Nou Barris</td>\n",
       "      <td>la Trinitat Nova</td>\n",
       "    </tr>\n",
       "    <tr>\n",
       "      <th>3</th>\n",
       "      <td>K001</td>\n",
       "      <td>Underground</td>\n",
       "      <td>2.174473</td>\n",
       "      <td>41.460889</td>\n",
       "      <td>METRO (L11) - CIUTAT MERIDIANA (C. Pedraforca)-</td>\n",
       "      <td>Nou Barris</td>\n",
       "      <td>Ciutat Meridiana</td>\n",
       "    </tr>\n",
       "    <tr>\n",
       "      <th>4</th>\n",
       "      <td>K001</td>\n",
       "      <td>Underground</td>\n",
       "      <td>2.168588</td>\n",
       "      <td>41.387200</td>\n",
       "      <td>METRO (L1) - CATALUNYA (Rda. Universitat)-</td>\n",
       "      <td>Eixample</td>\n",
       "      <td>la Dreta de l'Eixample</td>\n",
       "    </tr>\n",
       "    <tr>\n",
       "      <th>...</th>\n",
       "      <td>...</td>\n",
       "      <td>...</td>\n",
       "      <td>...</td>\n",
       "      <td>...</td>\n",
       "      <td>...</td>\n",
       "      <td>...</td>\n",
       "      <td>...</td>\n",
       "    </tr>\n",
       "    <tr>\n",
       "      <th>646</th>\n",
       "      <td>K002</td>\n",
       "      <td>Railway (FGC)</td>\n",
       "      <td>2.118998</td>\n",
       "      <td>41.398967</td>\n",
       "      <td>FGC - REINA ELISENDA-</td>\n",
       "      <td>Sarrià-Sant Gervasi</td>\n",
       "      <td>Sarrià</td>\n",
       "    </tr>\n",
       "    <tr>\n",
       "      <th>647</th>\n",
       "      <td>K008</td>\n",
       "      <td>Maritime station</td>\n",
       "      <td>2.175248</td>\n",
       "      <td>41.352808</td>\n",
       "      <td>Terminal Marítima E *Creuers</td>\n",
       "      <td>Sants-Montjuïc</td>\n",
       "      <td>la Marina del Prat Vermell</td>\n",
       "    </tr>\n",
       "    <tr>\n",
       "      <th>648</th>\n",
       "      <td>K008</td>\n",
       "      <td>Maritime station</td>\n",
       "      <td>2.174767</td>\n",
       "      <td>41.350955</td>\n",
       "      <td>Terminal Marítima D *Creuers</td>\n",
       "      <td>Sants-Montjuïc</td>\n",
       "      <td>la Marina del Prat Vermell</td>\n",
       "    </tr>\n",
       "    <tr>\n",
       "      <th>649</th>\n",
       "      <td>K002</td>\n",
       "      <td>Railway (FGC)</td>\n",
       "      <td>2.131188</td>\n",
       "      <td>41.397617</td>\n",
       "      <td>FGC - LES TRES TORRES&lt;center&gt;-</td>\n",
       "      <td>Sarrià-Sant Gervasi</td>\n",
       "      <td>les Tres Torres</td>\n",
       "    </tr>\n",
       "    <tr>\n",
       "      <th>650</th>\n",
       "      <td>K001</td>\n",
       "      <td>Underground</td>\n",
       "      <td>2.158822</td>\n",
       "      <td>41.375220</td>\n",
       "      <td>METRO (L3) - POBLE SEC (C. de Manso)-</td>\n",
       "      <td>Eixample</td>\n",
       "      <td>Sant Antoni</td>\n",
       "    </tr>\n",
       "  </tbody>\n",
       "</table>\n",
       "<p>651 rows × 7 columns</p>\n",
       "</div>"
      ],
      "text/plain": [
       "     Code         Transport  Longitude   Latitude  \\\n",
       "0    K001       Underground   2.119370  41.399203   \n",
       "1    K001       Underground   2.135427  41.397791   \n",
       "2    K001       Underground   2.185391  41.451492   \n",
       "3    K001       Underground   2.174473  41.460889   \n",
       "4    K001       Underground   2.168588  41.387200   \n",
       "..    ...               ...        ...        ...   \n",
       "646  K002     Railway (FGC)   2.118998  41.398967   \n",
       "647  K008  Maritime station   2.175248  41.352808   \n",
       "648  K008  Maritime station   2.174767  41.350955   \n",
       "649  K002     Railway (FGC)   2.131188  41.397617   \n",
       "650  K001       Underground   2.158822  41.375220   \n",
       "\n",
       "                                               Station        District.Name  \\\n",
       "0    FGC (L6) - REINA ELISENDA (Sortida Duquesa d'O...  Sarrià-Sant Gervasi   \n",
       "1                              FGC (L6) - LA BONANOVA-  Sarrià-Sant Gervasi   \n",
       "2        METRO (L11) - CASA DE L'AIGUA (C. Vila-Real)-           Nou Barris   \n",
       "3      METRO (L11) - CIUTAT MERIDIANA (C. Pedraforca)-           Nou Barris   \n",
       "4           METRO (L1) - CATALUNYA (Rda. Universitat)-             Eixample   \n",
       "..                                                 ...                  ...   \n",
       "646                              FGC - REINA ELISENDA-  Sarrià-Sant Gervasi   \n",
       "647                       Terminal Marítima E *Creuers       Sants-Montjuïc   \n",
       "648                       Terminal Marítima D *Creuers       Sants-Montjuïc   \n",
       "649                     FGC - LES TRES TORRES<center>-  Sarrià-Sant Gervasi   \n",
       "650              METRO (L3) - POBLE SEC (C. de Manso)-             Eixample   \n",
       "\n",
       "              Neighborhood.Name  \n",
       "0                        Sarrià  \n",
       "1        Sant Gervasi - Galvany  \n",
       "2              la Trinitat Nova  \n",
       "3              Ciutat Meridiana  \n",
       "4        la Dreta de l'Eixample  \n",
       "..                          ...  \n",
       "646                      Sarrià  \n",
       "647  la Marina del Prat Vermell  \n",
       "648  la Marina del Prat Vermell  \n",
       "649             les Tres Torres  \n",
       "650                 Sant Antoni  \n",
       "\n",
       "[651 rows x 7 columns]"
      ]
     },
     "execution_count": 13,
     "metadata": {},
     "output_type": "execute_result"
    }
   ],
   "source": [
    "public_transport = pd.read_csv(r\"/work/datasets/1.-Transportation/public-transport.csv\")\n",
    "public_transport"
   ]
  },
  {
   "cell_type": "markdown",
   "id": "f114731b",
   "metadata": {
    "cell_id": "00013-bc21d7ea-9735-4898-ba5f-7d0026a18dde",
    "deepnote_cell_type": "markdown",
    "tags": []
   },
   "source": [
    "----------"
   ]
  },
  {
   "cell_type": "markdown",
   "id": "a80fdc7d",
   "metadata": {
    "cell_id": "00014-82bc0629-e7d3-4839-a41f-b2bccf4c04db",
    "deepnote_cell_type": "markdown",
    "tags": []
   },
   "source": [
    "## Merged Data"
   ]
  },
  {
   "cell_type": "code",
   "execution_count": 14,
   "id": "bd36d1c1",
   "metadata": {
    "cell_id": "00004-2d67d77e-31f7-446b-baa4-520b53de91cf",
    "deepnote_cell_type": "code",
    "deepnote_to_be_reexecuted": false,
    "execution_millis": 98,
    "execution_start": 1623403009936,
    "source_hash": "6742ef46",
    "tags": []
   },
   "outputs": [
    {
     "data": {
      "application/vnd.deepnote.dataframe.v2+json": {
       "column_count": 8,
       "columns": [
        {
         "dtype": "object",
         "name": "Code",
         "stats": {
          "categories": [
           {
            "count": 2324,
            "name": "K014"
           },
           {
            "count": 828,
            "name": "K015"
           },
           {
            "count": 661,
            "name": "10 others"
           }
          ],
          "nan_count": 0,
          "unique_count": 12
         }
        },
        {
         "dtype": "object",
         "name": "Transport",
         "stats": {
          "categories": [
           {
            "count": 2324,
            "name": "Day bus stop"
           },
           {
            "count": 828,
            "name": "Night bus stop"
           },
           {
            "count": 661,
            "name": "10 others"
           }
          ],
          "nan_count": 0,
          "unique_count": 12
         }
        },
        {
         "dtype": "float64",
         "name": "Longitude",
         "stats": {
          "histogram": [
           {
            "bin_end": 2.0296613,
            "bin_start": 2.00528,
            "count": 4
           },
           {
            "bin_end": 2.0540426,
            "bin_start": 2.0296613,
            "count": 7
           },
           {
            "bin_end": 2.0784238999999998,
            "bin_start": 2.0540426,
            "count": 24
           },
           {
            "bin_end": 2.1028051999999997,
            "bin_start": 2.0784238999999998,
            "count": 119
           },
           {
            "bin_end": 2.1271864999999996,
            "bin_start": 2.1028051999999997,
            "count": 362
           },
           {
            "bin_end": 2.1515678,
            "bin_start": 2.1271864999999996,
            "count": 970
           },
           {
            "bin_end": 2.1759491,
            "bin_start": 2.1515678,
            "count": 1128
           },
           {
            "bin_end": 2.2003304,
            "bin_start": 2.1759491,
            "count": 899
           },
           {
            "bin_end": 2.2247117,
            "bin_start": 2.2003304,
            "count": 281
           },
           {
            "bin_end": 2.249093,
            "bin_start": 2.2247117,
            "count": 19
           }
          ],
          "max": "2.249093",
          "min": "2.00528",
          "nan_count": 0,
          "unique_count": 2944
         }
        },
        {
         "dtype": "float64",
         "name": "Latitude",
         "stats": {
          "histogram": [
           {
            "bin_end": 41.3236092,
            "bin_start": 41.304419,
            "count": 12
           },
           {
            "bin_end": 41.342799400000004,
            "bin_start": 41.3236092,
            "count": 70
           },
           {
            "bin_end": 41.3619896,
            "bin_start": 41.342799400000004,
            "count": 137
           },
           {
            "bin_end": 41.381179800000005,
            "bin_start": 41.3619896,
            "count": 556
           },
           {
            "bin_end": 41.40037,
            "bin_start": 41.381179800000005,
            "count": 950
           },
           {
            "bin_end": 41.4195602,
            "bin_start": 41.40037,
            "count": 962
           },
           {
            "bin_end": 41.4387504,
            "bin_start": 41.4195602,
            "count": 707
           },
           {
            "bin_end": 41.4579406,
            "bin_start": 41.4387504,
            "count": 318
           },
           {
            "bin_end": 41.477130800000005,
            "bin_start": 41.4579406,
            "count": 96
           },
           {
            "bin_end": 41.496321,
            "bin_start": 41.477130800000005,
            "count": 5
           }
          ],
          "max": "41.496321",
          "min": "41.304419",
          "nan_count": 0,
          "unique_count": 2925
         }
        },
        {
         "dtype": "object",
         "name": "Station",
         "stats": {
          "categories": [
           {
            "count": 5,
            "name": "METRO (L1) - BELLVITGE-"
           },
           {
            "count": 646,
            "name": "539 others"
           },
           {
            "count": 3162,
            "name": "Missing"
           }
          ],
          "nan_count": 3162,
          "unique_count": 540
         }
        },
        {
         "dtype": "object",
         "name": "District.Name",
         "stats": {
          "categories": [
           {
            "count": 525,
            "name": "Eixample"
           },
           {
            "count": 3108,
            "name": "9 others"
           },
           {
            "count": 180,
            "name": "Missing"
           }
          ],
          "nan_count": 180,
          "unique_count": 10
         }
        },
        {
         "dtype": "object",
         "name": "Neighborhood.Name",
         "stats": {
          "categories": [
           {
            "count": 198,
            "name": "la Dreta de l'Eixample"
           },
           {
            "count": 3435,
            "name": "72 others"
           },
           {
            "count": 180,
            "name": "Missing"
           }
          ],
          "nan_count": 180,
          "unique_count": 73
         }
        },
        {
         "dtype": "object",
         "name": "Bus.Stop",
         "stats": {
          "categories": [
           {
            "count": 81,
            "name": "NITBUS -N4--"
           },
           {
            "count": 3081,
            "name": "710 others"
           },
           {
            "count": 651,
            "name": "Missing"
           }
          ],
          "nan_count": 651,
          "unique_count": 711
         }
        },
        {
         "dtype": "int64",
         "name": "_deepnote_index_column"
        }
       ],
       "row_count": 3813,
       "rows_bottom": [
        {
         "Bus.Stop": "BUS -111--",
         "Code": "K014",
         "District.Name": "Sarrià-Sant Gervasi",
         "Latitude": 41.418891,
         "Longitude": 2.11673,
         "Neighborhood.Name": "Vallvidrera, el Tibidabo i les Planes",
         "Station": "nan",
         "Transport": "Day bus stop",
         "_deepnote_index_column": 3750
        },
        {
         "Bus.Stop": "BUS -59-92-V21-V27-136--",
         "Code": "K014",
         "District.Name": "Sant Martí",
         "Latitude": 41.388478,
         "Longitude": 2.193718,
         "Neighborhood.Name": "la Vila Olímpica del Poblenou",
         "Station": "nan",
         "Transport": "Day bus stop",
         "_deepnote_index_column": 3751
        },
        {
         "Bus.Stop": "BUS -39-45-47-H8--",
         "Code": "K014",
         "District.Name": "Eixample",
         "Latitude": 41.399796,
         "Longitude": 2.166016,
         "Neighborhood.Name": "la Dreta de l'Eixample",
         "Station": "nan",
         "Transport": "Day bus stop",
         "_deepnote_index_column": 3752
        },
        {
         "Bus.Stop": "BUS -H6--",
         "Code": "K014",
         "District.Name": "Sarrià-Sant Gervasi",
         "Latitude": 41.401119,
         "Longitude": 2.136297,
         "Neighborhood.Name": "Sant Gervasi - Galvany",
         "Station": "nan",
         "Transport": "Day bus stop",
         "_deepnote_index_column": 3753
        },
        {
         "Bus.Stop": "NITBUS -N5--",
         "Code": "K015",
         "District.Name": "Gràcia",
         "Latitude": 41.413297,
         "Longitude": 2.144808,
         "Neighborhood.Name": "Vallcarca i els Penitents",
         "Station": "nan",
         "Transport": "Night bus stop",
         "_deepnote_index_column": 3754
        },
        {
         "Bus.Stop": "BUS -24-92-116--",
         "Code": "K014",
         "District.Name": "Gràcia",
         "Latitude": 41.413219,
         "Longitude": 2.160785,
         "Neighborhood.Name": "la Salut",
         "Station": "nan",
         "Transport": "Day bus stop",
         "_deepnote_index_column": 3755
        },
        {
         "Bus.Stop": "BUS -60-V31--",
         "Code": "K014",
         "District.Name": "Sant Andreu",
         "Latitude": 41.444675,
         "Longitude": 2.189153,
         "Neighborhood.Name": "Sant Andreu",
         "Station": "nan",
         "Transport": "Day bus stop",
         "_deepnote_index_column": 3756
        },
        {
         "Bus.Stop": "NITBUS -N6--",
         "Code": "K015",
         "District.Name": "Nou Barris",
         "Latitude": 41.444914,
         "Longitude": 2.174651,
         "Neighborhood.Name": "les Roquetes",
         "Station": "nan",
         "Transport": "Night bus stop",
         "_deepnote_index_column": 3757
        },
        {
         "Bus.Stop": "BUS -33-34-62-B24-H10--",
         "Code": "K014",
         "District.Name": "Sant Martí",
         "Latitude": 41.407328,
         "Longitude": 2.184917,
         "Neighborhood.Name": "el Camp de l'Arpa del Clot",
         "Station": "nan",
         "Transport": "Day bus stop",
         "_deepnote_index_column": 3758
        },
        {
         "Bus.Stop": "NITBUS -N2--",
         "Code": "K015",
         "District.Name": "Sant Martí",
         "Latitude": 41.409594,
         "Longitude": 2.194861,
         "Neighborhood.Name": "el Clot",
         "Station": "nan",
         "Transport": "Night bus stop",
         "_deepnote_index_column": 3759
        },
        {
         "Bus.Stop": "NITBUS -N0-N6--",
         "Code": "K015",
         "District.Name": "Sants-Montjuïc",
         "Latitude": 41.374563,
         "Longitude": 2.174655,
         "Neighborhood.Name": "el Poble-sec",
         "Station": "nan",
         "Transport": "Night bus stop",
         "_deepnote_index_column": 3760
        },
        {
         "Bus.Stop": "NITBUS -N6--",
         "Code": "K015",
         "District.Name": "Horta-Guinardó",
         "Latitude": 41.416081,
         "Longitude": 2.169914,
         "Neighborhood.Name": "el Guinardó",
         "Station": "nan",
         "Transport": "Night bus stop",
         "_deepnote_index_column": 3761
        },
        {
         "Bus.Stop": "NITBUS -N6--",
         "Code": "K015",
         "District.Name": "Sant Martí",
         "Latitude": 41.405262,
         "Longitude": 2.205261,
         "Neighborhood.Name": "el Poblenou",
         "Station": "nan",
         "Transport": "Night bus stop",
         "_deepnote_index_column": 3762
        },
        {
         "Bus.Stop": "NITBUS -N3--",
         "Code": "K015",
         "District.Name": "Nou Barris",
         "Latitude": 41.435659,
         "Longitude": 2.183824,
         "Neighborhood.Name": "Porta",
         "Station": "nan",
         "Transport": "Night bus stop",
         "_deepnote_index_column": 3763
        },
        {
         "Bus.Stop": "BUS -22-24-V17--",
         "Code": "K014",
         "District.Name": "Sarrià-Sant Gervasi",
         "Latitude": 41.39644,
         "Longitude": 2.155067,
         "Neighborhood.Name": "Sant Gervasi - Galvany",
         "Station": "nan",
         "Transport": "Day bus stop",
         "_deepnote_index_column": 3764
        },
        {
         "Bus.Stop": "BUS -V15--",
         "Code": "K014",
         "District.Name": "Sarrià-Sant Gervasi",
         "Latitude": 41.395806,
         "Longitude": 2.154047,
         "Neighborhood.Name": "Sant Gervasi - Galvany",
         "Station": "nan",
         "Transport": "Day bus stop",
         "_deepnote_index_column": 3765
        },
        {
         "Bus.Stop": "BUS -39-117--",
         "Code": "K014",
         "District.Name": "Horta-Guinardó",
         "Latitude": 41.423742,
         "Longitude": 2.16498,
         "Neighborhood.Name": "la Font d'en Fargues",
         "Station": "nan",
         "Transport": "Day bus stop",
         "_deepnote_index_column": 3766
        },
        {
         "Bus.Stop": "BUS -109-V3-H16--",
         "Code": "K014",
         "District.Name": "Sants-Montjuïc",
         "Latitude": 41.360007,
         "Longitude": 2.139356,
         "Neighborhood.Name": "la Marina de Port",
         "Station": "nan",
         "Transport": "Day bus stop",
         "_deepnote_index_column": 3767
        },
        {
         "Bus.Stop": "BUS -24-H6-D40--",
         "Code": "K014",
         "District.Name": "Gràcia",
         "Latitude": 41.410489,
         "Longitude": 2.156657,
         "Neighborhood.Name": "la Salut",
         "Station": "nan",
         "Transport": "Day bus stop",
         "_deepnote_index_column": 3768
        },
        {
         "Bus.Stop": "BUS -V11--",
         "Code": "K014",
         "District.Name": "Eixample",
         "Latitude": 41.382707,
         "Longitude": 2.157991,
         "Neighborhood.Name": "l'Antiga Esquerra de l'Eixample",
         "Station": "nan",
         "Transport": "Day bus stop",
         "_deepnote_index_column": 3769
        },
        {
         "Bus.Stop": "NITBUS -N1-N4--",
         "Code": "K015",
         "District.Name": "Eixample",
         "Latitude": 41.395499,
         "Longitude": 2.175296,
         "Neighborhood.Name": "la Dreta de l'Eixample",
         "Station": "nan",
         "Transport": "Night bus stop",
         "_deepnote_index_column": 3770
        },
        {
         "Bus.Stop": "BUS -V21--",
         "Code": "K014",
         "District.Name": "Sant Martí",
         "Latitude": 41.394185,
         "Longitude": 2.187573,
         "Neighborhood.Name": "el Parc i la Llacuna del Poblenou",
         "Station": "nan",
         "Transport": "Day bus stop",
         "_deepnote_index_column": 3771
        },
        {
         "Bus.Stop": "NITBUS -N1--",
         "Code": "K015",
         "District.Name": "Sants-Montjuïc",
         "Latitude": 41.358041,
         "Longitude": 2.140775,
         "Neighborhood.Name": "la Marina de Port",
         "Station": "nan",
         "Transport": "Night bus stop",
         "_deepnote_index_column": 3772
        },
        {
         "Bus.Stop": "BUS -60-130--",
         "Code": "K014",
         "District.Name": "Sarrià-Sant Gervasi",
         "Latitude": 41.401867,
         "Longitude": 2.114389,
         "Neighborhood.Name": "Sarrià",
         "Station": "nan",
         "Transport": "Day bus stop",
         "_deepnote_index_column": 3773
        },
        {
         "Bus.Stop": "BUS -76--",
         "Code": "K014",
         "District.Name": "Horta-Guinardó",
         "Latitude": 41.429186,
         "Longitude": 2.138042,
         "Neighborhood.Name": "Sant Genís dels Agudells",
         "Station": "nan",
         "Transport": "Day bus stop",
         "_deepnote_index_column": 3774
        },
        {
         "Bus.Stop": "BUS -122--",
         "Code": "K014",
         "District.Name": "Nou Barris",
         "Latitude": 41.42867,
         "Longitude": 2.16852,
         "Neighborhood.Name": "Vilapicina i la Torre Llobeta",
         "Station": "nan",
         "Transport": "Day bus stop",
         "_deepnote_index_column": 3775
        },
        {
         "Bus.Stop": "BUS -123--",
         "Code": "K014",
         "District.Name": "Sarrià-Sant Gervasi",
         "Latitude": 41.403985,
         "Longitude": 2.126437,
         "Neighborhood.Name": "Sant Gervasi - la Bonanova",
         "Station": "nan",
         "Transport": "Day bus stop",
         "_deepnote_index_column": 3776
        },
        {
         "Bus.Stop": "BUS -67-L97-L79-E43--",
         "Code": "K014",
         "District.Name": "Les Corts",
         "Latitude": 41.384771,
         "Longitude": 2.112922,
         "Neighborhood.Name": "Pedralbes",
         "Station": "nan",
         "Transport": "Day bus stop",
         "_deepnote_index_column": 3777
        },
        {
         "Bus.Stop": "BUS -7-33-67-75-L14--",
         "Code": "K014",
         "District.Name": "Les Corts",
         "Latitude": 41.385858,
         "Longitude": 2.118883,
         "Neighborhood.Name": "la Maternitat i Sant Ramon",
         "Station": "nan",
         "Transport": "Day bus stop",
         "_deepnote_index_column": 3778
        },
        {
         "Bus.Stop": "BUS -54--",
         "Code": "K014",
         "District.Name": "Les Corts",
         "Latitude": 41.378951,
         "Longitude": 2.118078,
         "Neighborhood.Name": "la Maternitat i Sant Ramon",
         "Station": "nan",
         "Transport": "Day bus stop",
         "_deepnote_index_column": 3779
        },
        {
         "Bus.Stop": "BUS -13--",
         "Code": "K014",
         "District.Name": "Sants-Montjuïc",
         "Latitude": 41.362776,
         "Longitude": 2.156727,
         "Neighborhood.Name": "el Poble-sec",
         "Station": "nan",
         "Transport": "Day bus stop",
         "_deepnote_index_column": 3780
        },
        {
         "Bus.Stop": "BUS -60--",
         "Code": "K014",
         "District.Name": "Sant Andreu",
         "Latitude": 41.43521,
         "Longitude": 2.200961,
         "Neighborhood.Name": "el Bon Pastor",
         "Station": "nan",
         "Transport": "Day bus stop",
         "_deepnote_index_column": 3781
        },
        {
         "Bus.Stop": "BUS -11-H4-M28--",
         "Code": "K014",
         "District.Name": "Sant Andreu",
         "Latitude": 41.436906,
         "Longitude": 2.196185,
         "Neighborhood.Name": "el Bon Pastor",
         "Station": "nan",
         "Transport": "Day bus stop",
         "_deepnote_index_column": 3782
        },
        {
         "Bus.Stop": "BUS -118--",
         "Code": "K014",
         "District.Name": "Sarrià-Sant Gervasi",
         "Latitude": 41.423978,
         "Longitude": 2.090677,
         "Neighborhood.Name": "Vallvidrera, el Tibidabo i les Planes",
         "Station": "nan",
         "Transport": "Day bus stop",
         "_deepnote_index_column": 3783
        },
        {
         "Bus.Stop": "BUS -39--",
         "Code": "K014",
         "District.Name": "Horta-Guinardó",
         "Latitude": 41.42902,
         "Longitude": 2.157268,
         "Neighborhood.Name": "el Carmel",
         "Station": "nan",
         "Transport": "Day bus stop",
         "_deepnote_index_column": 3784
        },
        {
         "Bus.Stop": "BUS -39--",
         "Code": "K014",
         "District.Name": "Horta-Guinardó",
         "Latitude": 41.423131,
         "Longitude": 2.158672,
         "Neighborhood.Name": "la Font d'en Fargues",
         "Station": "nan",
         "Transport": "Day bus stop",
         "_deepnote_index_column": 3785
        },
        {
         "Bus.Stop": "BUS -7--",
         "Code": "K014",
         "District.Name": "Sant Martí",
         "Latitude": 41.40527,
         "Longitude": 2.195481,
         "Neighborhood.Name": "el Poblenou",
         "Station": "nan",
         "Transport": "Day bus stop",
         "_deepnote_index_column": 3786
        },
        {
         "Bus.Stop": "BUS -H16--",
         "Code": "K014",
         "District.Name": "Sant Martí",
         "Latitude": 41.407061,
         "Longitude": 2.215347,
         "Neighborhood.Name": "Diagonal Mar i el Front Marítim del Poblenou",
         "Station": "nan",
         "Transport": "Day bus stop",
         "_deepnote_index_column": 3787
        },
        {
         "Bus.Stop": "NITBUS -N6--",
         "Code": "K015",
         "District.Name": "Sant Martí",
         "Latitude": 41.409137,
         "Longitude": 2.213026,
         "Neighborhood.Name": "Diagonal Mar i el Front Marítim del Poblenou",
         "Station": "nan",
         "Transport": "Night bus stop",
         "_deepnote_index_column": 3788
        },
        {
         "Bus.Stop": "BUS -27-47-60-122-127-V27--",
         "Code": "K014",
         "District.Name": "Nou Barris",
         "Latitude": 41.443004,
         "Longitude": 2.169648,
         "Neighborhood.Name": "Canyelles",
         "Station": "nan",
         "Transport": "Day bus stop",
         "_deepnote_index_column": 3789
        },
        {
         "Bus.Stop": "BUS -150--",
         "Code": "K014",
         "District.Name": "Sants-Montjuïc",
         "Latitude": 41.367957,
         "Longitude": 2.168902,
         "Neighborhood.Name": "el Poble-sec",
         "Station": "nan",
         "Transport": "Day bus stop",
         "_deepnote_index_column": 3790
        },
        {
         "Bus.Stop": "BUS -62-76-D50--",
         "Code": "K014",
         "District.Name": "Nou Barris",
         "Latitude": 41.461274,
         "Longitude": 2.180409,
         "Neighborhood.Name": "Ciutat Meridiana",
         "Station": "nan",
         "Transport": "Day bus stop",
         "_deepnote_index_column": 3791
        },
        {
         "Bus.Stop": "BUS -62-76-104-83-D50--",
         "Code": "K014",
         "District.Name": "Nou Barris",
         "Latitude": 41.461602,
         "Longitude": 2.178518,
         "Neighborhood.Name": "Ciutat Meridiana",
         "Station": "nan",
         "Transport": "Day bus stop",
         "_deepnote_index_column": 3792
        },
        {
         "Bus.Stop": "BUS -19--",
         "Code": "K014",
         "District.Name": "Horta-Guinardó",
         "Latitude": 41.425559,
         "Longitude": 2.153646,
         "Neighborhood.Name": "el Carmel",
         "Station": "nan",
         "Transport": "Day bus stop",
         "_deepnote_index_column": 3793
        },
        {
         "Bus.Stop": "BUS -114--",
         "Code": "K014",
         "District.Name": "Horta-Guinardó",
         "Latitude": 41.415711,
         "Longitude": 2.167085,
         "Neighborhood.Name": "Can Baró",
         "Station": "nan",
         "Transport": "Day bus stop",
         "_deepnote_index_column": 3794
        },
        {
         "Bus.Stop": "BUS -114--",
         "Code": "K014",
         "District.Name": "Horta-Guinardó",
         "Latitude": 41.416488,
         "Longitude": 2.16618,
         "Neighborhood.Name": "Can Baró",
         "Station": "nan",
         "Transport": "Day bus stop",
         "_deepnote_index_column": 3795
        },
        {
         "Bus.Stop": "BUS -132--",
         "Code": "K014",
         "District.Name": "Nou Barris",
         "Latitude": 41.435067,
         "Longitude": 2.175908,
         "Neighborhood.Name": "Porta",
         "Station": "nan",
         "Transport": "Day bus stop",
         "_deepnote_index_column": 3796
        },
        {
         "Bus.Stop": "NITBUS -N11-N8--",
         "Code": "K015",
         "District.Name": "Sant Martí",
         "Latitude": 41.40013,
         "Longitude": 2.191098,
         "Neighborhood.Name": "el Parc i la Llacuna del Poblenou",
         "Station": "nan",
         "Transport": "Night bus stop",
         "_deepnote_index_column": 3797
        },
        {
         "Bus.Stop": "BUS -112--",
         "Code": "K014",
         "District.Name": "Horta-Guinardó",
         "Latitude": 41.426764,
         "Longitude": 2.134963,
         "Neighborhood.Name": "Sant Genís dels Agudells",
         "Station": "nan",
         "Transport": "Day bus stop",
         "_deepnote_index_column": 3798
        },
        {
         "Bus.Stop": "BUS -114--",
         "Code": "K014",
         "District.Name": "Gràcia",
         "Latitude": 41.400682,
         "Longitude": 2.156861,
         "Neighborhood.Name": "la Vila de Gràcia",
         "Station": "nan",
         "Transport": "Day bus stop",
         "_deepnote_index_column": 3799
        },
        {
         "Bus.Stop": "BUS -126--",
         "Code": "K014",
         "District.Name": "Sant Andreu",
         "Latitude": 41.422917,
         "Longitude": 2.186186,
         "Neighborhood.Name": "la Sagrera",
         "Station": "nan",
         "Transport": "Day bus stop",
         "_deepnote_index_column": 3800
        },
        {
         "Bus.Stop": "BUS -125-V5--",
         "Code": "K014",
         "District.Name": "Sants-Montjuïc",
         "Latitude": 41.363957,
         "Longitude": 2.139204,
         "Neighborhood.Name": "la Marina de Port",
         "Station": "nan",
         "Transport": "Day bus stop",
         "_deepnote_index_column": 3801
        },
        {
         "Bus.Stop": "BUS -125--",
         "Code": "K014",
         "District.Name": "Sants-Montjuïc",
         "Latitude": 41.359529,
         "Longitude": 2.136309,
         "Neighborhood.Name": "la Marina de Port",
         "Station": "nan",
         "Transport": "Day bus stop",
         "_deepnote_index_column": 3802
        },
        {
         "Bus.Stop": "NITBUS -N6--",
         "Code": "K015",
         "District.Name": "Sant Martí",
         "Latitude": 41.408138,
         "Longitude": 2.209107,
         "Neighborhood.Name": "Diagonal Mar i el Front Marítim del Poblenou",
         "Station": "nan",
         "Transport": "Night bus stop",
         "_deepnote_index_column": 3803
        },
        {
         "Bus.Stop": "BUS -128--",
         "Code": "K014",
         "District.Name": "Sarrià-Sant Gervasi",
         "Latitude": 41.428841,
         "Longitude": 2.098853,
         "Neighborhood.Name": "Vallvidrera, el Tibidabo i les Planes",
         "Station": "nan",
         "Transport": "Day bus stop",
         "_deepnote_index_column": 3804
        },
        {
         "Bus.Stop": "BUS -128--",
         "Code": "K014",
         "District.Name": "Sarrià-Sant Gervasi",
         "Latitude": 41.429401,
         "Longitude": 2.096273,
         "Neighborhood.Name": "Vallvidrera, el Tibidabo i les Planes",
         "Station": "nan",
         "Transport": "Day bus stop",
         "_deepnote_index_column": 3805
        },
        {
         "Bus.Stop": "BUS -125--",
         "Code": "K014",
         "District.Name": "Sants-Montjuïc",
         "Latitude": 41.363219,
         "Longitude": 2.145507,
         "Neighborhood.Name": "la Marina de Port",
         "Station": "nan",
         "Transport": "Day bus stop",
         "_deepnote_index_column": 3806
        },
        {
         "Bus.Stop": "BUS -68-75-H4--",
         "Code": "K014",
         "District.Name": "Sarrià-Sant Gervasi",
         "Latitude": 41.398514,
         "Longitude": 2.118484,
         "Neighborhood.Name": "Sarrià",
         "Station": "nan",
         "Transport": "Day bus stop",
         "_deepnote_index_column": 3807
        },
        {
         "Bus.Stop": "BUS -191--",
         "Code": "K014",
         "District.Name": "Sant Andreu",
         "Latitude": 41.422024,
         "Longitude": 2.183887,
         "Neighborhood.Name": "el Congrés i els Indians",
         "Station": "nan",
         "Transport": "Day bus stop",
         "_deepnote_index_column": 3808
        },
        {
         "Bus.Stop": "BUS -127-81--",
         "Code": "K014",
         "District.Name": "Nou Barris",
         "Latitude": 41.446419,
         "Longitude": 2.17671,
         "Neighborhood.Name": "les Roquetes",
         "Station": "nan",
         "Transport": "Day bus stop",
         "_deepnote_index_column": 3809
        },
        {
         "Bus.Stop": "NITBUS -N4--",
         "Code": "K015",
         "District.Name": "Gràcia",
         "Latitude": 41.411446,
         "Longitude": 2.144596,
         "Neighborhood.Name": "Vallcarca i els Penitents",
         "Station": "nan",
         "Transport": "Night bus stop",
         "_deepnote_index_column": 3810
        },
        {
         "Bus.Stop": "BUS -91-115-V5--",
         "Code": "K014",
         "District.Name": "Sants-Montjuïc",
         "Latitude": 41.371176,
         "Longitude": 2.142256,
         "Neighborhood.Name": "la Bordeta",
         "Station": "nan",
         "Transport": "Day bus stop",
         "_deepnote_index_column": 3811
        },
        {
         "Bus.Stop": "NITBUS -N7--",
         "Code": "K015",
         "District.Name": "Sarrià-Sant Gervasi",
         "Latitude": 41.398495,
         "Longitude": 2.134932,
         "Neighborhood.Name": "Sant Gervasi - Galvany",
         "Station": "nan",
         "Transport": "Night bus stop",
         "_deepnote_index_column": 3812
        }
       ],
       "rows_top": [
        {
         "Bus.Stop": "nan",
         "Code": "K001",
         "District.Name": "Sarrià-Sant Gervasi",
         "Latitude": 41.399203,
         "Longitude": 2.11937,
         "Neighborhood.Name": "Sarrià",
         "Station": "FGC (L6) - REINA ELISENDA (Sortida Duquesa d'Orleans)-",
         "Transport": "Underground",
         "_deepnote_index_column": 0
        },
        {
         "Bus.Stop": "nan",
         "Code": "K001",
         "District.Name": "Sarrià-Sant Gervasi",
         "Latitude": 41.397791,
         "Longitude": 2.135427,
         "Neighborhood.Name": "Sant Gervasi - Galvany",
         "Station": "FGC (L6) - LA BONANOVA-",
         "Transport": "Underground",
         "_deepnote_index_column": 1
        },
        {
         "Bus.Stop": "nan",
         "Code": "K001",
         "District.Name": "Nou Barris",
         "Latitude": 41.451492,
         "Longitude": 2.185391,
         "Neighborhood.Name": "la Trinitat Nova",
         "Station": "METRO (L11) - CASA DE L'AIGUA (C. Vila-Real)-",
         "Transport": "Underground",
         "_deepnote_index_column": 2
        },
        {
         "Bus.Stop": "nan",
         "Code": "K001",
         "District.Name": "Nou Barris",
         "Latitude": 41.460889,
         "Longitude": 2.174473,
         "Neighborhood.Name": "Ciutat Meridiana",
         "Station": "METRO (L11) - CIUTAT MERIDIANA (C. Pedraforca)-",
         "Transport": "Underground",
         "_deepnote_index_column": 3
        },
        {
         "Bus.Stop": "nan",
         "Code": "K001",
         "District.Name": "Eixample",
         "Latitude": 41.3872,
         "Longitude": 2.168588,
         "Neighborhood.Name": "la Dreta de l'Eixample",
         "Station": "METRO (L1) - CATALUNYA (Rda. Universitat)-",
         "Transport": "Underground",
         "_deepnote_index_column": 4
        },
        {
         "Bus.Stop": "nan",
         "Code": "K001",
         "District.Name": "Eixample",
         "Latitude": 41.387706,
         "Longitude": 2.168507,
         "Neighborhood.Name": "la Dreta de l'Eixample",
         "Station": "METRO (L1) - CATALUNYA (Rambla de Catalunya)-",
         "Transport": "Underground",
         "_deepnote_index_column": 5
        },
        {
         "Bus.Stop": "nan",
         "Code": "K001",
         "District.Name": "Sarrià-Sant Gervasi",
         "Latitude": 41.398967,
         "Longitude": 2.118998,
         "Neighborhood.Name": "Sarrià",
         "Station": "FGC (L6) - REINA ELISENDA-",
         "Transport": "Underground",
         "_deepnote_index_column": 6
        },
        {
         "Bus.Stop": "nan",
         "Code": "K001",
         "District.Name": "nan",
         "Latitude": 41.362753,
         "Longitude": 2.083994,
         "Neighborhood.Name": "nan",
         "Station": "METRO (L5) - SANT ILDEFONS-",
         "Transport": "Underground",
         "_deepnote_index_column": 7
        },
        {
         "Bus.Stop": "nan",
         "Code": "K001",
         "District.Name": "Horta-Guinardó",
         "Latitude": 41.424923,
         "Longitude": 2.142987,
         "Neighborhood.Name": "la Vall d'Hebron",
         "Station": "METRO (L3, L5) - VALL D'HEBRON (C. de les Basses d'Horta)-",
         "Transport": "Underground",
         "_deepnote_index_column": 8
        },
        {
         "Bus.Stop": "nan",
         "Code": "K002",
         "District.Name": "Eixample",
         "Latitude": 41.392331,
         "Longitude": 2.158326,
         "Neighborhood.Name": "l'Antiga Esquerra de l'Eixample",
         "Station": "FGC - PROVENÇA (C. de Provença)-",
         "Transport": "Railway (FGC)",
         "_deepnote_index_column": 9
        },
        {
         "Bus.Stop": "nan",
         "Code": "K001",
         "District.Name": "nan",
         "Latitude": 41.362977,
         "Longitude": 2.100302,
         "Neighborhood.Name": "nan",
         "Station": "METRO (L1) - RAMBLA JUST OLIVERAS-",
         "Transport": "Underground",
         "_deepnote_index_column": 10
        },
        {
         "Bus.Stop": "nan",
         "Code": "K001",
         "District.Name": "Eixample",
         "Latitude": 41.40018,
         "Longitude": 2.179581,
         "Neighborhood.Name": "el Fort Pienc",
         "Station": "METRO (L2) - MONUMENTAL (C. de la Marina)-",
         "Transport": "Underground",
         "_deepnote_index_column": 11
        },
        {
         "Bus.Stop": "nan",
         "Code": "K001",
         "District.Name": "Eixample",
         "Latitude": 41.37907,
         "Longitude": 2.153966,
         "Neighborhood.Name": "la Nova Esquerra de l'Eixample",
         "Station": "METRO (L1) - ROCAFORT (C. de Rocafort)-",
         "Transport": "Underground",
         "_deepnote_index_column": 12
        },
        {
         "Bus.Stop": "nan",
         "Code": "K001",
         "District.Name": "Eixample",
         "Latitude": 41.389295,
         "Longitude": 2.168735,
         "Neighborhood.Name": "la Dreta de l'Eixample",
         "Station": "METRO (L2) - PASSEIG DE GRÀCIA (Pg. de Gràcia)-",
         "Transport": "Underground",
         "_deepnote_index_column": 13
        },
        {
         "Bus.Stop": "nan",
         "Code": "K001",
         "District.Name": "Horta-Guinardó",
         "Latitude": 41.430042,
         "Longitude": 2.161228,
         "Neighborhood.Name": "Horta",
         "Station": "METRO (L5) - HORTA (Pl. d'Eivissa)-",
         "Transport": "Underground",
         "_deepnote_index_column": 14
        },
        {
         "Bus.Stop": "nan",
         "Code": "K011",
         "District.Name": "nan",
         "Latitude": 41.376486,
         "Longitude": 2.098896,
         "Neighborhood.Name": "nan",
         "Station": "TRAMVIA (T1,T2,T3) - CA N'OLIVERES-",
         "Transport": "Tram",
         "_deepnote_index_column": 15
        },
        {
         "Bus.Stop": "nan",
         "Code": "K001",
         "District.Name": "Sants-Montjuïc",
         "Latitude": 41.373293,
         "Longitude": 2.13319,
         "Neighborhood.Name": "Sants",
         "Station": "METRO (L1) - MERCAT NOU (C. d'Antoni de Capmany)-",
         "Transport": "Underground",
         "_deepnote_index_column": 16
        },
        {
         "Bus.Stop": "nan",
         "Code": "K001",
         "District.Name": "Eixample",
         "Latitude": 41.378565,
         "Longitude": 2.145478,
         "Neighborhood.Name": "la Nova Esquerra de l'Eixample",
         "Station": "METRO (L3) - TARRAGONA-",
         "Transport": "Underground",
         "_deepnote_index_column": 17
        },
        {
         "Bus.Stop": "nan",
         "Code": "K001",
         "District.Name": "Horta-Guinardó",
         "Latitude": 41.434855,
         "Longitude": 2.147798,
         "Neighborhood.Name": "la Vall d'Hebron",
         "Station": "METRO (L3) - MUNDET (Can Marcet)-",
         "Transport": "Underground",
         "_deepnote_index_column": 18
        },
        {
         "Bus.Stop": "nan",
         "Code": "K001",
         "District.Name": "Horta-Guinardó",
         "Latitude": 41.435325,
         "Longitude": 2.148557,
         "Neighborhood.Name": "la Vall d'Hebron",
         "Station": "METRO (L3) - MUNDET (Can Marcet)-",
         "Transport": "Underground",
         "_deepnote_index_column": 19
        },
        {
         "Bus.Stop": "nan",
         "Code": "K001",
         "District.Name": "Sant Martí",
         "Latitude": 41.41174,
         "Longitude": 2.215909,
         "Neighborhood.Name": "el Besòs i el Maresme",
         "Station": "METRO (L4) - EL MARESME-FÒRUM (C. del Maresme)-",
         "Transport": "Underground",
         "_deepnote_index_column": 20
        },
        {
         "Bus.Stop": "nan",
         "Code": "K001",
         "District.Name": "Eixample",
         "Latitude": 41.385015,
         "Longitude": 2.163252,
         "Neighborhood.Name": "Sant Antoni",
         "Station": "METRO (L2) - UNIVERSITAT-",
         "Transport": "Underground",
         "_deepnote_index_column": 21
        },
        {
         "Bus.Stop": "nan",
         "Code": "K011",
         "District.Name": "Sant Martí",
         "Latitude": 41.411242,
         "Longitude": 2.197653,
         "Neighborhood.Name": "Provençals del Poblenou",
         "Station": "TRAMVIA (T5, T6) - ESPRONCEDA-",
         "Transport": "Tram",
         "_deepnote_index_column": 22
        },
        {
         "Bus.Stop": "nan",
         "Code": "K011",
         "District.Name": "Les Corts",
         "Latitude": 41.38048,
         "Longitude": 2.115012,
         "Neighborhood.Name": "la Maternitat i Sant Ramon",
         "Station": "TRAMVIA (T1,T2,T3) - AVINGUDA DE XILE-",
         "Transport": "Tram",
         "_deepnote_index_column": 23
        },
        {
         "Bus.Stop": "nan",
         "Code": "K011",
         "District.Name": "nan",
         "Latitude": 41.376071,
         "Longitude": 2.106023,
         "Neighborhood.Name": "nan",
         "Station": "TRAMVIA (T1,T2,T3) - CAN RIGAL-",
         "Transport": "Tram",
         "_deepnote_index_column": 24
        },
        {
         "Bus.Stop": "nan",
         "Code": "K011",
         "District.Name": "nan",
         "Latitude": 41.430456,
         "Longitude": 2.222916,
         "Neighborhood.Name": "nan",
         "Station": "TRAMVIA (T5) - ENCANTS DE SANT ADRIÀ-",
         "Transport": "Tram",
         "_deepnote_index_column": 25
        },
        {
         "Bus.Stop": "nan",
         "Code": "K011",
         "District.Name": "Sant Martí",
         "Latitude": 41.411777,
         "Longitude": 2.219829,
         "Neighborhood.Name": "el Besòs i el Maresme",
         "Station": "TRAMVIA (T4) - FÒRUM-",
         "Transport": "Tram",
         "_deepnote_index_column": 26
        },
        {
         "Bus.Stop": "nan",
         "Code": "K011",
         "District.Name": "nan",
         "Latitude": 41.423854,
         "Longitude": 2.230412,
         "Neighborhood.Name": "nan",
         "Station": "TRAMVIA (T4, T6) - ESTACIÓ DE SANT ADRIÀ-",
         "Transport": "Tram",
         "_deepnote_index_column": 27
        },
        {
         "Bus.Stop": "nan",
         "Code": "K011",
         "District.Name": "nan",
         "Latitude": 41.360383,
         "Longitude": 2.062227,
         "Neighborhood.Name": "nan",
         "Station": "TRAMVIA (T1,T2) - FONTSANTA-FATJÓ-",
         "Transport": "Tram",
         "_deepnote_index_column": 28
        },
        {
         "Bus.Stop": "nan",
         "Code": "K008",
         "District.Name": "nan",
         "Latitude": 41.370929,
         "Longitude": 2.182868,
         "Neighborhood.Name": "nan",
         "Station": "Estació Marítima INTERNACIONAL-",
         "Transport": "Maritime station",
         "_deepnote_index_column": 29
        },
        {
         "Bus.Stop": "nan",
         "Code": "K001",
         "District.Name": "nan",
         "Latitude": 41.357005,
         "Longitude": 2.125369,
         "Neighborhood.Name": "nan",
         "Station": "FGC (L8) - EUROPA / FIRA-",
         "Transport": "Underground",
         "_deepnote_index_column": 30
        },
        {
         "Bus.Stop": "nan",
         "Code": "K001",
         "District.Name": "Nou Barris",
         "Latitude": 41.444145,
         "Longitude": 2.178826,
         "Neighborhood.Name": "la Prosperitat",
         "Station": "METRO (L4) - VIA JÚLIA (Via Júlia - Joaquim Valls)-",
         "Transport": "Underground",
         "_deepnote_index_column": 31
        },
        {
         "Bus.Stop": "nan",
         "Code": "K001",
         "District.Name": "Sants-Montjuïc",
         "Latitude": 41.380858,
         "Longitude": 2.141603,
         "Neighborhood.Name": "Sants",
         "Station": "METRO (L3) - SANTS ESTACIÓ (C. de Numància)-",
         "Transport": "Underground",
         "_deepnote_index_column": 32
        },
        {
         "Bus.Stop": "nan",
         "Code": "K001",
         "District.Name": "Eixample",
         "Latitude": 41.394796,
         "Longitude": 2.171334,
         "Neighborhood.Name": "la Dreta de l'Eixample",
         "Station": "METRO (L4) - GIRONA (C. de Girona)-",
         "Transport": "Underground",
         "_deepnote_index_column": 33
        },
        {
         "Bus.Stop": "nan",
         "Code": "K001",
         "District.Name": "Nou Barris",
         "Latitude": 41.436715,
         "Longitude": 2.172883,
         "Neighborhood.Name": "la Guineueta",
         "Station": "METRO (L4) - LLUCMAJOR (Pg. del Verdum)-",
         "Transport": "Underground",
         "_deepnote_index_column": 34
        },
        {
         "Bus.Stop": "nan",
         "Code": "K001",
         "District.Name": "Sants-Montjuïc",
         "Latitude": 41.375605,
         "Longitude": 2.127313,
         "Neighborhood.Name": "Sants - Badal",
         "Station": "METRO (L5) - BADAL-",
         "Transport": "Underground",
         "_deepnote_index_column": 35
        },
        {
         "Bus.Stop": "nan",
         "Code": "K001",
         "District.Name": "Sant Martí",
         "Latitude": 41.403481,
         "Longitude": 2.202855,
         "Neighborhood.Name": "el Poblenou",
         "Station": "METRO (L4) - POBLENOU (C. de Pujades)-",
         "Transport": "Underground",
         "_deepnote_index_column": 36
        },
        {
         "Bus.Stop": "nan",
         "Code": "K001",
         "District.Name": "Sant Andreu",
         "Latitude": 41.423505,
         "Longitude": 2.180781,
         "Neighborhood.Name": "el Congrés i els Indians",
         "Station": "METRO (L5) - CONGRÉS (C. de Garcilaso)-",
         "Transport": "Underground",
         "_deepnote_index_column": 37
        },
        {
         "Bus.Stop": "nan",
         "Code": "K001",
         "District.Name": "Sants-Montjuïc",
         "Latitude": 41.374291,
         "Longitude": 2.14909,
         "Neighborhood.Name": "el Poble-sec",
         "Station": "METRO (L3) - ESPANYA (Pl. d'Espanya)-",
         "Transport": "Underground",
         "_deepnote_index_column": 38
        },
        {
         "Bus.Stop": "nan",
         "Code": "K003",
         "District.Name": "nan",
         "Latitude": 41.496321,
         "Longitude": 2.181768,
         "Neighborhood.Name": "nan",
         "Station": "RENFE - MONTCADA-RIPOLLET-",
         "Transport": "RENFE",
         "_deepnote_index_column": 39
        },
        {
         "Bus.Stop": "nan",
         "Code": "K003",
         "District.Name": "Eixample",
         "Latitude": 41.388108,
         "Longitude": 2.170436,
         "Neighborhood.Name": "la Dreta de l'Eixample",
         "Station": "RENFE - CATALUNYA-",
         "Transport": "RENFE",
         "_deepnote_index_column": 40
        },
        {
         "Bus.Stop": "nan",
         "Code": "K003",
         "District.Name": "nan",
         "Latitude": 41.331201,
         "Longitude": 2.09108,
         "Neighborhood.Name": "nan",
         "Station": "RENFE - EL PRAT DE LLOBREGAT-",
         "Transport": "RENFE",
         "_deepnote_index_column": 41
        },
        {
         "Bus.Stop": "nan",
         "Code": "K011",
         "District.Name": "nan",
         "Latitude": 41.365513,
         "Longitude": 2.076889,
         "Neighborhood.Name": "nan",
         "Station": "TRAMVIA (T1,T2) - EL PEDRÒ-",
         "Transport": "Tram",
         "_deepnote_index_column": 42
        },
        {
         "Bus.Stop": "nan",
         "Code": "K001",
         "District.Name": "Les Corts",
         "Latitude": 41.388357,
         "Longitude": 2.127857,
         "Neighborhood.Name": "les Corts",
         "Station": "METRO (L3) - MARIA CRISTINA (Pl. de la Reina Maria Cristina)-",
         "Transport": "Underground",
         "_deepnote_index_column": 43
        },
        {
         "Bus.Stop": "nan",
         "Code": "K001",
         "District.Name": "Eixample",
         "Latitude": 41.384514,
         "Longitude": 2.163681,
         "Neighborhood.Name": "Sant Antoni",
         "Station": "METRO (L2) - UNIVERSITAT (Rda. de Sant Antoni)-",
         "Transport": "Underground",
         "_deepnote_index_column": 44
        },
        {
         "Bus.Stop": "nan",
         "Code": "K001",
         "District.Name": "nan",
         "Latitude": 41.373558,
         "Longitude": 2.106775,
         "Neighborhood.Name": "nan",
         "Station": "METRO (L5) - PUBILLA CASES-",
         "Transport": "Underground",
         "_deepnote_index_column": 45
        },
        {
         "Bus.Stop": "nan",
         "Code": "K001",
         "District.Name": "Horta-Guinardó",
         "Latitude": 41.423558,
         "Longitude": 2.155013,
         "Neighborhood.Name": "el Carmel",
         "Station": "METRO (L5) - EL CARMEL (C. de Llobregós - Mercat)-",
         "Transport": "Underground",
         "_deepnote_index_column": 46
        },
        {
         "Bus.Stop": "nan",
         "Code": "K001",
         "District.Name": "nan",
         "Latitude": 41.363278,
         "Longitude": 2.084164,
         "Neighborhood.Name": "nan",
         "Station": "METRO (L5) - SANT ILDEFONS-",
         "Transport": "Underground",
         "_deepnote_index_column": 47
        },
        {
         "Bus.Stop": "nan",
         "Code": "K001",
         "District.Name": "nan",
         "Latitude": 41.356107,
         "Longitude": 2.072672,
         "Neighborhood.Name": "nan",
         "Station": "METRO (L5) - CORNELLÀ CENTRE-",
         "Transport": "Underground",
         "_deepnote_index_column": 48
        },
        {
         "Bus.Stop": "nan",
         "Code": "K001",
         "District.Name": "nan",
         "Latitude": 41.356151,
         "Longitude": 2.072404,
         "Neighborhood.Name": "nan",
         "Station": "METRO (L5) - CORNELLÀ CENTRE-",
         "Transport": "Underground",
         "_deepnote_index_column": 49
        },
        {
         "Bus.Stop": "nan",
         "Code": "K001",
         "District.Name": "Gràcia",
         "Latitude": 41.419877,
         "Longitude": 2.149504,
         "Neighborhood.Name": "el Coll",
         "Station": "METRO (L5) - EL COLL / LA TEIXONERA (C. del Beat Almató)-",
         "Transport": "Underground",
         "_deepnote_index_column": 50
        },
        {
         "Bus.Stop": "nan",
         "Code": "K001",
         "District.Name": "Eixample",
         "Latitude": 41.404257,
         "Longitude": 2.176315,
         "Neighborhood.Name": "la Sagrada Família",
         "Station": "METRO (L2) - SAGRADA FAMÍLIA-",
         "Transport": "Underground",
         "_deepnote_index_column": 51
        },
        {
         "Bus.Stop": "nan",
         "Code": "K001",
         "District.Name": "Horta-Guinardó",
         "Latitude": 41.412431,
         "Longitude": 2.16623,
         "Neighborhood.Name": "el Baix Guinardó",
         "Station": "METRO (L4) - ALFONS X (Parc de les Aigües)-",
         "Transport": "Underground",
         "_deepnote_index_column": 52
        },
        {
         "Bus.Stop": "nan",
         "Code": "K001",
         "District.Name": "Horta-Guinardó",
         "Latitude": 41.412123,
         "Longitude": 2.165088,
         "Neighborhood.Name": "el Baix Guinardó",
         "Station": "METRO (L4) - ALFONS X (Pl. d'Alfons el Savi)-",
         "Transport": "Underground",
         "_deepnote_index_column": 53
        },
        {
         "Bus.Stop": "nan",
         "Code": "K001",
         "District.Name": "nan",
         "Latitude": 41.442346,
         "Longitude": 2.224024,
         "Neighborhood.Name": "nan",
         "Station": "METRO (L10) - LA SALUT-",
         "Transport": "Underground",
         "_deepnote_index_column": 54
        },
        {
         "Bus.Stop": "nan",
         "Code": "K001",
         "District.Name": "Eixample",
         "Latitude": 41.400331,
         "Longitude": 2.180022,
         "Neighborhood.Name": "el Fort Pienc",
         "Station": "METRO (L2) - MONUMENTAL (C. de la Diputació)-",
         "Transport": "Underground",
         "_deepnote_index_column": 55
        },
        {
         "Bus.Stop": "nan",
         "Code": "K001",
         "District.Name": "Ciutat Vella",
         "Latitude": 41.375177,
         "Longitude": 2.170433,
         "Neighborhood.Name": "el Raval",
         "Station": "METRO (L3) - PARAL·LEL (C. Nou de la Rambla)-",
         "Transport": "Underground",
         "_deepnote_index_column": 56
        },
        {
         "Bus.Stop": "nan",
         "Code": "K002",
         "District.Name": "Sarrià-Sant Gervasi",
         "Latitude": 41.397791,
         "Longitude": 2.135427,
         "Neighborhood.Name": "Sant Gervasi - Galvany",
         "Station": "FGC - BONANOVA-",
         "Transport": "Railway (FGC)",
         "_deepnote_index_column": 57
        },
        {
         "Bus.Stop": "nan",
         "Code": "K002",
         "District.Name": "Sarrià-Sant Gervasi",
         "Latitude": 41.405731,
         "Longitude": 2.139248,
         "Neighborhood.Name": "el Putxet i el Farró",
         "Station": "FGC - EL PUTXET-",
         "Transport": "Railway (FGC)",
         "_deepnote_index_column": 58
        },
        {
         "Bus.Stop": "nan",
         "Code": "K011",
         "District.Name": "nan",
         "Latitude": 41.372339,
         "Longitude": 2.075814,
         "Neighborhood.Name": "nan",
         "Station": "TRAMVIA (T3) - SANT MARTÍ DE L'ERM-",
         "Transport": "Tram",
         "_deepnote_index_column": 59
        },
        {
         "Bus.Stop": "nan",
         "Code": "K002",
         "District.Name": "Sarrià-Sant Gervasi",
         "Latitude": 41.39896,
         "Longitude": 2.125112,
         "Neighborhood.Name": "les Tres Torres",
         "Station": "FGC - SARRIÀ-",
         "Transport": "Railway (FGC)",
         "_deepnote_index_column": 60
        },
        {
         "Bus.Stop": "nan",
         "Code": "K001",
         "District.Name": "nan",
         "Latitude": 41.451908,
         "Longitude": 2.207988,
         "Neighborhood.Name": "nan",
         "Station": "METRO (L1) - SANTA COLOMA-",
         "Transport": "Underground",
         "_deepnote_index_column": 61
        }
       ]
      },
      "text/html": [
       "<div>\n",
       "<style scoped>\n",
       "    .dataframe tbody tr th:only-of-type {\n",
       "        vertical-align: middle;\n",
       "    }\n",
       "\n",
       "    .dataframe tbody tr th {\n",
       "        vertical-align: top;\n",
       "    }\n",
       "\n",
       "    .dataframe thead th {\n",
       "        text-align: right;\n",
       "    }\n",
       "</style>\n",
       "<table border=\"1\" class=\"dataframe\">\n",
       "  <thead>\n",
       "    <tr style=\"text-align: right;\">\n",
       "      <th></th>\n",
       "      <th>Code</th>\n",
       "      <th>Transport</th>\n",
       "      <th>Longitude</th>\n",
       "      <th>Latitude</th>\n",
       "      <th>Station</th>\n",
       "      <th>District.Name</th>\n",
       "      <th>Neighborhood.Name</th>\n",
       "      <th>Bus.Stop</th>\n",
       "    </tr>\n",
       "  </thead>\n",
       "  <tbody>\n",
       "    <tr>\n",
       "      <th>0</th>\n",
       "      <td>K001</td>\n",
       "      <td>Underground</td>\n",
       "      <td>2.119370</td>\n",
       "      <td>41.399203</td>\n",
       "      <td>FGC (L6) - REINA ELISENDA (Sortida Duquesa d'O...</td>\n",
       "      <td>Sarrià-Sant Gervasi</td>\n",
       "      <td>Sarrià</td>\n",
       "      <td>NaN</td>\n",
       "    </tr>\n",
       "    <tr>\n",
       "      <th>1</th>\n",
       "      <td>K001</td>\n",
       "      <td>Underground</td>\n",
       "      <td>2.135427</td>\n",
       "      <td>41.397791</td>\n",
       "      <td>FGC (L6) - LA BONANOVA-</td>\n",
       "      <td>Sarrià-Sant Gervasi</td>\n",
       "      <td>Sant Gervasi - Galvany</td>\n",
       "      <td>NaN</td>\n",
       "    </tr>\n",
       "    <tr>\n",
       "      <th>2</th>\n",
       "      <td>K001</td>\n",
       "      <td>Underground</td>\n",
       "      <td>2.185391</td>\n",
       "      <td>41.451492</td>\n",
       "      <td>METRO (L11) - CASA DE L'AIGUA (C. Vila-Real)-</td>\n",
       "      <td>Nou Barris</td>\n",
       "      <td>la Trinitat Nova</td>\n",
       "      <td>NaN</td>\n",
       "    </tr>\n",
       "    <tr>\n",
       "      <th>3</th>\n",
       "      <td>K001</td>\n",
       "      <td>Underground</td>\n",
       "      <td>2.174473</td>\n",
       "      <td>41.460889</td>\n",
       "      <td>METRO (L11) - CIUTAT MERIDIANA (C. Pedraforca)-</td>\n",
       "      <td>Nou Barris</td>\n",
       "      <td>Ciutat Meridiana</td>\n",
       "      <td>NaN</td>\n",
       "    </tr>\n",
       "    <tr>\n",
       "      <th>4</th>\n",
       "      <td>K001</td>\n",
       "      <td>Underground</td>\n",
       "      <td>2.168588</td>\n",
       "      <td>41.387200</td>\n",
       "      <td>METRO (L1) - CATALUNYA (Rda. Universitat)-</td>\n",
       "      <td>Eixample</td>\n",
       "      <td>la Dreta de l'Eixample</td>\n",
       "      <td>NaN</td>\n",
       "    </tr>\n",
       "    <tr>\n",
       "      <th>...</th>\n",
       "      <td>...</td>\n",
       "      <td>...</td>\n",
       "      <td>...</td>\n",
       "      <td>...</td>\n",
       "      <td>...</td>\n",
       "      <td>...</td>\n",
       "      <td>...</td>\n",
       "      <td>...</td>\n",
       "    </tr>\n",
       "    <tr>\n",
       "      <th>3808</th>\n",
       "      <td>K014</td>\n",
       "      <td>Day bus stop</td>\n",
       "      <td>2.183887</td>\n",
       "      <td>41.422024</td>\n",
       "      <td>NaN</td>\n",
       "      <td>Sant Andreu</td>\n",
       "      <td>el Congrés i els Indians</td>\n",
       "      <td>BUS -191--</td>\n",
       "    </tr>\n",
       "    <tr>\n",
       "      <th>3809</th>\n",
       "      <td>K014</td>\n",
       "      <td>Day bus stop</td>\n",
       "      <td>2.176710</td>\n",
       "      <td>41.446419</td>\n",
       "      <td>NaN</td>\n",
       "      <td>Nou Barris</td>\n",
       "      <td>les Roquetes</td>\n",
       "      <td>BUS -127-81--</td>\n",
       "    </tr>\n",
       "    <tr>\n",
       "      <th>3810</th>\n",
       "      <td>K015</td>\n",
       "      <td>Night bus stop</td>\n",
       "      <td>2.144596</td>\n",
       "      <td>41.411446</td>\n",
       "      <td>NaN</td>\n",
       "      <td>Gràcia</td>\n",
       "      <td>Vallcarca i els Penitents</td>\n",
       "      <td>NITBUS -N4--</td>\n",
       "    </tr>\n",
       "    <tr>\n",
       "      <th>3811</th>\n",
       "      <td>K014</td>\n",
       "      <td>Day bus stop</td>\n",
       "      <td>2.142256</td>\n",
       "      <td>41.371176</td>\n",
       "      <td>NaN</td>\n",
       "      <td>Sants-Montjuïc</td>\n",
       "      <td>la Bordeta</td>\n",
       "      <td>BUS -91-115-V5--</td>\n",
       "    </tr>\n",
       "    <tr>\n",
       "      <th>3812</th>\n",
       "      <td>K015</td>\n",
       "      <td>Night bus stop</td>\n",
       "      <td>2.134932</td>\n",
       "      <td>41.398495</td>\n",
       "      <td>NaN</td>\n",
       "      <td>Sarrià-Sant Gervasi</td>\n",
       "      <td>Sant Gervasi - Galvany</td>\n",
       "      <td>NITBUS -N7--</td>\n",
       "    </tr>\n",
       "  </tbody>\n",
       "</table>\n",
       "<p>3813 rows × 8 columns</p>\n",
       "</div>"
      ],
      "text/plain": [
       "      Code       Transport  Longitude   Latitude  \\\n",
       "0     K001     Underground   2.119370  41.399203   \n",
       "1     K001     Underground   2.135427  41.397791   \n",
       "2     K001     Underground   2.185391  41.451492   \n",
       "3     K001     Underground   2.174473  41.460889   \n",
       "4     K001     Underground   2.168588  41.387200   \n",
       "...    ...             ...        ...        ...   \n",
       "3808  K014    Day bus stop   2.183887  41.422024   \n",
       "3809  K014    Day bus stop   2.176710  41.446419   \n",
       "3810  K015  Night bus stop   2.144596  41.411446   \n",
       "3811  K014    Day bus stop   2.142256  41.371176   \n",
       "3812  K015  Night bus stop   2.134932  41.398495   \n",
       "\n",
       "                                                Station        District.Name  \\\n",
       "0     FGC (L6) - REINA ELISENDA (Sortida Duquesa d'O...  Sarrià-Sant Gervasi   \n",
       "1                               FGC (L6) - LA BONANOVA-  Sarrià-Sant Gervasi   \n",
       "2         METRO (L11) - CASA DE L'AIGUA (C. Vila-Real)-           Nou Barris   \n",
       "3       METRO (L11) - CIUTAT MERIDIANA (C. Pedraforca)-           Nou Barris   \n",
       "4            METRO (L1) - CATALUNYA (Rda. Universitat)-             Eixample   \n",
       "...                                                 ...                  ...   \n",
       "3808                                                NaN          Sant Andreu   \n",
       "3809                                                NaN           Nou Barris   \n",
       "3810                                                NaN               Gràcia   \n",
       "3811                                                NaN       Sants-Montjuïc   \n",
       "3812                                                NaN  Sarrià-Sant Gervasi   \n",
       "\n",
       "              Neighborhood.Name          Bus.Stop  \n",
       "0                        Sarrià               NaN  \n",
       "1        Sant Gervasi - Galvany               NaN  \n",
       "2              la Trinitat Nova               NaN  \n",
       "3              Ciutat Meridiana               NaN  \n",
       "4        la Dreta de l'Eixample               NaN  \n",
       "...                         ...               ...  \n",
       "3808   el Congrés i els Indians        BUS -191--  \n",
       "3809               les Roquetes     BUS -127-81--  \n",
       "3810  Vallcarca i els Penitents      NITBUS -N4--  \n",
       "3811                 la Bordeta  BUS -91-115-V5--  \n",
       "3812     Sant Gervasi - Galvany      NITBUS -N7--  \n",
       "\n",
       "[3813 rows x 8 columns]"
      ]
     },
     "execution_count": 14,
     "metadata": {},
     "output_type": "execute_result"
    }
   ],
   "source": [
    "public_transport_bus_merged = public_transport.merge(bus_stops, how='outer')\n",
    "public_transport_bus_merged"
   ]
  },
  {
   "cell_type": "code",
   "execution_count": 15,
   "id": "ae18bc55",
   "metadata": {
    "cell_id": "00010-64ee7396-3c01-4626-8afb-e6691e14ac69",
    "deepnote_cell_type": "code",
    "deepnote_to_be_reexecuted": false,
    "execution_millis": 15,
    "execution_start": 1623403010051,
    "source_hash": "498351e4",
    "tags": []
   },
   "outputs": [
    {
     "data": {
      "application/vnd.deepnote.dataframe.v2+json": {
       "column_count": 1,
       "columns": [
        {
         "dtype": "float64",
         "name": "District.Name",
         "stats": {
          "histogram": [
           {
            "bin_end": 5.625,
            "bin_start": 4.72,
            "count": 2
           },
           {
            "bin_end": 6.529999999999999,
            "bin_start": 5.625,
            "count": 2
           },
           {
            "bin_end": 7.435,
            "bin_start": 6.529999999999999,
            "count": 1
           },
           {
            "bin_end": 8.34,
            "bin_start": 7.435,
            "count": 0
           },
           {
            "bin_end": 9.245000000000001,
            "bin_start": 8.34,
            "count": 0
           },
           {
            "bin_end": 10.149999999999999,
            "bin_start": 9.245000000000001,
            "count": 1
           },
           {
            "bin_end": 11.055,
            "bin_start": 10.149999999999999,
            "count": 1
           },
           {
            "bin_end": 11.96,
            "bin_start": 11.055,
            "count": 1
           },
           {
            "bin_end": 12.864999999999998,
            "bin_start": 11.96,
            "count": 1
           },
           {
            "bin_end": 13.77,
            "bin_start": 12.864999999999998,
            "count": 2
           }
          ],
          "max": "13.77",
          "min": "4.72",
          "nan_count": 0,
          "unique_count": 11
         }
        },
        {
         "dtype": "object",
         "name": "_deepnote_index_column"
        }
       ],
       "row_count": 11,
       "rows_bottom": null,
       "rows_top": [
        {
         "District.Name": 13.77,
         "_deepnote_index_column": "Eixample"
        },
        {
         "District.Name": 13.24,
         "_deepnote_index_column": "Sarrià-Sant Gervasi"
        },
        {
         "District.Name": 12.27,
         "_deepnote_index_column": "Sants-Montjuïc"
        },
        {
         "District.Name": 11.17,
         "_deepnote_index_column": "Sant Martí"
        },
        {
         "District.Name": 11.01,
         "_deepnote_index_column": "Horta-Guinardó"
        },
        {
         "District.Name": 9.68,
         "_deepnote_index_column": "Nou Barris"
        },
        {
         "District.Name": 7.03,
         "_deepnote_index_column": "Sant Andreu"
        },
        {
         "District.Name": 6.06,
         "_deepnote_index_column": "Les Corts"
        },
        {
         "District.Name": 5.95,
         "_deepnote_index_column": "Gràcia"
        },
        {
         "District.Name": 5.09,
         "_deepnote_index_column": "Ciutat Vella"
        },
        {
         "District.Name": 4.72,
         "_deepnote_index_column": "nan"
        }
       ]
      },
      "text/html": [
       "<div>\n",
       "<style scoped>\n",
       "    .dataframe tbody tr th:only-of-type {\n",
       "        vertical-align: middle;\n",
       "    }\n",
       "\n",
       "    .dataframe tbody tr th {\n",
       "        vertical-align: top;\n",
       "    }\n",
       "\n",
       "    .dataframe thead th {\n",
       "        text-align: right;\n",
       "    }\n",
       "</style>\n",
       "<table border=\"1\" class=\"dataframe\">\n",
       "  <thead>\n",
       "    <tr style=\"text-align: right;\">\n",
       "      <th></th>\n",
       "      <th>District.Name</th>\n",
       "    </tr>\n",
       "  </thead>\n",
       "  <tbody>\n",
       "    <tr>\n",
       "      <th>Eixample</th>\n",
       "      <td>13.77</td>\n",
       "    </tr>\n",
       "    <tr>\n",
       "      <th>Sarrià-Sant Gervasi</th>\n",
       "      <td>13.24</td>\n",
       "    </tr>\n",
       "    <tr>\n",
       "      <th>Sants-Montjuïc</th>\n",
       "      <td>12.27</td>\n",
       "    </tr>\n",
       "    <tr>\n",
       "      <th>Sant Martí</th>\n",
       "      <td>11.17</td>\n",
       "    </tr>\n",
       "    <tr>\n",
       "      <th>Horta-Guinardó</th>\n",
       "      <td>11.01</td>\n",
       "    </tr>\n",
       "    <tr>\n",
       "      <th>Nou Barris</th>\n",
       "      <td>9.68</td>\n",
       "    </tr>\n",
       "    <tr>\n",
       "      <th>Sant Andreu</th>\n",
       "      <td>7.03</td>\n",
       "    </tr>\n",
       "    <tr>\n",
       "      <th>Les Corts</th>\n",
       "      <td>6.06</td>\n",
       "    </tr>\n",
       "    <tr>\n",
       "      <th>Gràcia</th>\n",
       "      <td>5.95</td>\n",
       "    </tr>\n",
       "    <tr>\n",
       "      <th>Ciutat Vella</th>\n",
       "      <td>5.09</td>\n",
       "    </tr>\n",
       "    <tr>\n",
       "      <th>NaN</th>\n",
       "      <td>4.72</td>\n",
       "    </tr>\n",
       "  </tbody>\n",
       "</table>\n",
       "</div>"
      ],
      "text/plain": [
       "                     District.Name\n",
       "Eixample                     13.77\n",
       "Sarrià-Sant Gervasi          13.24\n",
       "Sants-Montjuïc               12.27\n",
       "Sant Martí                   11.17\n",
       "Horta-Guinardó               11.01\n",
       "Nou Barris                    9.68\n",
       "Sant Andreu                   7.03\n",
       "Les Corts                     6.06\n",
       "Gràcia                        5.95\n",
       "Ciutat Vella                  5.09\n",
       "NaN                           4.72"
      ]
     },
     "execution_count": 15,
     "metadata": {},
     "output_type": "execute_result"
    }
   ],
   "source": [
    "# Number of stops in each district\n",
    "\n",
    "stops_district = public_transport_bus_merged['District.Name'].value_counts(dropna=False)\n",
    "\n",
    "percentage_stops_perRegion = stops_district/len(public_transport_bus_merged)*100\n",
    "pd.DataFrame(round(percentage_stops_perRegion.iloc[:], 2))"
   ]
  },
  {
   "cell_type": "code",
   "execution_count": 15,
   "id": "d5499352",
   "metadata": {
    "cell_id": "00012-7778fa9f-4c91-4e7d-8a29-749c051b250b",
    "deepnote_cell_type": "code",
    "deepnote_to_be_reexecuted": false,
    "execution_start": 1623403010062,
    "source_hash": "b623e53d",
    "tags": []
   },
   "outputs": [],
   "source": []
  },
  {
   "cell_type": "code",
   "execution_count": 16,
   "id": "99374e13",
   "metadata": {
    "cell_id": "00012-23e831d1-67a4-4a22-922a-0d3eaaa97927",
    "deepnote_cell_type": "code",
    "deepnote_to_be_reexecuted": false,
    "execution_millis": 30,
    "execution_start": 1623403010085,
    "source_hash": "64e96f51",
    "tags": []
   },
   "outputs": [
    {
     "data": {
      "application/vnd.deepnote.dataframe.v2+json": {
       "column_count": 1,
       "columns": [
        {
         "dtype": "float64",
         "name": "Transport",
         "stats": {
          "histogram": [
           {
            "bin_end": 6.167000000000001,
            "bin_start": 0.08,
            "count": 9
           },
           {
            "bin_end": 12.254000000000001,
            "bin_start": 6.167000000000001,
            "count": 1
           },
           {
            "bin_end": 18.341,
            "bin_start": 12.254000000000001,
            "count": 0
           },
           {
            "bin_end": 24.428,
            "bin_start": 18.341,
            "count": 1
           },
           {
            "bin_end": 30.515,
            "bin_start": 24.428,
            "count": 0
           },
           {
            "bin_end": 36.602000000000004,
            "bin_start": 30.515,
            "count": 0
           },
           {
            "bin_end": 42.689,
            "bin_start": 36.602000000000004,
            "count": 0
           },
           {
            "bin_end": 48.776,
            "bin_start": 42.689,
            "count": 0
           },
           {
            "bin_end": 54.86300000000001,
            "bin_start": 48.776,
            "count": 0
           },
           {
            "bin_end": 60.95,
            "bin_start": 54.86300000000001,
            "count": 1
           }
          ],
          "max": "60.95",
          "min": "0.08",
          "nan_count": 0,
          "unique_count": 12
         }
        },
        {
         "dtype": "object",
         "name": "_deepnote_index_column"
        }
       ],
       "row_count": 12,
       "rows_bottom": null,
       "rows_top": [
        {
         "Transport": 60.95,
         "_deepnote_index_column": "Day bus stop"
        },
        {
         "Transport": 21.72,
         "_deepnote_index_column": "Night bus stop"
        },
        {
         "Transport": 12.14,
         "_deepnote_index_column": "Underground"
        },
        {
         "Transport": 1.7,
         "_deepnote_index_column": "Tram"
        },
        {
         "Transport": 1.42,
         "_deepnote_index_column": "Railway (FGC)"
        },
        {
         "Transport": 0.87,
         "_deepnote_index_column": "RENFE"
        },
        {
         "Transport": 0.42,
         "_deepnote_index_column": "Maritime station"
        },
        {
         "Transport": 0.24,
         "_deepnote_index_column": "Airport train"
        },
        {
         "Transport": 0.18,
         "_deepnote_index_column": "Airport bus stop"
        },
        {
         "Transport": 0.16,
         "_deepnote_index_column": "Funicular"
        },
        {
         "Transport": 0.13,
         "_deepnote_index_column": "Cableway"
        },
        {
         "Transport": 0.08,
         "_deepnote_index_column": "Bus station"
        }
       ]
      },
      "text/html": [
       "<div>\n",
       "<style scoped>\n",
       "    .dataframe tbody tr th:only-of-type {\n",
       "        vertical-align: middle;\n",
       "    }\n",
       "\n",
       "    .dataframe tbody tr th {\n",
       "        vertical-align: top;\n",
       "    }\n",
       "\n",
       "    .dataframe thead th {\n",
       "        text-align: right;\n",
       "    }\n",
       "</style>\n",
       "<table border=\"1\" class=\"dataframe\">\n",
       "  <thead>\n",
       "    <tr style=\"text-align: right;\">\n",
       "      <th></th>\n",
       "      <th>Transport</th>\n",
       "    </tr>\n",
       "  </thead>\n",
       "  <tbody>\n",
       "    <tr>\n",
       "      <th>Day bus stop</th>\n",
       "      <td>60.95</td>\n",
       "    </tr>\n",
       "    <tr>\n",
       "      <th>Night bus stop</th>\n",
       "      <td>21.72</td>\n",
       "    </tr>\n",
       "    <tr>\n",
       "      <th>Underground</th>\n",
       "      <td>12.14</td>\n",
       "    </tr>\n",
       "    <tr>\n",
       "      <th>Tram</th>\n",
       "      <td>1.70</td>\n",
       "    </tr>\n",
       "    <tr>\n",
       "      <th>Railway (FGC)</th>\n",
       "      <td>1.42</td>\n",
       "    </tr>\n",
       "    <tr>\n",
       "      <th>RENFE</th>\n",
       "      <td>0.87</td>\n",
       "    </tr>\n",
       "    <tr>\n",
       "      <th>Maritime station</th>\n",
       "      <td>0.42</td>\n",
       "    </tr>\n",
       "    <tr>\n",
       "      <th>Airport train</th>\n",
       "      <td>0.24</td>\n",
       "    </tr>\n",
       "    <tr>\n",
       "      <th>Airport bus stop</th>\n",
       "      <td>0.18</td>\n",
       "    </tr>\n",
       "    <tr>\n",
       "      <th>Funicular</th>\n",
       "      <td>0.16</td>\n",
       "    </tr>\n",
       "    <tr>\n",
       "      <th>Cableway</th>\n",
       "      <td>0.13</td>\n",
       "    </tr>\n",
       "    <tr>\n",
       "      <th>Bus station</th>\n",
       "      <td>0.08</td>\n",
       "    </tr>\n",
       "  </tbody>\n",
       "</table>\n",
       "</div>"
      ],
      "text/plain": [
       "                  Transport\n",
       "Day bus stop          60.95\n",
       "Night bus stop        21.72\n",
       "Underground           12.14\n",
       "Tram                   1.70\n",
       "Railway (FGC)          1.42\n",
       "RENFE                  0.87\n",
       "Maritime station       0.42\n",
       "Airport train          0.24\n",
       "Airport bus stop       0.18\n",
       "Funicular              0.16\n",
       "Cableway               0.13\n",
       "Bus station            0.08"
      ]
     },
     "execution_count": 16,
     "metadata": {},
     "output_type": "execute_result"
    }
   ],
   "source": [
    "# Frequency distribution of public transport:\n",
    "\n",
    "ptrans_elements_district = public_transport_bus_merged['Transport'].value_counts(dropna=False)\n",
    "\n",
    "\n",
    "percentage_ptrans_elements_district = ptrans_elements_district/len(public_transport_bus_merged)*100\n",
    "pd.DataFrame(round(percentage_ptrans_elements_district.iloc[:], 2))\n"
   ]
  },
  {
   "cell_type": "code",
   "execution_count": 17,
   "id": "22264105",
   "metadata": {
    "cell_id": "00010-9469b391-3697-4a64-a257-f4b0dc88f88b",
    "deepnote_cell_type": "code",
    "deepnote_to_be_reexecuted": false,
    "execution_millis": 15,
    "execution_start": 1623403010100,
    "source_hash": "cc3d7d22",
    "tags": []
   },
   "outputs": [
    {
     "name": "stdout",
     "output_type": "stream",
     "text": [
      "The average percentage of bus stops per district is 9.949 %\n"
     ]
    }
   ],
   "source": [
    "avg_per_region = bus_stops_perDistrict.describe()*100\n",
    "print('The average percentage of bus stops per district is', round(avg_per_region.iloc[1], 3), '%')"
   ]
  },
  {
   "cell_type": "code",
   "execution_count": 18,
   "id": "5284c3f4",
   "metadata": {
    "cell_id": "00010-eaee0425-0f9d-44cd-8692-bf01d4c7d508",
    "deepnote_cell_type": "code",
    "deepnote_to_be_reexecuted": false,
    "execution_millis": 50,
    "execution_start": 1623403010108,
    "source_hash": "7d644ad",
    "tags": []
   },
   "outputs": [
    {
     "data": {
      "application/vnd.deepnote.dataframe.v2+json": {
       "column_count": 7,
       "columns": [
        {
         "dtype": "float64",
         "name": "Code",
         "stats": {
          "histogram": [
           {
            "bin_end": -0.4,
            "bin_start": -0.5,
            "count": 0
           },
           {
            "bin_end": -0.3,
            "bin_start": -0.4,
            "count": 0
           },
           {
            "bin_end": -0.19999999999999996,
            "bin_start": -0.3,
            "count": 0
           },
           {
            "bin_end": -0.09999999999999998,
            "bin_start": -0.19999999999999996,
            "count": 0
           },
           {
            "bin_end": 0,
            "bin_start": -0.09999999999999998,
            "count": 0
           },
           {
            "bin_end": 0.10000000000000009,
            "bin_start": 0,
            "count": 1
           },
           {
            "bin_end": 0.20000000000000007,
            "bin_start": 0.10000000000000009,
            "count": 0
           },
           {
            "bin_end": 0.30000000000000004,
            "bin_start": 0.20000000000000007,
            "count": 0
           },
           {
            "bin_end": 0.4,
            "bin_start": 0.30000000000000004,
            "count": 0
           },
           {
            "bin_end": 0.5,
            "bin_start": 0.4,
            "count": 0
           }
          ],
          "max": "0.0",
          "min": "0.0",
          "nan_count": 0,
          "unique_count": 1
         }
        },
        {
         "dtype": "float64",
         "name": "Transport",
         "stats": {
          "histogram": [
           {
            "bin_end": -0.4,
            "bin_start": -0.5,
            "count": 0
           },
           {
            "bin_end": -0.3,
            "bin_start": -0.4,
            "count": 0
           },
           {
            "bin_end": -0.19999999999999996,
            "bin_start": -0.3,
            "count": 0
           },
           {
            "bin_end": -0.09999999999999998,
            "bin_start": -0.19999999999999996,
            "count": 0
           },
           {
            "bin_end": 0,
            "bin_start": -0.09999999999999998,
            "count": 0
           },
           {
            "bin_end": 0.10000000000000009,
            "bin_start": 0,
            "count": 1
           },
           {
            "bin_end": 0.20000000000000007,
            "bin_start": 0.10000000000000009,
            "count": 0
           },
           {
            "bin_end": 0.30000000000000004,
            "bin_start": 0.20000000000000007,
            "count": 0
           },
           {
            "bin_end": 0.4,
            "bin_start": 0.30000000000000004,
            "count": 0
           },
           {
            "bin_end": 0.5,
            "bin_start": 0.4,
            "count": 0
           }
          ],
          "max": "0.0",
          "min": "0.0",
          "nan_count": 0,
          "unique_count": 1
         }
        },
        {
         "dtype": "float64",
         "name": "Longitude",
         "stats": {
          "histogram": [
           {
            "bin_end": -0.4,
            "bin_start": -0.5,
            "count": 0
           },
           {
            "bin_end": -0.3,
            "bin_start": -0.4,
            "count": 0
           },
           {
            "bin_end": -0.19999999999999996,
            "bin_start": -0.3,
            "count": 0
           },
           {
            "bin_end": -0.09999999999999998,
            "bin_start": -0.19999999999999996,
            "count": 0
           },
           {
            "bin_end": 0,
            "bin_start": -0.09999999999999998,
            "count": 0
           },
           {
            "bin_end": 0.10000000000000009,
            "bin_start": 0,
            "count": 1
           },
           {
            "bin_end": 0.20000000000000007,
            "bin_start": 0.10000000000000009,
            "count": 0
           },
           {
            "bin_end": 0.30000000000000004,
            "bin_start": 0.20000000000000007,
            "count": 0
           },
           {
            "bin_end": 0.4,
            "bin_start": 0.30000000000000004,
            "count": 0
           },
           {
            "bin_end": 0.5,
            "bin_start": 0.4,
            "count": 0
           }
          ],
          "max": "0.0",
          "min": "0.0",
          "nan_count": 0,
          "unique_count": 1
         }
        },
        {
         "dtype": "float64",
         "name": "Latitude",
         "stats": {
          "histogram": [
           {
            "bin_end": -0.4,
            "bin_start": -0.5,
            "count": 0
           },
           {
            "bin_end": -0.3,
            "bin_start": -0.4,
            "count": 0
           },
           {
            "bin_end": -0.19999999999999996,
            "bin_start": -0.3,
            "count": 0
           },
           {
            "bin_end": -0.09999999999999998,
            "bin_start": -0.19999999999999996,
            "count": 0
           },
           {
            "bin_end": 0,
            "bin_start": -0.09999999999999998,
            "count": 0
           },
           {
            "bin_end": 0.10000000000000009,
            "bin_start": 0,
            "count": 1
           },
           {
            "bin_end": 0.20000000000000007,
            "bin_start": 0.10000000000000009,
            "count": 0
           },
           {
            "bin_end": 0.30000000000000004,
            "bin_start": 0.20000000000000007,
            "count": 0
           },
           {
            "bin_end": 0.4,
            "bin_start": 0.30000000000000004,
            "count": 0
           },
           {
            "bin_end": 0.5,
            "bin_start": 0.4,
            "count": 0
           }
          ],
          "max": "0.0",
          "min": "0.0",
          "nan_count": 0,
          "unique_count": 1
         }
        },
        {
         "dtype": "float64",
         "name": "Bus.Stop",
         "stats": {
          "histogram": [
           {
            "bin_end": -0.4,
            "bin_start": -0.5,
            "count": 0
           },
           {
            "bin_end": -0.3,
            "bin_start": -0.4,
            "count": 0
           },
           {
            "bin_end": -0.19999999999999996,
            "bin_start": -0.3,
            "count": 0
           },
           {
            "bin_end": -0.09999999999999998,
            "bin_start": -0.19999999999999996,
            "count": 0
           },
           {
            "bin_end": 0,
            "bin_start": -0.09999999999999998,
            "count": 0
           },
           {
            "bin_end": 0.10000000000000009,
            "bin_start": 0,
            "count": 1
           },
           {
            "bin_end": 0.20000000000000007,
            "bin_start": 0.10000000000000009,
            "count": 0
           },
           {
            "bin_end": 0.30000000000000004,
            "bin_start": 0.20000000000000007,
            "count": 0
           },
           {
            "bin_end": 0.4,
            "bin_start": 0.30000000000000004,
            "count": 0
           },
           {
            "bin_end": 0.5,
            "bin_start": 0.4,
            "count": 0
           }
          ],
          "max": "0.0",
          "min": "0.0",
          "nan_count": 0,
          "unique_count": 1
         }
        },
        {
         "dtype": "float64",
         "name": "District.Name",
         "stats": {
          "histogram": [
           {
            "bin_end": 0.10600885515496518,
            "bin_start": 0.006008855154965187,
            "count": 0
           },
           {
            "bin_end": 0.20600885515496517,
            "bin_start": 0.10600885515496518,
            "count": 0
           },
           {
            "bin_end": 0.3060088551549652,
            "bin_start": 0.20600885515496517,
            "count": 0
           },
           {
            "bin_end": 0.40600885515496515,
            "bin_start": 0.3060088551549652,
            "count": 0
           },
           {
            "bin_end": 0.5060088551549651,
            "bin_start": 0.40600885515496515,
            "count": 0
           },
           {
            "bin_end": 0.6060088551549652,
            "bin_start": 0.5060088551549651,
            "count": 1
           },
           {
            "bin_end": 0.7060088551549651,
            "bin_start": 0.6060088551549652,
            "count": 0
           },
           {
            "bin_end": 0.8060088551549651,
            "bin_start": 0.7060088551549651,
            "count": 0
           },
           {
            "bin_end": 0.9060088551549651,
            "bin_start": 0.8060088551549651,
            "count": 0
           },
           {
            "bin_end": 1.006008855154965,
            "bin_start": 0.9060088551549651,
            "count": 0
           }
          ],
          "max": "0.5060088551549652",
          "min": "0.5060088551549652",
          "nan_count": 0,
          "unique_count": 1
         }
        },
        {
         "dtype": "float64",
         "name": "Neighborhood.Name",
         "stats": {
          "histogram": [
           {
            "bin_end": 0.10600885515496518,
            "bin_start": 0.006008855154965187,
            "count": 0
           },
           {
            "bin_end": 0.20600885515496517,
            "bin_start": 0.10600885515496518,
            "count": 0
           },
           {
            "bin_end": 0.3060088551549652,
            "bin_start": 0.20600885515496517,
            "count": 0
           },
           {
            "bin_end": 0.40600885515496515,
            "bin_start": 0.3060088551549652,
            "count": 0
           },
           {
            "bin_end": 0.5060088551549651,
            "bin_start": 0.40600885515496515,
            "count": 0
           },
           {
            "bin_end": 0.6060088551549652,
            "bin_start": 0.5060088551549651,
            "count": 1
           },
           {
            "bin_end": 0.7060088551549651,
            "bin_start": 0.6060088551549652,
            "count": 0
           },
           {
            "bin_end": 0.8060088551549651,
            "bin_start": 0.7060088551549651,
            "count": 0
           },
           {
            "bin_end": 0.9060088551549651,
            "bin_start": 0.8060088551549651,
            "count": 0
           },
           {
            "bin_end": 1.006008855154965,
            "bin_start": 0.9060088551549651,
            "count": 0
           }
          ],
          "max": "0.5060088551549652",
          "min": "0.5060088551549652",
          "nan_count": 0,
          "unique_count": 1
         }
        },
        {
         "dtype": "int64",
         "name": "_deepnote_index_column"
        }
       ],
       "row_count": 1,
       "rows_bottom": null,
       "rows_top": [
        {
         "Bus.Stop": 0,
         "Code": 0,
         "District.Name": 0.5060088551549652,
         "Latitude": 0,
         "Longitude": 0,
         "Neighborhood.Name": 0.5060088551549652,
         "Transport": 0,
         "_deepnote_index_column": 0
        }
       ]
      },
      "text/html": [
       "<div>\n",
       "<style scoped>\n",
       "    .dataframe tbody tr th:only-of-type {\n",
       "        vertical-align: middle;\n",
       "    }\n",
       "\n",
       "    .dataframe tbody tr th {\n",
       "        vertical-align: top;\n",
       "    }\n",
       "\n",
       "    .dataframe thead th {\n",
       "        text-align: right;\n",
       "    }\n",
       "</style>\n",
       "<table border=\"1\" class=\"dataframe\">\n",
       "  <thead>\n",
       "    <tr style=\"text-align: right;\">\n",
       "      <th></th>\n",
       "      <th>Code</th>\n",
       "      <th>Transport</th>\n",
       "      <th>Longitude</th>\n",
       "      <th>Latitude</th>\n",
       "      <th>Bus.Stop</th>\n",
       "      <th>District.Name</th>\n",
       "      <th>Neighborhood.Name</th>\n",
       "    </tr>\n",
       "  </thead>\n",
       "  <tbody>\n",
       "    <tr>\n",
       "      <th>0</th>\n",
       "      <td>0.0</td>\n",
       "      <td>0.0</td>\n",
       "      <td>0.0</td>\n",
       "      <td>0.0</td>\n",
       "      <td>0.0</td>\n",
       "      <td>0.506009</td>\n",
       "      <td>0.506009</td>\n",
       "    </tr>\n",
       "  </tbody>\n",
       "</table>\n",
       "</div>"
      ],
      "text/plain": [
       "   Code  Transport  Longitude  Latitude  Bus.Stop  District.Name  \\\n",
       "0   0.0        0.0        0.0       0.0       0.0       0.506009   \n",
       "\n",
       "   Neighborhood.Name  \n",
       "0           0.506009  "
      ]
     },
     "execution_count": 18,
     "metadata": {},
     "output_type": "execute_result"
    }
   ],
   "source": [
    "#Percentage of missing values in columns: District and Neighborhood\n",
    "\n",
    "all_nulls_bus_stops = bus_stops.isnull().sum()\n",
    "percentage_missin_neigh_dist = (all_nulls_bus_stops/len(bus_stops))*100\n",
    "pd.DataFrame(percentage_missin_neigh_dist).transpose()"
   ]
  },
  {
   "cell_type": "code",
   "execution_count": 19,
   "id": "f9eee725",
   "metadata": {
    "cell_id": "00013-ebc4741e-208a-45dd-bc70-8b9937baf36f",
    "deepnote_cell_type": "code",
    "deepnote_to_be_reexecuted": false,
    "execution_millis": 11,
    "execution_start": 1623403010163,
    "source_hash": "798b4b8",
    "tags": []
   },
   "outputs": [
    {
     "name": "stdout",
     "output_type": "stream",
     "text": [
      "There's only a 0.506 % of missing values in District and Neighborhood columns.\n"
     ]
    }
   ],
   "source": [
    "round(percentage_missin_neigh_dist.iloc[5], 3)\n",
    "print(\"There's only a\", round(percentage_missin_neigh_dist.iloc[5], 3),\"% of missing values in District and Neighborhood columns.\")"
   ]
  },
  {
   "cell_type": "markdown",
   "id": "bdd826bb",
   "metadata": {
    "cell_id": "00013-7f8ea098-df53-4777-9078-4e8c1ead9bc1",
    "deepnote_cell_type": "markdown",
    "tags": []
   },
   "source": [
    "## Density of bus stops per District\n",
    "\n",
    "**We are going to find:**\n",
    "<br>\n",
    "** Bus Stops **\n",
    "<br>\n",
    "* Most dense District by bus stops - Sarrià-Sant Gervasi    439 stops\n",
    "* Least dense District by bus stops - Ciutat Vella           167 stops\n",
    "\n",
    "Frequency distribution of bus stops:\n",
    "- Day bus stop        2324\n",
    "- Night bus stop       828\n",
    "- Airport bus stop       7\n",
    "- Bus station            3\n",
    "\n",
    "Frequency table of Bus stops by District.\n",
    "\n",
    "- Sarrià-Sant Gervasi    439\n",
    "- Sants-Montjuïc         415\n",
    "- Eixample               405\n",
    "- Horta-Guinardó         389\n",
    "- Sant Martí             356\n",
    "- Nou Barris             330\n",
    "- Sant Andreu            228\n",
    "- Gràcia                 210\n",
    "- Les Corts              207\n",
    "- Ciutat Vella           167\n",
    "- NaN                     16\n",
    "\n",
    "<br>\n",
    "\n",
    "** Public Transport **\n",
    "<br>\n",
    "* Most dense District - Eixample         525\n",
    "* Least dense District - Ciutat Vella     194\n",
    "* Frequency distribution of public transport:\n",
    "- Bus stops           3162\n",
    "- Underground         463\n",
    "- Tram                 65\n",
    "- Railway (FGC)        54\n",
    "- RENFE                33\n",
    "- Maritime station     16\n",
    "- Airport train         9\n",
    "- Funicular             6\n",
    "- Cableway              5 \n",
    "\n",
    "Missing values in public Transport data set = 167 NaN We checked a few of the cases and saw that all of them were stops, that are not in Barcelona. \n",
    "Missing values in bus stops = 16\n",
    "Total missing values = 180 \n",
    "\n",
    "Frequency table of Public transport by District (public + bus).\n",
    "\n",
    "- Eixample               525\n",
    "- Sarrià-Sant Gervasi    505\n",
    "- Sants-Montjuïc         468\n",
    "- Sant Martí             426\n",
    "- Horta-Guinardó         420\n",
    "- Nou Barris             369\n",
    "- Sant Andreu            268\n",
    "- Les Corts              231\n",
    "- Gràcia                 227\n",
    "- Ciutat Vella           194\n",
    "- NaN                    180\n",
    "\n",
    "\n",
    "\n",
    "<br>\n",
    "\n",
    "\n",
    "**We assume reasons for a District being the _most_ dense:**\n",
    "<br>\n",
    "- Sightseeing elements\n",
    "- Cultural importance\n",
    "- Administrative importance (Town Hall, Main Post Office, etc)\n",
    "- Population\n",
    "- Higher per capita income \n",
    "- High population\n",
    "- Size of district\n",
    "- ...\n",
    "<br>\n",
    "**We assume reasons for a District being the _least_ dense:**\n",
    "<br>\n",
    "* Minimum cultural, sightseeing, administrative importance\n",
    "* Properties of said district do not allow same investment in public transportation elements (Old Town for example)\n",
    "* Distance from city center\n",
    "* Close to other very dense district\n",
    "* Low population\n",
    "* Size of district\n",
    "* ...\n",
    "<br>\n",
    "\n",
    "**Top 3 Most dense districts by bus stops**:\n",
    "<br>\n",
    "- Sarrià-Sant Gervasi    439 stops\n",
    "- Sants-Montjuïc         415 stops\n",
    "- Eixample               405 stops\n",
    "<br>\n",
    "**Top 3 Least dense districts by bus stops**:\n",
    "<br>\n",
    "- Gràcia                 210 stops\n",
    "- Les Corts              207 stops\n",
    "- Ciutat Vella           167 stops\n",
    "<br>\n",
    "\n",
    "**Top 3 Most dense district by public transport stops**:\n",
    "<br>\n",
    "- Eixample               525 stops\n",
    "- Sarrià-Sant Gervasi    505 stops\n",
    "- Sants-Montjuïc         468 stops\n",
    "<br>\n",
    "**Top 3 Least dense district by public transport stops**:\n",
    "<br>\n",
    "- Les Corts              231 stops\n",
    "- Gràcia                 227 stops\n",
    "- Ciutat Vella           194 stops\n",
    "<br>\n",
    "\n",
    "\n",
    "**Properties of _most_ and _least_ dense:**\n",
    "<br>\n",
    "Sarrià-Sant Gervasi\n",
    "<br>\n",
    "* Highest income per capita district in Barcelona\n",
    "* Highest proportion of bachelor's degrees\n",
    "* Lowest unemployment rate (next to the neighborhing district of Les Corts)\n",
    "* Lowest presence of foreigners\n",
    "* Situated in the western limit of the city\n",
    "<br>\n",
    "Ciutat Vella\n",
    "<br>\n",
    "* Historical city center\n",
    "* ...\n",
    "<br>"
   ]
  },
  {
   "cell_type": "markdown",
   "id": "90105243",
   "metadata": {
    "cell_id": "00013-ed9c6b29-ae84-481d-a71b-ff0cdc9298b6",
    "deepnote_cell_type": "markdown",
    "tags": []
   },
   "source": []
  },
  {
   "cell_type": "code",
   "execution_count": 19,
   "id": "c4b27949",
   "metadata": {
    "cell_id": "00016-c362d4e8-4dc8-41fd-b9f4-beb5ff821549",
    "deepnote_cell_type": "code",
    "deepnote_to_be_reexecuted": false,
    "execution_millis": 1,
    "execution_start": 1623403010170,
    "source_hash": "b623e53d",
    "tags": []
   },
   "outputs": [],
   "source": []
  },
  {
   "cell_type": "markdown",
   "id": "a59bf8d3",
   "metadata": {
    "created_in_deepnote_cell": true,
    "deepnote_cell_type": "markdown",
    "tags": []
   },
   "source": [
    "<a style='text-decoration:none;line-height:16px;display:flex;color:#5B5B62;padding:10px;justify-content:end;' href='https://deepnote.com?utm_source=created-in-deepnote-cell&projectId=c0070a7d-7e19-41ed-914b-a87e6b811e61' target=\"_blank\">\n",
    "<img alt='Created in deepnote.com' style='display:inline;max-height:16px;margin:0px;margin-right:7.5px;' src='data:image/svg+xml;base64,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' > </img>\n",
    "Created in <span style='font-weight:600;margin-left:4px;'>Deepnote</span></a>"
   ]
  }
 ],
 "metadata": {
  "deepnote": {},
  "deepnote_execution_queue": [],
  "deepnote_notebook_id": "000c0850-987f-4326-bdf5-2edc9fe5aa49",
  "kernelspec": {
   "display_name": "Python 3",
   "language": "python",
   "name": "python3"
  },
  "language_info": {
   "codemirror_mode": {
    "name": "ipython",
    "version": 3
   },
   "file_extension": ".py",
   "mimetype": "text/x-python",
   "name": "python",
   "nbconvert_exporter": "python",
   "pygments_lexer": "ipython3",
   "version": "3.9.5"
  },
  "toc": {
   "base_numbering": 1,
   "nav_menu": {},
   "number_sections": true,
   "sideBar": true,
   "skip_h1_title": false,
   "title_cell": "Table of Contents",
   "title_sidebar": "Contents",
   "toc_cell": false,
   "toc_position": {},
   "toc_section_display": true,
   "toc_window_display": false
  },
  "varInspector": {
   "cols": {
    "lenName": 16,
    "lenType": 16,
    "lenVar": 40
   },
   "kernels_config": {
    "python": {
     "delete_cmd_postfix": "",
     "delete_cmd_prefix": "del ",
     "library": "var_list.py",
     "varRefreshCmd": "print(var_dic_list())"
    },
    "r": {
     "delete_cmd_postfix": ") ",
     "delete_cmd_prefix": "rm(",
     "library": "var_list.r",
     "varRefreshCmd": "cat(var_dic_list()) "
    }
   },
   "types_to_exclude": [
    "module",
    "function",
    "builtin_function_or_method",
    "instance",
    "_Feature"
   ],
   "window_display": false
  }
 },
 "nbformat": 4,
 "nbformat_minor": 5
}
